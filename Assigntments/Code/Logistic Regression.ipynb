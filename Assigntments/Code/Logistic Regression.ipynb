{
 "cells": [
  {
   "cell_type": "markdown",
   "metadata": {
    "id": "mggoFi20SFIC"
   },
   "source": [
    "# Logistic Regression"
   ]
  },
  {
   "cell_type": "markdown",
   "metadata": {},
   "source": [
    "## Data Pre-processing"
   ]
  },
  {
   "cell_type": "markdown",
   "metadata": {
    "id": "Z1a8j4tiSKVG"
   },
   "source": [
    "## 1. Data Load"
   ]
  },
  {
   "cell_type": "code",
   "execution_count": null,
   "metadata": {
    "colab": {
     "base_uri": "https://localhost:8080/",
     "height": 460
    },
    "executionInfo": {
     "elapsed": 845,
     "status": "ok",
     "timestamp": 1619243060284,
     "user": {
      "displayName": "­강수빈(학부/공과대학 컴퓨터과학)",
      "photoUrl": "",
      "userId": "07352247864639375532"
     },
     "user_tz": -540
    },
    "id": "aZwvG1losZiR",
    "outputId": "2bf6ffec-dbf3-4cc2-889b-7fcd32f8bb2b"
   },
   "outputs": [
    {
     "data": {
      "text/html": [
       "<div>\n",
       "<style scoped>\n",
       "    .dataframe tbody tr th:only-of-type {\n",
       "        vertical-align: middle;\n",
       "    }\n",
       "\n",
       "    .dataframe tbody tr th {\n",
       "        vertical-align: top;\n",
       "    }\n",
       "\n",
       "    .dataframe thead th {\n",
       "        text-align: right;\n",
       "    }\n",
       "</style>\n",
       "<table border=\"1\" class=\"dataframe\">\n",
       "  <thead>\n",
       "    <tr style=\"text-align: right;\">\n",
       "      <th></th>\n",
       "      <th>competitorname</th>\n",
       "      <th>chocolate</th>\n",
       "      <th>fruity</th>\n",
       "      <th>caramel</th>\n",
       "      <th>peanutyalmondy</th>\n",
       "      <th>nougat</th>\n",
       "      <th>crispedricewafer</th>\n",
       "      <th>hard</th>\n",
       "      <th>bar</th>\n",
       "      <th>pluribus</th>\n",
       "      <th>sugarpercent</th>\n",
       "      <th>pricepercent</th>\n",
       "      <th>winpercent</th>\n",
       "    </tr>\n",
       "  </thead>\n",
       "  <tbody>\n",
       "    <tr>\n",
       "      <th>0</th>\n",
       "      <td>100 Grand</td>\n",
       "      <td>1</td>\n",
       "      <td>0</td>\n",
       "      <td>1</td>\n",
       "      <td>0</td>\n",
       "      <td>0</td>\n",
       "      <td>1</td>\n",
       "      <td>0</td>\n",
       "      <td>1</td>\n",
       "      <td>0</td>\n",
       "      <td>0.732</td>\n",
       "      <td>0.860</td>\n",
       "      <td>66.971725</td>\n",
       "    </tr>\n",
       "    <tr>\n",
       "      <th>1</th>\n",
       "      <td>3 Musketeers</td>\n",
       "      <td>1</td>\n",
       "      <td>0</td>\n",
       "      <td>0</td>\n",
       "      <td>0</td>\n",
       "      <td>1</td>\n",
       "      <td>0</td>\n",
       "      <td>0</td>\n",
       "      <td>1</td>\n",
       "      <td>0</td>\n",
       "      <td>0.604</td>\n",
       "      <td>0.511</td>\n",
       "      <td>67.602936</td>\n",
       "    </tr>\n",
       "    <tr>\n",
       "      <th>2</th>\n",
       "      <td>One dime</td>\n",
       "      <td>0</td>\n",
       "      <td>0</td>\n",
       "      <td>0</td>\n",
       "      <td>0</td>\n",
       "      <td>0</td>\n",
       "      <td>0</td>\n",
       "      <td>0</td>\n",
       "      <td>0</td>\n",
       "      <td>0</td>\n",
       "      <td>0.011</td>\n",
       "      <td>0.116</td>\n",
       "      <td>32.261086</td>\n",
       "    </tr>\n",
       "    <tr>\n",
       "      <th>3</th>\n",
       "      <td>One quarter</td>\n",
       "      <td>0</td>\n",
       "      <td>0</td>\n",
       "      <td>0</td>\n",
       "      <td>0</td>\n",
       "      <td>0</td>\n",
       "      <td>0</td>\n",
       "      <td>0</td>\n",
       "      <td>0</td>\n",
       "      <td>0</td>\n",
       "      <td>0.011</td>\n",
       "      <td>0.511</td>\n",
       "      <td>46.116505</td>\n",
       "    </tr>\n",
       "    <tr>\n",
       "      <th>4</th>\n",
       "      <td>Air Heads</td>\n",
       "      <td>0</td>\n",
       "      <td>1</td>\n",
       "      <td>0</td>\n",
       "      <td>0</td>\n",
       "      <td>0</td>\n",
       "      <td>0</td>\n",
       "      <td>0</td>\n",
       "      <td>0</td>\n",
       "      <td>0</td>\n",
       "      <td>0.906</td>\n",
       "      <td>0.511</td>\n",
       "      <td>52.341465</td>\n",
       "    </tr>\n",
       "    <tr>\n",
       "      <th>...</th>\n",
       "      <td>...</td>\n",
       "      <td>...</td>\n",
       "      <td>...</td>\n",
       "      <td>...</td>\n",
       "      <td>...</td>\n",
       "      <td>...</td>\n",
       "      <td>...</td>\n",
       "      <td>...</td>\n",
       "      <td>...</td>\n",
       "      <td>...</td>\n",
       "      <td>...</td>\n",
       "      <td>...</td>\n",
       "      <td>...</td>\n",
       "    </tr>\n",
       "    <tr>\n",
       "      <th>80</th>\n",
       "      <td>Twizzlers</td>\n",
       "      <td>0</td>\n",
       "      <td>1</td>\n",
       "      <td>0</td>\n",
       "      <td>0</td>\n",
       "      <td>0</td>\n",
       "      <td>0</td>\n",
       "      <td>0</td>\n",
       "      <td>0</td>\n",
       "      <td>0</td>\n",
       "      <td>0.220</td>\n",
       "      <td>0.116</td>\n",
       "      <td>45.466282</td>\n",
       "    </tr>\n",
       "    <tr>\n",
       "      <th>81</th>\n",
       "      <td>Warheads</td>\n",
       "      <td>0</td>\n",
       "      <td>1</td>\n",
       "      <td>0</td>\n",
       "      <td>0</td>\n",
       "      <td>0</td>\n",
       "      <td>0</td>\n",
       "      <td>1</td>\n",
       "      <td>0</td>\n",
       "      <td>0</td>\n",
       "      <td>0.093</td>\n",
       "      <td>0.116</td>\n",
       "      <td>39.011898</td>\n",
       "    </tr>\n",
       "    <tr>\n",
       "      <th>82</th>\n",
       "      <td>WelchÕs Fruit Snacks</td>\n",
       "      <td>0</td>\n",
       "      <td>1</td>\n",
       "      <td>0</td>\n",
       "      <td>0</td>\n",
       "      <td>0</td>\n",
       "      <td>0</td>\n",
       "      <td>0</td>\n",
       "      <td>0</td>\n",
       "      <td>1</td>\n",
       "      <td>0.313</td>\n",
       "      <td>0.313</td>\n",
       "      <td>44.375519</td>\n",
       "    </tr>\n",
       "    <tr>\n",
       "      <th>83</th>\n",
       "      <td>WertherÕs Original Caramel</td>\n",
       "      <td>0</td>\n",
       "      <td>0</td>\n",
       "      <td>1</td>\n",
       "      <td>0</td>\n",
       "      <td>0</td>\n",
       "      <td>0</td>\n",
       "      <td>1</td>\n",
       "      <td>0</td>\n",
       "      <td>0</td>\n",
       "      <td>0.186</td>\n",
       "      <td>0.267</td>\n",
       "      <td>41.904308</td>\n",
       "    </tr>\n",
       "    <tr>\n",
       "      <th>84</th>\n",
       "      <td>Whoppers</td>\n",
       "      <td>1</td>\n",
       "      <td>0</td>\n",
       "      <td>0</td>\n",
       "      <td>0</td>\n",
       "      <td>0</td>\n",
       "      <td>1</td>\n",
       "      <td>0</td>\n",
       "      <td>0</td>\n",
       "      <td>1</td>\n",
       "      <td>0.872</td>\n",
       "      <td>0.848</td>\n",
       "      <td>49.524113</td>\n",
       "    </tr>\n",
       "  </tbody>\n",
       "</table>\n",
       "<p>85 rows × 13 columns</p>\n",
       "</div>"
      ],
      "text/plain": [
       "                competitorname  chocolate  fruity  caramel  peanutyalmondy  \\\n",
       "0                    100 Grand          1       0        1               0   \n",
       "1                 3 Musketeers          1       0        0               0   \n",
       "2                     One dime          0       0        0               0   \n",
       "3                  One quarter          0       0        0               0   \n",
       "4                    Air Heads          0       1        0               0   \n",
       "..                         ...        ...     ...      ...             ...   \n",
       "80                   Twizzlers          0       1        0               0   \n",
       "81                    Warheads          0       1        0               0   \n",
       "82        WelchÕs Fruit Snacks          0       1        0               0   \n",
       "83  WertherÕs Original Caramel          0       0        1               0   \n",
       "84                    Whoppers          1       0        0               0   \n",
       "\n",
       "    nougat  crispedricewafer  hard  bar  pluribus  sugarpercent  pricepercent  \\\n",
       "0        0                 1     0    1         0         0.732         0.860   \n",
       "1        1                 0     0    1         0         0.604         0.511   \n",
       "2        0                 0     0    0         0         0.011         0.116   \n",
       "3        0                 0     0    0         0         0.011         0.511   \n",
       "4        0                 0     0    0         0         0.906         0.511   \n",
       "..     ...               ...   ...  ...       ...           ...           ...   \n",
       "80       0                 0     0    0         0         0.220         0.116   \n",
       "81       0                 0     1    0         0         0.093         0.116   \n",
       "82       0                 0     0    0         1         0.313         0.313   \n",
       "83       0                 0     1    0         0         0.186         0.267   \n",
       "84       0                 1     0    0         1         0.872         0.848   \n",
       "\n",
       "    winpercent  \n",
       "0    66.971725  \n",
       "1    67.602936  \n",
       "2    32.261086  \n",
       "3    46.116505  \n",
       "4    52.341465  \n",
       "..         ...  \n",
       "80   45.466282  \n",
       "81   39.011898  \n",
       "82   44.375519  \n",
       "83   41.904308  \n",
       "84   49.524113  \n",
       "\n",
       "[85 rows x 13 columns]"
      ]
     },
     "execution_count": 16,
     "metadata": {
      "tags": []
     },
     "output_type": "execute_result"
    }
   ],
   "source": [
    "import pandas as pd\n",
    "pd.set_option('display.max_row', 10)\n",
    "candy = pd.read_csv(\"candy-data.csv\")\n",
    "\n",
    "candy"
   ]
  },
  {
   "cell_type": "code",
   "execution_count": null,
   "metadata": {
    "colab": {
     "base_uri": "https://localhost:8080/"
    },
    "executionInfo": {
     "elapsed": 1073,
     "status": "ok",
     "timestamp": 1619243060771,
     "user": {
      "displayName": "­강수빈(학부/공과대학 컴퓨터과학)",
      "photoUrl": "",
      "userId": "07352247864639375532"
     },
     "user_tz": -540
    },
    "id": "pMDX2DDlS2sm",
    "outputId": "3f09c693-b342-45ea-a4e0-7050a5123240"
   },
   "outputs": [
    {
     "name": "stdout",
     "output_type": "stream",
     "text": [
      "<class 'pandas.core.frame.DataFrame'>\n",
      "RangeIndex: 85 entries, 0 to 84\n",
      "Data columns (total 13 columns):\n",
      " #   Column            Non-Null Count  Dtype  \n",
      "---  ------            --------------  -----  \n",
      " 0   competitorname    85 non-null     object \n",
      " 1   chocolate         85 non-null     int64  \n",
      " 2   fruity            85 non-null     int64  \n",
      " 3   caramel           85 non-null     int64  \n",
      " 4   peanutyalmondy    85 non-null     int64  \n",
      " 5   nougat            85 non-null     int64  \n",
      " 6   crispedricewafer  85 non-null     int64  \n",
      " 7   hard              85 non-null     int64  \n",
      " 8   bar               85 non-null     int64  \n",
      " 9   pluribus          85 non-null     int64  \n",
      " 10  sugarpercent      85 non-null     float64\n",
      " 11  pricepercent      85 non-null     float64\n",
      " 12  winpercent        85 non-null     float64\n",
      "dtypes: float64(3), int64(9), object(1)\n",
      "memory usage: 8.8+ KB\n"
     ]
    }
   ],
   "source": [
    "candy.info()"
   ]
  },
  {
   "cell_type": "code",
   "execution_count": null,
   "metadata": {
    "colab": {
     "base_uri": "https://localhost:8080/"
    },
    "executionInfo": {
     "elapsed": 1101,
     "status": "ok",
     "timestamp": 1619243061136,
     "user": {
      "displayName": "­강수빈(학부/공과대학 컴퓨터과학)",
      "photoUrl": "",
      "userId": "07352247864639375532"
     },
     "user_tz": -540
    },
    "id": "TmDNE1TqS5hE",
    "outputId": "2e2bbdf0-5d64-49b3-c614-78bb4c0fec65"
   },
   "outputs": [
    {
     "data": {
      "text/plain": [
       "competitorname    0\n",
       "chocolate         0\n",
       "fruity            0\n",
       "caramel           0\n",
       "peanutyalmondy    0\n",
       "                 ..\n",
       "bar               0\n",
       "pluribus          0\n",
       "sugarpercent      0\n",
       "pricepercent      0\n",
       "winpercent        0\n",
       "Length: 13, dtype: int64"
      ]
     },
     "execution_count": 18,
     "metadata": {
      "tags": []
     },
     "output_type": "execute_result"
    }
   ],
   "source": [
    "#결측치 확인\n",
    "candy.isnull().sum()"
   ]
  },
  {
   "cell_type": "code",
   "execution_count": null,
   "metadata": {
    "colab": {
     "base_uri": "https://localhost:8080/",
     "height": 307
    },
    "executionInfo": {
     "elapsed": 1569,
     "status": "ok",
     "timestamp": 1619243062088,
     "user": {
      "displayName": "­강수빈(학부/공과대학 컴퓨터과학)",
      "photoUrl": "",
      "userId": "07352247864639375532"
     },
     "user_tz": -540
    },
    "id": "CNtou6oYS9Dt",
    "outputId": "d2387ed8-e2cd-40ae-be8c-3077dbdab637"
   },
   "outputs": [
    {
     "data": {
      "text/html": [
       "<div>\n",
       "<style scoped>\n",
       "    .dataframe tbody tr th:only-of-type {\n",
       "        vertical-align: middle;\n",
       "    }\n",
       "\n",
       "    .dataframe tbody tr th {\n",
       "        vertical-align: top;\n",
       "    }\n",
       "\n",
       "    .dataframe thead th {\n",
       "        text-align: right;\n",
       "    }\n",
       "</style>\n",
       "<table border=\"1\" class=\"dataframe\">\n",
       "  <thead>\n",
       "    <tr style=\"text-align: right;\">\n",
       "      <th></th>\n",
       "      <th>chocolate</th>\n",
       "      <th>fruity</th>\n",
       "      <th>caramel</th>\n",
       "      <th>peanutyalmondy</th>\n",
       "      <th>nougat</th>\n",
       "      <th>crispedricewafer</th>\n",
       "      <th>hard</th>\n",
       "      <th>bar</th>\n",
       "      <th>pluribus</th>\n",
       "      <th>sugarpercent</th>\n",
       "      <th>pricepercent</th>\n",
       "      <th>winpercent</th>\n",
       "    </tr>\n",
       "  </thead>\n",
       "  <tbody>\n",
       "    <tr>\n",
       "      <th>count</th>\n",
       "      <td>85.000000</td>\n",
       "      <td>85.000000</td>\n",
       "      <td>85.000000</td>\n",
       "      <td>85.000000</td>\n",
       "      <td>85.000000</td>\n",
       "      <td>85.000000</td>\n",
       "      <td>85.000000</td>\n",
       "      <td>85.000000</td>\n",
       "      <td>85.000000</td>\n",
       "      <td>85.000000</td>\n",
       "      <td>85.000000</td>\n",
       "      <td>85.000000</td>\n",
       "    </tr>\n",
       "    <tr>\n",
       "      <th>mean</th>\n",
       "      <td>0.435294</td>\n",
       "      <td>0.447059</td>\n",
       "      <td>0.164706</td>\n",
       "      <td>0.164706</td>\n",
       "      <td>0.082353</td>\n",
       "      <td>0.082353</td>\n",
       "      <td>0.176471</td>\n",
       "      <td>0.247059</td>\n",
       "      <td>0.517647</td>\n",
       "      <td>0.478647</td>\n",
       "      <td>0.468882</td>\n",
       "      <td>50.316764</td>\n",
       "    </tr>\n",
       "    <tr>\n",
       "      <th>std</th>\n",
       "      <td>0.498738</td>\n",
       "      <td>0.500140</td>\n",
       "      <td>0.373116</td>\n",
       "      <td>0.373116</td>\n",
       "      <td>0.276533</td>\n",
       "      <td>0.276533</td>\n",
       "      <td>0.383482</td>\n",
       "      <td>0.433861</td>\n",
       "      <td>0.502654</td>\n",
       "      <td>0.282778</td>\n",
       "      <td>0.285740</td>\n",
       "      <td>14.714357</td>\n",
       "    </tr>\n",
       "    <tr>\n",
       "      <th>min</th>\n",
       "      <td>0.000000</td>\n",
       "      <td>0.000000</td>\n",
       "      <td>0.000000</td>\n",
       "      <td>0.000000</td>\n",
       "      <td>0.000000</td>\n",
       "      <td>0.000000</td>\n",
       "      <td>0.000000</td>\n",
       "      <td>0.000000</td>\n",
       "      <td>0.000000</td>\n",
       "      <td>0.011000</td>\n",
       "      <td>0.011000</td>\n",
       "      <td>22.445341</td>\n",
       "    </tr>\n",
       "    <tr>\n",
       "      <th>25%</th>\n",
       "      <td>0.000000</td>\n",
       "      <td>0.000000</td>\n",
       "      <td>0.000000</td>\n",
       "      <td>0.000000</td>\n",
       "      <td>0.000000</td>\n",
       "      <td>0.000000</td>\n",
       "      <td>0.000000</td>\n",
       "      <td>0.000000</td>\n",
       "      <td>0.000000</td>\n",
       "      <td>0.220000</td>\n",
       "      <td>0.255000</td>\n",
       "      <td>39.141056</td>\n",
       "    </tr>\n",
       "    <tr>\n",
       "      <th>50%</th>\n",
       "      <td>0.000000</td>\n",
       "      <td>0.000000</td>\n",
       "      <td>0.000000</td>\n",
       "      <td>0.000000</td>\n",
       "      <td>0.000000</td>\n",
       "      <td>0.000000</td>\n",
       "      <td>0.000000</td>\n",
       "      <td>0.000000</td>\n",
       "      <td>1.000000</td>\n",
       "      <td>0.465000</td>\n",
       "      <td>0.465000</td>\n",
       "      <td>47.829754</td>\n",
       "    </tr>\n",
       "    <tr>\n",
       "      <th>75%</th>\n",
       "      <td>1.000000</td>\n",
       "      <td>1.000000</td>\n",
       "      <td>0.000000</td>\n",
       "      <td>0.000000</td>\n",
       "      <td>0.000000</td>\n",
       "      <td>0.000000</td>\n",
       "      <td>0.000000</td>\n",
       "      <td>0.000000</td>\n",
       "      <td>1.000000</td>\n",
       "      <td>0.732000</td>\n",
       "      <td>0.651000</td>\n",
       "      <td>59.863998</td>\n",
       "    </tr>\n",
       "    <tr>\n",
       "      <th>max</th>\n",
       "      <td>1.000000</td>\n",
       "      <td>1.000000</td>\n",
       "      <td>1.000000</td>\n",
       "      <td>1.000000</td>\n",
       "      <td>1.000000</td>\n",
       "      <td>1.000000</td>\n",
       "      <td>1.000000</td>\n",
       "      <td>1.000000</td>\n",
       "      <td>1.000000</td>\n",
       "      <td>0.988000</td>\n",
       "      <td>0.976000</td>\n",
       "      <td>84.180290</td>\n",
       "    </tr>\n",
       "  </tbody>\n",
       "</table>\n",
       "</div>"
      ],
      "text/plain": [
       "       chocolate     fruity    caramel  peanutyalmondy     nougat  \\\n",
       "count  85.000000  85.000000  85.000000       85.000000  85.000000   \n",
       "mean    0.435294   0.447059   0.164706        0.164706   0.082353   \n",
       "std     0.498738   0.500140   0.373116        0.373116   0.276533   \n",
       "min     0.000000   0.000000   0.000000        0.000000   0.000000   \n",
       "25%     0.000000   0.000000   0.000000        0.000000   0.000000   \n",
       "50%     0.000000   0.000000   0.000000        0.000000   0.000000   \n",
       "75%     1.000000   1.000000   0.000000        0.000000   0.000000   \n",
       "max     1.000000   1.000000   1.000000        1.000000   1.000000   \n",
       "\n",
       "       crispedricewafer       hard        bar   pluribus  sugarpercent  \\\n",
       "count         85.000000  85.000000  85.000000  85.000000     85.000000   \n",
       "mean           0.082353   0.176471   0.247059   0.517647      0.478647   \n",
       "std            0.276533   0.383482   0.433861   0.502654      0.282778   \n",
       "min            0.000000   0.000000   0.000000   0.000000      0.011000   \n",
       "25%            0.000000   0.000000   0.000000   0.000000      0.220000   \n",
       "50%            0.000000   0.000000   0.000000   1.000000      0.465000   \n",
       "75%            0.000000   0.000000   0.000000   1.000000      0.732000   \n",
       "max            1.000000   1.000000   1.000000   1.000000      0.988000   \n",
       "\n",
       "       pricepercent  winpercent  \n",
       "count     85.000000   85.000000  \n",
       "mean       0.468882   50.316764  \n",
       "std        0.285740   14.714357  \n",
       "min        0.011000   22.445341  \n",
       "25%        0.255000   39.141056  \n",
       "50%        0.465000   47.829754  \n",
       "75%        0.651000   59.863998  \n",
       "max        0.976000   84.180290  "
      ]
     },
     "execution_count": 19,
     "metadata": {
      "tags": []
     },
     "output_type": "execute_result"
    }
   ],
   "source": [
    "#데이터 분포 확인\n",
    "candy.describe()"
   ]
  },
  {
   "cell_type": "code",
   "execution_count": null,
   "metadata": {
    "colab": {
     "base_uri": "https://localhost:8080/",
     "height": 427
    },
    "executionInfo": {
     "elapsed": 1418,
     "status": "ok",
     "timestamp": 1619243062089,
     "user": {
      "displayName": "­강수빈(학부/공과대학 컴퓨터과학)",
      "photoUrl": "",
      "userId": "07352247864639375532"
     },
     "user_tz": -540
    },
    "id": "TYnoxXTlTAK1",
    "outputId": "c829ed68-7ac6-46e5-8ff2-73fe0c7cb05b"
   },
   "outputs": [
    {
     "data": {
      "text/html": [
       "<div>\n",
       "<style scoped>\n",
       "    .dataframe tbody tr th:only-of-type {\n",
       "        vertical-align: middle;\n",
       "    }\n",
       "\n",
       "    .dataframe tbody tr th {\n",
       "        vertical-align: top;\n",
       "    }\n",
       "\n",
       "    .dataframe thead th {\n",
       "        text-align: right;\n",
       "    }\n",
       "</style>\n",
       "<table border=\"1\" class=\"dataframe\">\n",
       "  <thead>\n",
       "    <tr style=\"text-align: right;\">\n",
       "      <th></th>\n",
       "      <th>chocolate</th>\n",
       "      <th>fruity</th>\n",
       "      <th>caramel</th>\n",
       "      <th>peanutyalmondy</th>\n",
       "      <th>nougat</th>\n",
       "      <th>crispedricewafer</th>\n",
       "      <th>hard</th>\n",
       "      <th>bar</th>\n",
       "      <th>pluribus</th>\n",
       "      <th>sugarpercent</th>\n",
       "      <th>pricepercent</th>\n",
       "      <th>winpercent</th>\n",
       "    </tr>\n",
       "  </thead>\n",
       "  <tbody>\n",
       "    <tr>\n",
       "      <th>0</th>\n",
       "      <td>1</td>\n",
       "      <td>0</td>\n",
       "      <td>1</td>\n",
       "      <td>0</td>\n",
       "      <td>0</td>\n",
       "      <td>1</td>\n",
       "      <td>0</td>\n",
       "      <td>1</td>\n",
       "      <td>0</td>\n",
       "      <td>0.732</td>\n",
       "      <td>0.860</td>\n",
       "      <td>66.971725</td>\n",
       "    </tr>\n",
       "    <tr>\n",
       "      <th>1</th>\n",
       "      <td>1</td>\n",
       "      <td>0</td>\n",
       "      <td>0</td>\n",
       "      <td>0</td>\n",
       "      <td>1</td>\n",
       "      <td>0</td>\n",
       "      <td>0</td>\n",
       "      <td>1</td>\n",
       "      <td>0</td>\n",
       "      <td>0.604</td>\n",
       "      <td>0.511</td>\n",
       "      <td>67.602936</td>\n",
       "    </tr>\n",
       "    <tr>\n",
       "      <th>2</th>\n",
       "      <td>0</td>\n",
       "      <td>0</td>\n",
       "      <td>0</td>\n",
       "      <td>0</td>\n",
       "      <td>0</td>\n",
       "      <td>0</td>\n",
       "      <td>0</td>\n",
       "      <td>0</td>\n",
       "      <td>0</td>\n",
       "      <td>0.011</td>\n",
       "      <td>0.116</td>\n",
       "      <td>32.261086</td>\n",
       "    </tr>\n",
       "    <tr>\n",
       "      <th>3</th>\n",
       "      <td>0</td>\n",
       "      <td>0</td>\n",
       "      <td>0</td>\n",
       "      <td>0</td>\n",
       "      <td>0</td>\n",
       "      <td>0</td>\n",
       "      <td>0</td>\n",
       "      <td>0</td>\n",
       "      <td>0</td>\n",
       "      <td>0.011</td>\n",
       "      <td>0.511</td>\n",
       "      <td>46.116505</td>\n",
       "    </tr>\n",
       "    <tr>\n",
       "      <th>4</th>\n",
       "      <td>0</td>\n",
       "      <td>1</td>\n",
       "      <td>0</td>\n",
       "      <td>0</td>\n",
       "      <td>0</td>\n",
       "      <td>0</td>\n",
       "      <td>0</td>\n",
       "      <td>0</td>\n",
       "      <td>0</td>\n",
       "      <td>0.906</td>\n",
       "      <td>0.511</td>\n",
       "      <td>52.341465</td>\n",
       "    </tr>\n",
       "    <tr>\n",
       "      <th>...</th>\n",
       "      <td>...</td>\n",
       "      <td>...</td>\n",
       "      <td>...</td>\n",
       "      <td>...</td>\n",
       "      <td>...</td>\n",
       "      <td>...</td>\n",
       "      <td>...</td>\n",
       "      <td>...</td>\n",
       "      <td>...</td>\n",
       "      <td>...</td>\n",
       "      <td>...</td>\n",
       "      <td>...</td>\n",
       "    </tr>\n",
       "    <tr>\n",
       "      <th>80</th>\n",
       "      <td>0</td>\n",
       "      <td>1</td>\n",
       "      <td>0</td>\n",
       "      <td>0</td>\n",
       "      <td>0</td>\n",
       "      <td>0</td>\n",
       "      <td>0</td>\n",
       "      <td>0</td>\n",
       "      <td>0</td>\n",
       "      <td>0.220</td>\n",
       "      <td>0.116</td>\n",
       "      <td>45.466282</td>\n",
       "    </tr>\n",
       "    <tr>\n",
       "      <th>81</th>\n",
       "      <td>0</td>\n",
       "      <td>1</td>\n",
       "      <td>0</td>\n",
       "      <td>0</td>\n",
       "      <td>0</td>\n",
       "      <td>0</td>\n",
       "      <td>1</td>\n",
       "      <td>0</td>\n",
       "      <td>0</td>\n",
       "      <td>0.093</td>\n",
       "      <td>0.116</td>\n",
       "      <td>39.011898</td>\n",
       "    </tr>\n",
       "    <tr>\n",
       "      <th>82</th>\n",
       "      <td>0</td>\n",
       "      <td>1</td>\n",
       "      <td>0</td>\n",
       "      <td>0</td>\n",
       "      <td>0</td>\n",
       "      <td>0</td>\n",
       "      <td>0</td>\n",
       "      <td>0</td>\n",
       "      <td>1</td>\n",
       "      <td>0.313</td>\n",
       "      <td>0.313</td>\n",
       "      <td>44.375519</td>\n",
       "    </tr>\n",
       "    <tr>\n",
       "      <th>83</th>\n",
       "      <td>0</td>\n",
       "      <td>0</td>\n",
       "      <td>1</td>\n",
       "      <td>0</td>\n",
       "      <td>0</td>\n",
       "      <td>0</td>\n",
       "      <td>1</td>\n",
       "      <td>0</td>\n",
       "      <td>0</td>\n",
       "      <td>0.186</td>\n",
       "      <td>0.267</td>\n",
       "      <td>41.904308</td>\n",
       "    </tr>\n",
       "    <tr>\n",
       "      <th>84</th>\n",
       "      <td>1</td>\n",
       "      <td>0</td>\n",
       "      <td>0</td>\n",
       "      <td>0</td>\n",
       "      <td>0</td>\n",
       "      <td>1</td>\n",
       "      <td>0</td>\n",
       "      <td>0</td>\n",
       "      <td>1</td>\n",
       "      <td>0.872</td>\n",
       "      <td>0.848</td>\n",
       "      <td>49.524113</td>\n",
       "    </tr>\n",
       "  </tbody>\n",
       "</table>\n",
       "<p>85 rows × 12 columns</p>\n",
       "</div>"
      ],
      "text/plain": [
       "    chocolate  fruity  caramel  peanutyalmondy  nougat  crispedricewafer  \\\n",
       "0           1       0        1               0       0                 1   \n",
       "1           1       0        0               0       1                 0   \n",
       "2           0       0        0               0       0                 0   \n",
       "3           0       0        0               0       0                 0   \n",
       "4           0       1        0               0       0                 0   \n",
       "..        ...     ...      ...             ...     ...               ...   \n",
       "80          0       1        0               0       0                 0   \n",
       "81          0       1        0               0       0                 0   \n",
       "82          0       1        0               0       0                 0   \n",
       "83          0       0        1               0       0                 0   \n",
       "84          1       0        0               0       0                 1   \n",
       "\n",
       "    hard  bar  pluribus  sugarpercent  pricepercent  winpercent  \n",
       "0      0    1         0         0.732         0.860   66.971725  \n",
       "1      0    1         0         0.604         0.511   67.602936  \n",
       "2      0    0         0         0.011         0.116   32.261086  \n",
       "3      0    0         0         0.011         0.511   46.116505  \n",
       "4      0    0         0         0.906         0.511   52.341465  \n",
       "..   ...  ...       ...           ...           ...         ...  \n",
       "80     0    0         0         0.220         0.116   45.466282  \n",
       "81     1    0         0         0.093         0.116   39.011898  \n",
       "82     0    0         1         0.313         0.313   44.375519  \n",
       "83     1    0         0         0.186         0.267   41.904308  \n",
       "84     0    0         1         0.872         0.848   49.524113  \n",
       "\n",
       "[85 rows x 12 columns]"
      ]
     },
     "execution_count": 20,
     "metadata": {
      "tags": []
     },
     "output_type": "execute_result"
    }
   ],
   "source": [
    "#필요 없는 열 제거\n",
    "candy.drop(['competitorname'], axis = 1, inplace = True)\n",
    "candy"
   ]
  },
  {
   "cell_type": "markdown",
   "metadata": {
    "id": "XGUF0brxSNtF"
   },
   "source": [
    "## 2. Data Visualize"
   ]
  },
  {
   "cell_type": "code",
   "execution_count": null,
   "metadata": {
    "id": "ANBRohdcSUDj"
   },
   "outputs": [],
   "source": [
    "import matplotlib.pyplot as plt\n",
    "import seaborn as sns"
   ]
  },
  {
   "cell_type": "code",
   "execution_count": null,
   "metadata": {
    "colab": {
     "base_uri": "https://localhost:8080/",
     "height": 437
    },
    "executionInfo": {
     "elapsed": 1835,
     "status": "ok",
     "timestamp": 1619243063518,
     "user": {
      "displayName": "­강수빈(학부/공과대학 컴퓨터과학)",
      "photoUrl": "",
      "userId": "07352247864639375532"
     },
     "user_tz": -540
    },
    "id": "eNskqQaQSVaG",
    "outputId": "a40cf5f7-5299-48cd-f2bf-031169b47efe"
   },
   "outputs": [
    {
     "data": {
      "image/png": "[encoded data removed]",
      "text/plain": [
       "<Figure size 1200x480 with 6 Axes>"
      ]
     },
     "metadata": {
      "needs_background": "light",
      "tags": []
     },
     "output_type": "display_data"
    }
   ],
   "source": [
    "# taste 속성\n",
    "plt.figure(figsize=(15,6), dpi=80)\n",
    "\n",
    "plt.subplot(161)\n",
    "sns.countplot(x=candy['chocolate'])\n",
    "plt.ylim([0, 100])\n",
    "plt.title(\"candy contains chocolate\")\n",
    "\n",
    "plt.subplot(162)\n",
    "sns.countplot(x=candy['fruity'])\n",
    "plt.ylim([0, 100])\n",
    "plt.title(\"candy contains fruity\")\n",
    "\n",
    "plt.subplot(163)\n",
    "sns.countplot(x=candy['caramel'])\n",
    "plt.ylim([0, 100])\n",
    "plt.title(\"candy contains caramel\")\n",
    "\n",
    "plt.subplot(164)\n",
    "sns.countplot(x=candy['peanutyalmondy'])\n",
    "plt.ylim([0, 100])\n",
    "plt.title(\"candy contains peanutyalmondy\")\n",
    "\n",
    "plt.subplot(165)\n",
    "sns.countplot(x=candy['nougat'])\n",
    "plt.ylim([0, 100])\n",
    "plt.title(\"candy contains nougat\")\n",
    "\n",
    "plt.subplot(166)\n",
    "sns.countplot(x=candy['crispedricewafer'])\n",
    "plt.ylim([0, 100])\n",
    "plt.title(\"candy contains crispedricewafer\")\n",
    "\n",
    "#ax.set_yscale('log')\n",
    "plt.tight_layout()\n",
    "plt.show()"
   ]
  },
  {
   "cell_type": "code",
   "execution_count": null,
   "metadata": {
    "colab": {
     "base_uri": "https://localhost:8080/",
     "height": 281
    },
    "executionInfo": {
     "elapsed": 3008,
     "status": "ok",
     "timestamp": 1619243064925,
     "user": {
      "displayName": "­강수빈(학부/공과대학 컴퓨터과학)",
      "photoUrl": "",
      "userId": "07352247864639375532"
     },
     "user_tz": -540
    },
    "id": "_FPLmDiMSdQH",
    "outputId": "7716bff1-cecd-45b8-cd88-1e71a3af19f1"
   },
   "outputs": [
    {
     "data": {
      "text/plain": [
       "Text(0.5, 1.0, 'type of candy')"
      ]
     },
     "execution_count": 23,
     "metadata": {
      "tags": []
     },
     "output_type": "execute_result"
    },
    {
     "data": {
      "image/png": "[encoded data removed]",
      "text/plain": [
       "<Figure size 240x240 with 1 Axes>"
      ]
     },
     "metadata": {
      "needs_background": "light",
      "tags": []
     },
     "output_type": "display_data"
    }
   ],
   "source": [
    "#type 속성\n",
    "def map_type(x,y):\n",
    "    if x == 1 and y==0:\n",
    "        return(\"hard\")\n",
    "    elif x==0 and y==1:\n",
    "        return (\"bar\")\n",
    "    elif x==0 and y==0:\n",
    "        return(\"soft\")\n",
    "    elif x==1 and y==1:\n",
    "        return(\"soft\")\n",
    "\n",
    "candy['type'] = candy[['hard','bar']].apply(lambda x: map_type(x['hard'],x['bar']) , axis=1)\n",
    "\n",
    "plt.figure(figsize=(3,3), dpi=80)\n",
    "sns.countplot(x=candy['type'])\n",
    "plt.title(\"type of candy\")"
   ]
  },
  {
   "cell_type": "code",
   "execution_count": null,
   "metadata": {
    "colab": {
     "base_uri": "https://localhost:8080/",
     "height": 495
    },
    "executionInfo": {
     "elapsed": 3578,
     "status": "ok",
     "timestamp": 1619243065815,
     "user": {
      "displayName": "­강수빈(학부/공과대학 컴퓨터과학)",
      "photoUrl": "",
      "userId": "07352247864639375532"
     },
     "user_tz": -540
    },
    "id": "KXiKKjpIShtn",
    "outputId": "addeedeb-d148-4518-b13c-cd7f4f46b238"
   },
   "outputs": [
    {
     "name": "stderr",
     "output_type": "stream",
     "text": [
      "/usr/local/lib/python3.7/dist-packages/seaborn/distributions.py:2557: FutureWarning: `distplot` is a deprecated function and will be removed in a future version. Please adapt your code to use either `displot` (a figure-level function with similar flexibility) or `histplot` (an axes-level function for histograms).\n",
      "  warnings.warn(msg, FutureWarning)\n",
      "/usr/local/lib/python3.7/dist-packages/seaborn/distributions.py:2557: FutureWarning: `distplot` is a deprecated function and will be removed in a future version. Please adapt your code to use either `displot` (a figure-level function with similar flexibility) or `histplot` (an axes-level function for histograms).\n",
      "  warnings.warn(msg, FutureWarning)\n",
      "/usr/local/lib/python3.7/dist-packages/seaborn/distributions.py:2557: FutureWarning: `distplot` is a deprecated function and will be removed in a future version. Please adapt your code to use either `displot` (a figure-level function with similar flexibility) or `histplot` (an axes-level function for histograms).\n",
      "  warnings.warn(msg, FutureWarning)\n"
     ]
    },
    {
     "data": {
      "image/png": "[encoded data removed]",
      "text/plain": [
       "<Figure size 1200x400 with 3 Axes>"
      ]
     },
     "metadata": {
      "needs_background": "light",
      "tags": []
     },
     "output_type": "display_data"
    }
   ],
   "source": [
    "#설문 결과\n",
    "plt.figure(figsize=(15,5), dpi=80)\n",
    "plt.subplot(1,3,1)\n",
    "sns.distplot(candy['sugarpercent'])\n",
    "plt.title(\"distribution of sugarpercent\")\n",
    "\n",
    "plt.subplot(1,3,2)\n",
    "sns.distplot(candy['pricepercent'])\n",
    "plt.title(\"distribution of pricepercent\")\n",
    "\n",
    "plt.subplot(1,3,3)\n",
    "sns.distplot(candy['winpercent'])\n",
    "plt.title(\"distribution of winpercent\")\n",
    "\n",
    "plt.tight_layout()\n",
    "plt.show()"
   ]
  },
  {
   "cell_type": "markdown",
   "metadata": {
    "id": "qFk8Cw0WSkJu"
   },
   "source": [
    "## 3. Data Preprocess"
   ]
  },
  {
   "cell_type": "markdown",
   "metadata": {
    "id": "nhPGNAMbUNIA"
   },
   "source": [
    "### Step1. 결측치 제거"
   ]
  },
  {
   "cell_type": "code",
   "execution_count": null,
   "metadata": {
    "colab": {
     "base_uri": "https://localhost:8080/",
     "height": 247
    },
    "executionInfo": {
     "elapsed": 1044,
     "status": "ok",
     "timestamp": 1619243066210,
     "user": {
      "displayName": "­강수빈(학부/공과대학 컴퓨터과학)",
      "photoUrl": "",
      "userId": "07352247864639375532"
     },
     "user_tz": -540
    },
    "id": "Bo6asyShUQlk",
    "outputId": "928f74d9-7023-4497-cfa7-8016da442a79"
   },
   "outputs": [
    {
     "data": {
      "text/html": [
       "<div>\n",
       "<style scoped>\n",
       "    .dataframe tbody tr th:only-of-type {\n",
       "        vertical-align: middle;\n",
       "    }\n",
       "\n",
       "    .dataframe tbody tr th {\n",
       "        vertical-align: top;\n",
       "    }\n",
       "\n",
       "    .dataframe thead th {\n",
       "        text-align: right;\n",
       "    }\n",
       "</style>\n",
       "<table border=\"1\" class=\"dataframe\">\n",
       "  <thead>\n",
       "    <tr style=\"text-align: right;\">\n",
       "      <th></th>\n",
       "      <th>chocolate</th>\n",
       "      <th>fruity</th>\n",
       "      <th>caramel</th>\n",
       "      <th>peanutyalmondy</th>\n",
       "      <th>nougat</th>\n",
       "      <th>crispedricewafer</th>\n",
       "      <th>hard</th>\n",
       "      <th>bar</th>\n",
       "      <th>pluribus</th>\n",
       "      <th>sugarpercent</th>\n",
       "      <th>pricepercent</th>\n",
       "      <th>winpercent</th>\n",
       "      <th>type</th>\n",
       "    </tr>\n",
       "  </thead>\n",
       "  <tbody>\n",
       "    <tr>\n",
       "      <th>2</th>\n",
       "      <td>0</td>\n",
       "      <td>0</td>\n",
       "      <td>0</td>\n",
       "      <td>0</td>\n",
       "      <td>0</td>\n",
       "      <td>0</td>\n",
       "      <td>0</td>\n",
       "      <td>0</td>\n",
       "      <td>0</td>\n",
       "      <td>0.011</td>\n",
       "      <td>0.116</td>\n",
       "      <td>32.261086</td>\n",
       "      <td>soft</td>\n",
       "    </tr>\n",
       "    <tr>\n",
       "      <th>3</th>\n",
       "      <td>0</td>\n",
       "      <td>0</td>\n",
       "      <td>0</td>\n",
       "      <td>0</td>\n",
       "      <td>0</td>\n",
       "      <td>0</td>\n",
       "      <td>0</td>\n",
       "      <td>0</td>\n",
       "      <td>0</td>\n",
       "      <td>0.011</td>\n",
       "      <td>0.511</td>\n",
       "      <td>46.116505</td>\n",
       "      <td>soft</td>\n",
       "    </tr>\n",
       "    <tr>\n",
       "      <th>8</th>\n",
       "      <td>0</td>\n",
       "      <td>0</td>\n",
       "      <td>0</td>\n",
       "      <td>0</td>\n",
       "      <td>0</td>\n",
       "      <td>0</td>\n",
       "      <td>0</td>\n",
       "      <td>0</td>\n",
       "      <td>1</td>\n",
       "      <td>0.906</td>\n",
       "      <td>0.325</td>\n",
       "      <td>38.010963</td>\n",
       "      <td>soft</td>\n",
       "    </tr>\n",
       "    <tr>\n",
       "      <th>19</th>\n",
       "      <td>0</td>\n",
       "      <td>0</td>\n",
       "      <td>0</td>\n",
       "      <td>0</td>\n",
       "      <td>0</td>\n",
       "      <td>0</td>\n",
       "      <td>0</td>\n",
       "      <td>0</td>\n",
       "      <td>1</td>\n",
       "      <td>0.465</td>\n",
       "      <td>0.465</td>\n",
       "      <td>34.158958</td>\n",
       "      <td>soft</td>\n",
       "    </tr>\n",
       "    <tr>\n",
       "      <th>48</th>\n",
       "      <td>0</td>\n",
       "      <td>0</td>\n",
       "      <td>0</td>\n",
       "      <td>0</td>\n",
       "      <td>0</td>\n",
       "      <td>0</td>\n",
       "      <td>0</td>\n",
       "      <td>0</td>\n",
       "      <td>1</td>\n",
       "      <td>0.093</td>\n",
       "      <td>0.023</td>\n",
       "      <td>37.722336</td>\n",
       "      <td>soft</td>\n",
       "    </tr>\n",
       "    <tr>\n",
       "      <th>57</th>\n",
       "      <td>0</td>\n",
       "      <td>0</td>\n",
       "      <td>0</td>\n",
       "      <td>0</td>\n",
       "      <td>0</td>\n",
       "      <td>0</td>\n",
       "      <td>1</td>\n",
       "      <td>0</td>\n",
       "      <td>1</td>\n",
       "      <td>0.732</td>\n",
       "      <td>0.069</td>\n",
       "      <td>29.703691</td>\n",
       "      <td>hard</td>\n",
       "    </tr>\n",
       "  </tbody>\n",
       "</table>\n",
       "</div>"
      ],
      "text/plain": [
       "    chocolate  fruity  caramel  peanutyalmondy  nougat  crispedricewafer  \\\n",
       "2           0       0        0               0       0                 0   \n",
       "3           0       0        0               0       0                 0   \n",
       "8           0       0        0               0       0                 0   \n",
       "19          0       0        0               0       0                 0   \n",
       "48          0       0        0               0       0                 0   \n",
       "57          0       0        0               0       0                 0   \n",
       "\n",
       "    hard  bar  pluribus  sugarpercent  pricepercent  winpercent  type  \n",
       "2      0    0         0         0.011         0.116   32.261086  soft  \n",
       "3      0    0         0         0.011         0.511   46.116505  soft  \n",
       "8      0    0         1         0.906         0.325   38.010963  soft  \n",
       "19     0    0         1         0.465         0.465   34.158958  soft  \n",
       "48     0    0         1         0.093         0.023   37.722336  soft  \n",
       "57     1    0         1         0.732         0.069   29.703691  hard  "
      ]
     },
     "execution_count": 25,
     "metadata": {
      "tags": []
     },
     "output_type": "execute_result"
    }
   ],
   "source": [
    "candy[(candy['chocolate']==0)&(candy['fruity']==0)&(candy['caramel']==0)&(candy['peanutyalmondy']==0)&(candy['nougat']==0)&(candy['crispedricewafer']==0)]"
   ]
  },
  {
   "cell_type": "code",
   "execution_count": null,
   "metadata": {
    "id": "UJ_-_N8GUyTg"
   },
   "outputs": [],
   "source": [
    "#Taste를 나타내는 속성들 중 아무것도 나타나지 않은 속성이 있을 경우 결측치로 판단하고 해당 열 제거 \n",
    "candy = candy.drop(index=[2, 3, 8, 19, 48, 57])"
   ]
  },
  {
   "cell_type": "code",
   "execution_count": null,
   "metadata": {
    "colab": {
     "base_uri": "https://localhost:8080/",
     "height": 407
    },
    "executionInfo": {
     "elapsed": 1059,
     "status": "ok",
     "timestamp": 1619243067557,
     "user": {
      "displayName": "­강수빈(학부/공과대학 컴퓨터과학)",
      "photoUrl": "",
      "userId": "07352247864639375532"
     },
     "user_tz": -540
    },
    "id": "FNw2XMg63jsB",
    "outputId": "582c8828-592b-4283-a411-8b1ed4ada487"
   },
   "outputs": [
    {
     "data": {
      "text/html": [
       "<div>\n",
       "<style scoped>\n",
       "    .dataframe tbody tr th:only-of-type {\n",
       "        vertical-align: middle;\n",
       "    }\n",
       "\n",
       "    .dataframe tbody tr th {\n",
       "        vertical-align: top;\n",
       "    }\n",
       "\n",
       "    .dataframe thead th {\n",
       "        text-align: right;\n",
       "    }\n",
       "</style>\n",
       "<table border=\"1\" class=\"dataframe\">\n",
       "  <thead>\n",
       "    <tr style=\"text-align: right;\">\n",
       "      <th></th>\n",
       "      <th>chocolate</th>\n",
       "      <th>fruity</th>\n",
       "      <th>caramel</th>\n",
       "      <th>peanutyalmondy</th>\n",
       "      <th>nougat</th>\n",
       "      <th>crispedricewafer</th>\n",
       "      <th>hard</th>\n",
       "      <th>bar</th>\n",
       "      <th>pluribus</th>\n",
       "      <th>sugarpercent</th>\n",
       "      <th>pricepercent</th>\n",
       "      <th>winpercent</th>\n",
       "      <th>type</th>\n",
       "      <th>winpercent_cat</th>\n",
       "    </tr>\n",
       "  </thead>\n",
       "  <tbody>\n",
       "    <tr>\n",
       "      <th>0</th>\n",
       "      <td>1</td>\n",
       "      <td>0</td>\n",
       "      <td>1</td>\n",
       "      <td>0</td>\n",
       "      <td>0</td>\n",
       "      <td>1</td>\n",
       "      <td>0</td>\n",
       "      <td>1</td>\n",
       "      <td>0</td>\n",
       "      <td>0.732</td>\n",
       "      <td>0.860</td>\n",
       "      <td>66.971725</td>\n",
       "      <td>bar</td>\n",
       "      <td>1.0</td>\n",
       "    </tr>\n",
       "    <tr>\n",
       "      <th>1</th>\n",
       "      <td>1</td>\n",
       "      <td>0</td>\n",
       "      <td>0</td>\n",
       "      <td>0</td>\n",
       "      <td>1</td>\n",
       "      <td>0</td>\n",
       "      <td>0</td>\n",
       "      <td>1</td>\n",
       "      <td>0</td>\n",
       "      <td>0.604</td>\n",
       "      <td>0.511</td>\n",
       "      <td>67.602936</td>\n",
       "      <td>bar</td>\n",
       "      <td>1.0</td>\n",
       "    </tr>\n",
       "    <tr>\n",
       "      <th>4</th>\n",
       "      <td>0</td>\n",
       "      <td>1</td>\n",
       "      <td>0</td>\n",
       "      <td>0</td>\n",
       "      <td>0</td>\n",
       "      <td>0</td>\n",
       "      <td>0</td>\n",
       "      <td>0</td>\n",
       "      <td>0</td>\n",
       "      <td>0.906</td>\n",
       "      <td>0.511</td>\n",
       "      <td>52.341465</td>\n",
       "      <td>soft</td>\n",
       "      <td>1.0</td>\n",
       "    </tr>\n",
       "    <tr>\n",
       "      <th>5</th>\n",
       "      <td>1</td>\n",
       "      <td>0</td>\n",
       "      <td>0</td>\n",
       "      <td>1</td>\n",
       "      <td>0</td>\n",
       "      <td>0</td>\n",
       "      <td>0</td>\n",
       "      <td>1</td>\n",
       "      <td>0</td>\n",
       "      <td>0.465</td>\n",
       "      <td>0.767</td>\n",
       "      <td>50.347546</td>\n",
       "      <td>bar</td>\n",
       "      <td>1.0</td>\n",
       "    </tr>\n",
       "    <tr>\n",
       "      <th>6</th>\n",
       "      <td>1</td>\n",
       "      <td>0</td>\n",
       "      <td>1</td>\n",
       "      <td>1</td>\n",
       "      <td>1</td>\n",
       "      <td>0</td>\n",
       "      <td>0</td>\n",
       "      <td>1</td>\n",
       "      <td>0</td>\n",
       "      <td>0.604</td>\n",
       "      <td>0.767</td>\n",
       "      <td>56.914547</td>\n",
       "      <td>bar</td>\n",
       "      <td>1.0</td>\n",
       "    </tr>\n",
       "    <tr>\n",
       "      <th>...</th>\n",
       "      <td>...</td>\n",
       "      <td>...</td>\n",
       "      <td>...</td>\n",
       "      <td>...</td>\n",
       "      <td>...</td>\n",
       "      <td>...</td>\n",
       "      <td>...</td>\n",
       "      <td>...</td>\n",
       "      <td>...</td>\n",
       "      <td>...</td>\n",
       "      <td>...</td>\n",
       "      <td>...</td>\n",
       "      <td>...</td>\n",
       "      <td>...</td>\n",
       "    </tr>\n",
       "    <tr>\n",
       "      <th>80</th>\n",
       "      <td>0</td>\n",
       "      <td>1</td>\n",
       "      <td>0</td>\n",
       "      <td>0</td>\n",
       "      <td>0</td>\n",
       "      <td>0</td>\n",
       "      <td>0</td>\n",
       "      <td>0</td>\n",
       "      <td>0</td>\n",
       "      <td>0.220</td>\n",
       "      <td>0.116</td>\n",
       "      <td>45.466282</td>\n",
       "      <td>soft</td>\n",
       "      <td>1.0</td>\n",
       "    </tr>\n",
       "    <tr>\n",
       "      <th>81</th>\n",
       "      <td>0</td>\n",
       "      <td>1</td>\n",
       "      <td>0</td>\n",
       "      <td>0</td>\n",
       "      <td>0</td>\n",
       "      <td>0</td>\n",
       "      <td>1</td>\n",
       "      <td>0</td>\n",
       "      <td>0</td>\n",
       "      <td>0.093</td>\n",
       "      <td>0.116</td>\n",
       "      <td>39.011898</td>\n",
       "      <td>hard</td>\n",
       "      <td>0.0</td>\n",
       "    </tr>\n",
       "    <tr>\n",
       "      <th>82</th>\n",
       "      <td>0</td>\n",
       "      <td>1</td>\n",
       "      <td>0</td>\n",
       "      <td>0</td>\n",
       "      <td>0</td>\n",
       "      <td>0</td>\n",
       "      <td>0</td>\n",
       "      <td>0</td>\n",
       "      <td>1</td>\n",
       "      <td>0.313</td>\n",
       "      <td>0.313</td>\n",
       "      <td>44.375519</td>\n",
       "      <td>soft</td>\n",
       "      <td>1.0</td>\n",
       "    </tr>\n",
       "    <tr>\n",
       "      <th>83</th>\n",
       "      <td>0</td>\n",
       "      <td>0</td>\n",
       "      <td>1</td>\n",
       "      <td>0</td>\n",
       "      <td>0</td>\n",
       "      <td>0</td>\n",
       "      <td>1</td>\n",
       "      <td>0</td>\n",
       "      <td>0</td>\n",
       "      <td>0.186</td>\n",
       "      <td>0.267</td>\n",
       "      <td>41.904308</td>\n",
       "      <td>hard</td>\n",
       "      <td>1.0</td>\n",
       "    </tr>\n",
       "    <tr>\n",
       "      <th>84</th>\n",
       "      <td>1</td>\n",
       "      <td>0</td>\n",
       "      <td>0</td>\n",
       "      <td>0</td>\n",
       "      <td>0</td>\n",
       "      <td>1</td>\n",
       "      <td>0</td>\n",
       "      <td>0</td>\n",
       "      <td>1</td>\n",
       "      <td>0.872</td>\n",
       "      <td>0.848</td>\n",
       "      <td>49.524113</td>\n",
       "      <td>soft</td>\n",
       "      <td>1.0</td>\n",
       "    </tr>\n",
       "  </tbody>\n",
       "</table>\n",
       "<p>79 rows × 14 columns</p>\n",
       "</div>"
      ],
      "text/plain": [
       "    chocolate  fruity  caramel  peanutyalmondy  nougat  crispedricewafer  \\\n",
       "0           1       0        1               0       0                 1   \n",
       "1           1       0        0               0       1                 0   \n",
       "4           0       1        0               0       0                 0   \n",
       "5           1       0        0               1       0                 0   \n",
       "6           1       0        1               1       1                 0   \n",
       "..        ...     ...      ...             ...     ...               ...   \n",
       "80          0       1        0               0       0                 0   \n",
       "81          0       1        0               0       0                 0   \n",
       "82          0       1        0               0       0                 0   \n",
       "83          0       0        1               0       0                 0   \n",
       "84          1       0        0               0       0                 1   \n",
       "\n",
       "    hard  bar  pluribus  sugarpercent  pricepercent  winpercent  type  \\\n",
       "0      0    1         0         0.732         0.860   66.971725   bar   \n",
       "1      0    1         0         0.604         0.511   67.602936   bar   \n",
       "4      0    0         0         0.906         0.511   52.341465  soft   \n",
       "5      0    1         0         0.465         0.767   50.347546   bar   \n",
       "6      0    1         0         0.604         0.767   56.914547   bar   \n",
       "..   ...  ...       ...           ...           ...         ...   ...   \n",
       "80     0    0         0         0.220         0.116   45.466282  soft   \n",
       "81     1    0         0         0.093         0.116   39.011898  hard   \n",
       "82     0    0         1         0.313         0.313   44.375519  soft   \n",
       "83     1    0         0         0.186         0.267   41.904308  hard   \n",
       "84     0    0         1         0.872         0.848   49.524113  soft   \n",
       "\n",
       "    winpercent_cat  \n",
       "0              1.0  \n",
       "1              1.0  \n",
       "4              1.0  \n",
       "5              1.0  \n",
       "6              1.0  \n",
       "..             ...  \n",
       "80             1.0  \n",
       "81             0.0  \n",
       "82             1.0  \n",
       "83             1.0  \n",
       "84             1.0  \n",
       "\n",
       "[79 rows x 14 columns]"
      ]
     },
     "metadata": {
      "tags": []
     },
     "output_type": "display_data"
    }
   ],
   "source": [
    "\n",
    "mask = (candy.winpercent < 40)\n",
    "candy.loc[mask, 'winpercent_cat'] = 0\n",
    "mask = (candy.winpercent >= 40) \n",
    "candy.loc[mask, 'winpercent_cat'] = 1\n",
    "\n",
    "\n",
    "\n",
    "display(candy)\n",
    "\n"
   ]
  },
  {
   "cell_type": "code",
   "execution_count": null,
   "metadata": {
    "colab": {
     "base_uri": "https://localhost:8080/",
     "height": 437
    },
    "executionInfo": {
     "elapsed": 696,
     "status": "ok",
     "timestamp": 1619244677455,
     "user": {
      "displayName": "­강수빈(학부/공과대학 컴퓨터과학)",
      "photoUrl": "",
      "userId": "07352247864639375532"
     },
     "user_tz": -540
    },
    "id": "T-6uBphWZFmI",
    "outputId": "4b3bdbc9-73f6-49dd-e3ef-0f17d8d12f0e"
   },
   "outputs": [
    {
     "data": {
      "text/html": [
       "<div>\n",
       "<style scoped>\n",
       "    .dataframe tbody tr th:only-of-type {\n",
       "        vertical-align: middle;\n",
       "    }\n",
       "\n",
       "    .dataframe tbody tr th {\n",
       "        vertical-align: top;\n",
       "    }\n",
       "\n",
       "    .dataframe thead th {\n",
       "        text-align: right;\n",
       "    }\n",
       "</style>\n",
       "<table border=\"1\" class=\"dataframe\">\n",
       "  <thead>\n",
       "    <tr style=\"text-align: right;\">\n",
       "      <th></th>\n",
       "      <th>chocolate</th>\n",
       "      <th>fruity</th>\n",
       "      <th>caramel</th>\n",
       "      <th>peanutyalmondy</th>\n",
       "      <th>nougat</th>\n",
       "      <th>crispedricewafer</th>\n",
       "      <th>hard</th>\n",
       "      <th>bar</th>\n",
       "      <th>pluribus</th>\n",
       "      <th>sugarpercent</th>\n",
       "      <th>pricepercent</th>\n",
       "      <th>winpercent</th>\n",
       "      <th>winpercent_cat</th>\n",
       "    </tr>\n",
       "  </thead>\n",
       "  <tbody>\n",
       "    <tr>\n",
       "      <th>chocolate</th>\n",
       "      <td>1.000000</td>\n",
       "      <td>-0.852828</td>\n",
       "      <td>0.228730</td>\n",
       "      <td>0.361595</td>\n",
       "      <td>0.242939</td>\n",
       "      <td>0.332205</td>\n",
       "      <td>-0.369163</td>\n",
       "      <td>0.583669</td>\n",
       "      <td>-0.341683</td>\n",
       "      <td>0.086282</td>\n",
       "      <td>0.486617</td>\n",
       "      <td>0.614941</td>\n",
       "      <td>0.371451</td>\n",
       "    </tr>\n",
       "    <tr>\n",
       "      <th>fruity</th>\n",
       "      <td>-0.852828</td>\n",
       "      <td>1.000000</td>\n",
       "      <td>-0.380447</td>\n",
       "      <td>-0.446794</td>\n",
       "      <td>-0.300181</td>\n",
       "      <td>-0.300181</td>\n",
       "      <td>0.415720</td>\n",
       "      <td>-0.579289</td>\n",
       "      <td>0.342527</td>\n",
       "      <td>-0.067159</td>\n",
       "      <td>-0.519143</td>\n",
       "      <td>-0.479844</td>\n",
       "      <td>-0.255183</td>\n",
       "    </tr>\n",
       "    <tr>\n",
       "      <th>caramel</th>\n",
       "      <td>0.228730</td>\n",
       "      <td>-0.380447</td>\n",
       "      <td>1.000000</td>\n",
       "      <td>0.045055</td>\n",
       "      <td>0.321900</td>\n",
       "      <td>0.205248</td>\n",
       "      <td>-0.128571</td>\n",
       "      <td>0.321050</td>\n",
       "      <td>-0.271094</td>\n",
       "      <td>0.224949</td>\n",
       "      <td>0.239644</td>\n",
       "      <td>0.190160</td>\n",
       "      <td>0.041496</td>\n",
       "    </tr>\n",
       "    <tr>\n",
       "      <th>peanutyalmondy</th>\n",
       "      <td>0.361595</td>\n",
       "      <td>-0.446794</td>\n",
       "      <td>0.045055</td>\n",
       "      <td>1.000000</td>\n",
       "      <td>0.205248</td>\n",
       "      <td>-0.028055</td>\n",
       "      <td>-0.215385</td>\n",
       "      <td>0.246012</td>\n",
       "      <td>-0.204789</td>\n",
       "      <td>0.080578</td>\n",
       "      <td>0.297140</td>\n",
       "      <td>0.392507</td>\n",
       "      <td>0.193970</td>\n",
       "    </tr>\n",
       "    <tr>\n",
       "      <th>nougat</th>\n",
       "      <td>0.242939</td>\n",
       "      <td>-0.300181</td>\n",
       "      <td>0.321900</td>\n",
       "      <td>0.205248</td>\n",
       "      <td>1.000000</td>\n",
       "      <td>-0.097222</td>\n",
       "      <td>-0.144707</td>\n",
       "      <td>0.518188</td>\n",
       "      <td>-0.315777</td>\n",
       "      <td>0.122557</td>\n",
       "      <td>0.141810</td>\n",
       "      <td>0.185669</td>\n",
       "      <td>0.079099</td>\n",
       "    </tr>\n",
       "    <tr>\n",
       "      <th>crispedricewafer</th>\n",
       "      <td>0.332205</td>\n",
       "      <td>-0.300181</td>\n",
       "      <td>0.205248</td>\n",
       "      <td>-0.028055</td>\n",
       "      <td>-0.097222</td>\n",
       "      <td>1.000000</td>\n",
       "      <td>-0.144707</td>\n",
       "      <td>0.417358</td>\n",
       "      <td>-0.226683</td>\n",
       "      <td>0.065568</td>\n",
       "      <td>0.324647</td>\n",
       "      <td>0.316653</td>\n",
       "      <td>0.181540</td>\n",
       "    </tr>\n",
       "    <tr>\n",
       "      <th>hard</th>\n",
       "      <td>-0.369163</td>\n",
       "      <td>0.415720</td>\n",
       "      <td>-0.128571</td>\n",
       "      <td>-0.215385</td>\n",
       "      <td>-0.144707</td>\n",
       "      <td>-0.144707</td>\n",
       "      <td>1.000000</td>\n",
       "      <td>-0.279256</td>\n",
       "      <td>-0.005875</td>\n",
       "      <td>0.056760</td>\n",
       "      <td>-0.243624</td>\n",
       "      <td>-0.321779</td>\n",
       "      <td>-0.263452</td>\n",
       "    </tr>\n",
       "    <tr>\n",
       "      <th>bar</th>\n",
       "      <td>0.583669</td>\n",
       "      <td>-0.579289</td>\n",
       "      <td>0.321050</td>\n",
       "      <td>0.246012</td>\n",
       "      <td>0.518188</td>\n",
       "      <td>0.417358</td>\n",
       "      <td>-0.279256</td>\n",
       "      <td>1.000000</td>\n",
       "      <td>-0.609387</td>\n",
       "      <td>0.089978</td>\n",
       "      <td>0.511321</td>\n",
       "      <td>0.409680</td>\n",
       "      <td>0.284439</td>\n",
       "    </tr>\n",
       "    <tr>\n",
       "      <th>pluribus</th>\n",
       "      <td>-0.341683</td>\n",
       "      <td>0.342527</td>\n",
       "      <td>-0.271094</td>\n",
       "      <td>-0.204789</td>\n",
       "      <td>-0.315777</td>\n",
       "      <td>-0.226683</td>\n",
       "      <td>-0.005875</td>\n",
       "      <td>-0.609387</td>\n",
       "      <td>1.000000</td>\n",
       "      <td>-0.006401</td>\n",
       "      <td>-0.208448</td>\n",
       "      <td>-0.233911</td>\n",
       "      <td>-0.050856</td>\n",
       "    </tr>\n",
       "    <tr>\n",
       "      <th>sugarpercent</th>\n",
       "      <td>0.086282</td>\n",
       "      <td>-0.067159</td>\n",
       "      <td>0.224949</td>\n",
       "      <td>0.080578</td>\n",
       "      <td>0.122557</td>\n",
       "      <td>0.065568</td>\n",
       "      <td>0.056760</td>\n",
       "      <td>0.089978</td>\n",
       "      <td>-0.006401</td>\n",
       "      <td>1.000000</td>\n",
       "      <td>0.339720</td>\n",
       "      <td>0.237022</td>\n",
       "      <td>0.150739</td>\n",
       "    </tr>\n",
       "    <tr>\n",
       "      <th>pricepercent</th>\n",
       "      <td>0.486617</td>\n",
       "      <td>-0.519143</td>\n",
       "      <td>0.239644</td>\n",
       "      <td>0.297140</td>\n",
       "      <td>0.141810</td>\n",
       "      <td>0.324647</td>\n",
       "      <td>-0.243624</td>\n",
       "      <td>0.511321</td>\n",
       "      <td>-0.208448</td>\n",
       "      <td>0.339720</td>\n",
       "      <td>1.000000</td>\n",
       "      <td>0.302980</td>\n",
       "      <td>0.177886</td>\n",
       "    </tr>\n",
       "    <tr>\n",
       "      <th>winpercent</th>\n",
       "      <td>0.614941</td>\n",
       "      <td>-0.479844</td>\n",
       "      <td>0.190160</td>\n",
       "      <td>0.392507</td>\n",
       "      <td>0.185669</td>\n",
       "      <td>0.316653</td>\n",
       "      <td>-0.321779</td>\n",
       "      <td>0.409680</td>\n",
       "      <td>-0.233911</td>\n",
       "      <td>0.237022</td>\n",
       "      <td>0.302980</td>\n",
       "      <td>1.000000</td>\n",
       "      <td>0.700585</td>\n",
       "    </tr>\n",
       "    <tr>\n",
       "      <th>winpercent_cat</th>\n",
       "      <td>0.371451</td>\n",
       "      <td>-0.255183</td>\n",
       "      <td>0.041496</td>\n",
       "      <td>0.193970</td>\n",
       "      <td>0.079099</td>\n",
       "      <td>0.181540</td>\n",
       "      <td>-0.263452</td>\n",
       "      <td>0.284439</td>\n",
       "      <td>-0.050856</td>\n",
       "      <td>0.150739</td>\n",
       "      <td>0.177886</td>\n",
       "      <td>0.700585</td>\n",
       "      <td>1.000000</td>\n",
       "    </tr>\n",
       "  </tbody>\n",
       "</table>\n",
       "</div>"
      ],
      "text/plain": [
       "                  chocolate    fruity   caramel  peanutyalmondy    nougat  \\\n",
       "chocolate          1.000000 -0.852828  0.228730        0.361595  0.242939   \n",
       "fruity            -0.852828  1.000000 -0.380447       -0.446794 -0.300181   \n",
       "caramel            0.228730 -0.380447  1.000000        0.045055  0.321900   \n",
       "peanutyalmondy     0.361595 -0.446794  0.045055        1.000000  0.205248   \n",
       "nougat             0.242939 -0.300181  0.321900        0.205248  1.000000   \n",
       "crispedricewafer   0.332205 -0.300181  0.205248       -0.028055 -0.097222   \n",
       "hard              -0.369163  0.415720 -0.128571       -0.215385 -0.144707   \n",
       "bar                0.583669 -0.579289  0.321050        0.246012  0.518188   \n",
       "pluribus          -0.341683  0.342527 -0.271094       -0.204789 -0.315777   \n",
       "sugarpercent       0.086282 -0.067159  0.224949        0.080578  0.122557   \n",
       "pricepercent       0.486617 -0.519143  0.239644        0.297140  0.141810   \n",
       "winpercent         0.614941 -0.479844  0.190160        0.392507  0.185669   \n",
       "winpercent_cat     0.371451 -0.255183  0.041496        0.193970  0.079099   \n",
       "\n",
       "                  crispedricewafer      hard       bar  pluribus  \\\n",
       "chocolate                 0.332205 -0.369163  0.583669 -0.341683   \n",
       "fruity                   -0.300181  0.415720 -0.579289  0.342527   \n",
       "caramel                   0.205248 -0.128571  0.321050 -0.271094   \n",
       "peanutyalmondy           -0.028055 -0.215385  0.246012 -0.204789   \n",
       "nougat                   -0.097222 -0.144707  0.518188 -0.315777   \n",
       "crispedricewafer          1.000000 -0.144707  0.417358 -0.226683   \n",
       "hard                     -0.144707  1.000000 -0.279256 -0.005875   \n",
       "bar                       0.417358 -0.279256  1.000000 -0.609387   \n",
       "pluribus                 -0.226683 -0.005875 -0.609387  1.000000   \n",
       "sugarpercent              0.065568  0.056760  0.089978 -0.006401   \n",
       "pricepercent              0.324647 -0.243624  0.511321 -0.208448   \n",
       "winpercent                0.316653 -0.321779  0.409680 -0.233911   \n",
       "winpercent_cat            0.181540 -0.263452  0.284439 -0.050856   \n",
       "\n",
       "                  sugarpercent  pricepercent  winpercent  winpercent_cat  \n",
       "chocolate             0.086282      0.486617    0.614941        0.371451  \n",
       "fruity               -0.067159     -0.519143   -0.479844       -0.255183  \n",
       "caramel               0.224949      0.239644    0.190160        0.041496  \n",
       "peanutyalmondy        0.080578      0.297140    0.392507        0.193970  \n",
       "nougat                0.122557      0.141810    0.185669        0.079099  \n",
       "crispedricewafer      0.065568      0.324647    0.316653        0.181540  \n",
       "hard                  0.056760     -0.243624   -0.321779       -0.263452  \n",
       "bar                   0.089978      0.511321    0.409680        0.284439  \n",
       "pluribus             -0.006401     -0.208448   -0.233911       -0.050856  \n",
       "sugarpercent          1.000000      0.339720    0.237022        0.150739  \n",
       "pricepercent          0.339720      1.000000    0.302980        0.177886  \n",
       "winpercent            0.237022      0.302980    1.000000        0.700585  \n",
       "winpercent_cat        0.150739      0.177886    0.700585        1.000000  "
      ]
     },
     "execution_count": 85,
     "metadata": {
      "tags": []
     },
     "output_type": "execute_result"
    }
   ],
   "source": [
    "corr = candy.corr(method='pearson')\n",
    "pd.set_option('display.max_row', 20)\n",
    "pd.set_option('display.max_columns', 20)\n",
    "# corr.loc['winpercent_cat', :]\n",
    "corr\n"
   ]
  },
  {
   "cell_type": "markdown",
   "metadata": {
    "id": "4_-EQHn4VBBE"
   },
   "source": [
    "### Step2. Feature에 따른 winpercent_cat 비교"
   ]
  },
  {
   "cell_type": "code",
   "execution_count": null,
   "metadata": {
    "id": "YJo13nD0EHwm"
   },
   "outputs": [],
   "source": [
    "# 특정 feature에 따른 이기는지 여부(winpercent_cat) 비교 함수\n",
    "def bar_chart2(feature):\n",
    "    winpercent_0 = candy[candy['winpercent_cat']==0][feature].value_counts()\n",
    "    winpercent_1 = candy[candy['winpercent_cat']==1][feature].value_counts()\n",
    "    df_choco = pd.DataFrame([winpercent_0,winpercent_1])\n",
    "    df_choco.index = ['winpercent_0','winpercent_1']\n",
    "    df_choco.plot(kind='bar',stacked=True, figsize=(10,5))"
   ]
  },
  {
   "cell_type": "code",
   "execution_count": null,
   "metadata": {
    "colab": {
     "base_uri": "https://localhost:8080/",
     "height": 377
    },
    "executionInfo": {
     "elapsed": 1628,
     "status": "ok",
     "timestamp": 1619243072061,
     "user": {
      "displayName": "­강수빈(학부/공과대학 컴퓨터과학)",
      "photoUrl": "",
      "userId": "07352247864639375532"
     },
     "user_tz": -540
    },
    "id": "ZL6fNQcK6PS3",
    "outputId": "4020c25a-0657-4804-b3da-8f09607aca18"
   },
   "outputs": [
    {
     "data": {
      "image/png": "[encoded data removed]",
      "text/plain": [
       "<Figure size 720x360 with 1 Axes>"
      ]
     },
     "metadata": {
      "needs_background": "light",
      "tags": []
     },
     "output_type": "display_data"
    }
   ],
   "source": [
    "bar_chart2('chocolate')"
   ]
  },
  {
   "cell_type": "code",
   "execution_count": null,
   "metadata": {
    "colab": {
     "base_uri": "https://localhost:8080/",
     "height": 377
    },
    "executionInfo": {
     "elapsed": 1355,
     "status": "ok",
     "timestamp": 1619243072568,
     "user": {
      "displayName": "­강수빈(학부/공과대학 컴퓨터과학)",
      "photoUrl": "",
      "userId": "07352247864639375532"
     },
     "user_tz": -540
    },
    "id": "OJOWQ89nLofl",
    "outputId": "590d9553-db66-4f3e-9d43-d9639735d003"
   },
   "outputs": [
    {
     "data": {
      "image/png": "[encoded data removed]",
      "text/plain": [
       "<Figure size 720x360 with 1 Axes>"
      ]
     },
     "metadata": {
      "needs_background": "light",
      "tags": []
     },
     "output_type": "display_data"
    }
   ],
   "source": [
    "bar_chart2('fruity') "
   ]
  },
  {
   "cell_type": "code",
   "execution_count": null,
   "metadata": {
    "colab": {
     "base_uri": "https://localhost:8080/",
     "height": 377
    },
    "executionInfo": {
     "elapsed": 1352,
     "status": "ok",
     "timestamp": 1619243073062,
     "user": {
      "displayName": "­강수빈(학부/공과대학 컴퓨터과학)",
      "photoUrl": "",
      "userId": "07352247864639375532"
     },
     "user_tz": -540
    },
    "id": "J4z0E6X0VqdE",
    "outputId": "e1078ebd-c581-4c7c-c3fb-5cf1854bd932"
   },
   "outputs": [
    {
     "data": {
      "image/png": "[encoded data removed]",
      "text/plain": [
       "<Figure size 720x360 with 1 Axes>"
      ]
     },
     "metadata": {
      "needs_background": "light",
      "tags": []
     },
     "output_type": "display_data"
    }
   ],
   "source": [
    "bar_chart2('caramel') "
   ]
  },
  {
   "cell_type": "code",
   "execution_count": null,
   "metadata": {
    "colab": {
     "base_uri": "https://localhost:8080/",
     "height": 377
    },
    "executionInfo": {
     "elapsed": 1318,
     "status": "ok",
     "timestamp": 1619243073573,
     "user": {
      "displayName": "­강수빈(학부/공과대학 컴퓨터과학)",
      "photoUrl": "",
      "userId": "07352247864639375532"
     },
     "user_tz": -540
    },
    "id": "r3UB-1VOVqYj",
    "outputId": "5c85a29e-5f34-4dbe-d930-f5d432855ecd"
   },
   "outputs": [
    {
     "data": {
      "image/png": "[encoded data removed]",
      "text/plain": [
       "<Figure size 720x360 with 1 Axes>"
      ]
     },
     "metadata": {
      "needs_background": "light",
      "tags": []
     },
     "output_type": "display_data"
    }
   ],
   "source": [
    "bar_chart2('peanutyalmondy') "
   ]
  },
  {
   "cell_type": "code",
   "execution_count": null,
   "metadata": {
    "colab": {
     "base_uri": "https://localhost:8080/",
     "height": 377
    },
    "executionInfo": {
     "elapsed": 1352,
     "status": "ok",
     "timestamp": 1619243074093,
     "user": {
      "displayName": "­강수빈(학부/공과대학 컴퓨터과학)",
      "photoUrl": "",
      "userId": "07352247864639375532"
     },
     "user_tz": -540
    },
    "id": "sOBShIL1VqRz",
    "outputId": "dc3a7032-003c-4b1f-a01b-edf2c487d944"
   },
   "outputs": [
    {
     "data": {
      "image/png": "[encoded data removed]",
      "text/plain": [
       "<Figure size 720x360 with 1 Axes>"
      ]
     },
     "metadata": {
      "needs_background": "light",
      "tags": []
     },
     "output_type": "display_data"
    }
   ],
   "source": [
    "bar_chart2('nougat') "
   ]
  },
  {
   "cell_type": "code",
   "execution_count": null,
   "metadata": {
    "colab": {
     "base_uri": "https://localhost:8080/",
     "height": 377
    },
    "executionInfo": {
     "elapsed": 1307,
     "status": "ok",
     "timestamp": 1619243074532,
     "user": {
      "displayName": "­강수빈(학부/공과대학 컴퓨터과학)",
      "photoUrl": "",
      "userId": "07352247864639375532"
     },
     "user_tz": -540
    },
    "id": "HsHz5fciVqPQ",
    "outputId": "50015b6b-bd97-4a92-e83c-1009e34d57e2"
   },
   "outputs": [
    {
     "data": {
      "image/png": "[encoded data removed]",
      "text/plain": [
       "<Figure size 720x360 with 1 Axes>"
      ]
     },
     "metadata": {
      "needs_background": "light",
      "tags": []
     },
     "output_type": "display_data"
    }
   ],
   "source": [
    "bar_chart2('crispedricewafer') "
   ]
  },
  {
   "cell_type": "code",
   "execution_count": null,
   "metadata": {
    "colab": {
     "base_uri": "https://localhost:8080/",
     "height": 377
    },
    "executionInfo": {
     "elapsed": 1403,
     "status": "ok",
     "timestamp": 1619243075126,
     "user": {
      "displayName": "­강수빈(학부/공과대학 컴퓨터과학)",
      "photoUrl": "",
      "userId": "07352247864639375532"
     },
     "user_tz": -540
    },
    "id": "bUbdqzYdV-Gk",
    "outputId": "1cb9d64a-e0ab-4530-b1e9-4940a6caac1d"
   },
   "outputs": [
    {
     "data": {
      "image/png": "[encoded data removed]",
      "text/plain": [
       "<Figure size 720x360 with 1 Axes>"
      ]
     },
     "metadata": {
      "needs_background": "light",
      "tags": []
     },
     "output_type": "display_data"
    }
   ],
   "source": [
    "bar_chart2('bar')  "
   ]
  },
  {
   "cell_type": "code",
   "execution_count": null,
   "metadata": {
    "colab": {
     "base_uri": "https://localhost:8080/",
     "height": 377
    },
    "executionInfo": {
     "elapsed": 1491,
     "status": "ok",
     "timestamp": 1619243075761,
     "user": {
      "displayName": "­강수빈(학부/공과대학 컴퓨터과학)",
      "photoUrl": "",
      "userId": "07352247864639375532"
     },
     "user_tz": -540
    },
    "id": "Rr6Sus7OVqG3",
    "outputId": "1efb2509-4d91-4548-ba69-7922697591ae"
   },
   "outputs": [
    {
     "data": {
      "image/png": "[encoded data removed]",
      "text/plain": [
       "<Figure size 720x360 with 1 Axes>"
      ]
     },
     "metadata": {
      "needs_background": "light",
      "tags": []
     },
     "output_type": "display_data"
    }
   ],
   "source": [
    "bar_chart2('hard')  "
   ]
  },
  {
   "cell_type": "code",
   "execution_count": null,
   "metadata": {
    "colab": {
     "base_uri": "https://localhost:8080/",
     "height": 377
    },
    "executionInfo": {
     "elapsed": 1470,
     "status": "ok",
     "timestamp": 1619243076309,
     "user": {
      "displayName": "­강수빈(학부/공과대학 컴퓨터과학)",
      "photoUrl": "",
      "userId": "07352247864639375532"
     },
     "user_tz": -540
    },
    "id": "qSBTD2iWVqBZ",
    "outputId": "f8ed895d-38aa-49b9-c5a5-26666fcbf16c"
   },
   "outputs": [
    {
     "data": {
      "image/png": "[encoded data removed]",
      "text/plain": [
       "<Figure size 720x360 with 1 Axes>"
      ]
     },
     "metadata": {
      "needs_background": "light",
      "tags": []
     },
     "output_type": "display_data"
    }
   ],
   "source": [
    "bar_chart2('pluribus') "
   ]
  },
  {
   "cell_type": "code",
   "execution_count": null,
   "metadata": {
    "colab": {
     "base_uri": "https://localhost:8080/",
     "height": 225
    },
    "executionInfo": {
     "elapsed": 1455,
     "status": "ok",
     "timestamp": 1619243077123,
     "user": {
      "displayName": "­강수빈(학부/공과대학 컴퓨터과학)",
      "photoUrl": "",
      "userId": "07352247864639375532"
     },
     "user_tz": -540
    },
    "id": "GSS8mzpqVp6r",
    "outputId": "f6ea5ad7-5762-4c49-9621-5f8ee6745794"
   },
   "outputs": [
    {
     "data": {
      "image/png": "[encoded data removed]",
      "text/plain": [
       "<Figure size 948x216 with 1 Axes>"
      ]
     },
     "metadata": {
      "needs_background": "light",
      "tags": []
     },
     "output_type": "display_data"
    }
   ],
   "source": [
    "# sugarpercent에 따른 이기는지 여부(winpercent_cat) (o : 1, x: 0)비교\n",
    "\n",
    "import matplotlib.pyplot as plt\n",
    "import seaborn as sns\n",
    "\n",
    "facet = sns.FacetGrid(candy, hue=\"winpercent_cat\", aspect=4) #sugarpercent\tpricepercent\twinpercent\n",
    "facet.map(sns.kdeplot, 'sugarpercent', shade=True)\n",
    "facet.set(xlim=(0, candy['sugarpercent'].max()))\n",
    "facet.add_legend()\n",
    "sns.axes_style(\"darkgrid\")\n",
    "\n",
    "plt.show()\n"
   ]
  },
  {
   "cell_type": "code",
   "execution_count": null,
   "metadata": {
    "colab": {
     "base_uri": "https://localhost:8080/",
     "height": 225
    },
    "executionInfo": {
     "elapsed": 1740,
     "status": "ok",
     "timestamp": 1619243085642,
     "user": {
      "displayName": "­강수빈(학부/공과대학 컴퓨터과학)",
      "photoUrl": "",
      "userId": "07352247864639375532"
     },
     "user_tz": -540
    },
    "id": "YInNc3I2Vp3X",
    "outputId": "19fb8d3b-abc1-43ef-b8fc-4ee2db132b36"
   },
   "outputs": [
    {
     "data": {
      "image/png": "[encoded data removed]",
      "text/plain": [
       "<Figure size 948x216 with 1 Axes>"
      ]
     },
     "metadata": {
      "needs_background": "light",
      "tags": []
     },
     "output_type": "display_data"
    }
   ],
   "source": [
    "# pricepercent에 따른 이기는지 여부(winpercent_cat) (o : 1, x: 0)비교\n",
    "facet2 = sns.FacetGrid(candy, hue=\"winpercent_cat\", aspect=4)\n",
    "facet2.map(sns.kdeplot, 'pricepercent', shade=True)\n",
    "facet2.set(xlim=(0, candy['pricepercent'].max()))\n",
    "facet2.add_legend()\n",
    "\n",
    "plt.show() \n"
   ]
  },
  {
   "cell_type": "code",
   "execution_count": null,
   "metadata": {
    "colab": {
     "base_uri": "https://localhost:8080/",
     "height": 225
    },
    "executionInfo": {
     "elapsed": 1665,
     "status": "ok",
     "timestamp": 1619243086007,
     "user": {
      "displayName": "­강수빈(학부/공과대학 컴퓨터과학)",
      "photoUrl": "",
      "userId": "07352247864639375532"
     },
     "user_tz": -540
    },
    "id": "fFBVQrxOVp0e",
    "outputId": "166052ac-5286-4282-fde9-d8118c3b36cb"
   },
   "outputs": [
    {
     "data": {
      "image/png": "[encoded data removed]",
      "text/plain": [
       "<Figure size 948x216 with 1 Axes>"
      ]
     },
     "metadata": {
      "needs_background": "light",
      "tags": []
     },
     "output_type": "display_data"
    }
   ],
   "source": [
    "# winpercent 따른 이기는지 여부(winpercent_cat) (o : 1, x: 0)비교\n",
    "facet2 = sns.FacetGrid(candy, hue=\"winpercent_cat\", aspect=4)\n",
    "facet2.map(sns.kdeplot, 'winpercent', shade=True)\n",
    "facet2.set(xlim=(0, candy['winpercent'].max()))\n",
    "facet2.add_legend()\n",
    "\n",
    "plt.show() "
   ]
  },
  {
   "cell_type": "code",
   "execution_count": null,
   "metadata": {
    "id": "nXqNekJwVpv4"
   },
   "outputs": [],
   "source": [
    "#유의미하다고 생각되는 column들을 선택한다.\n",
    "# X = 'chocolate', 'hard', 'bar',  'pricepercent'\n",
    "# Y =  'winpercent'\n",
    "\n",
    "candy_data = candy.loc[:,['chocolate', 'hard', 'bar',  'pricepercent', 'winpercent_cat']]"
   ]
  },
  {
   "cell_type": "code",
   "execution_count": null,
   "metadata": {
    "colab": {
     "base_uri": "https://localhost:8080/",
     "height": 407
    },
    "executionInfo": {
     "elapsed": 1029,
     "status": "ok",
     "timestamp": 1619243101914,
     "user": {
      "displayName": "­강수빈(학부/공과대학 컴퓨터과학)",
      "photoUrl": "",
      "userId": "07352247864639375532"
     },
     "user_tz": -540
    },
    "id": "OJ6abrzAVppr",
    "outputId": "d6f8d0d0-ebac-4642-9283-0a9048840e10"
   },
   "outputs": [
    {
     "data": {
      "text/html": [
       "<div>\n",
       "<style scoped>\n",
       "    .dataframe tbody tr th:only-of-type {\n",
       "        vertical-align: middle;\n",
       "    }\n",
       "\n",
       "    .dataframe tbody tr th {\n",
       "        vertical-align: top;\n",
       "    }\n",
       "\n",
       "    .dataframe thead th {\n",
       "        text-align: right;\n",
       "    }\n",
       "</style>\n",
       "<table border=\"1\" class=\"dataframe\">\n",
       "  <thead>\n",
       "    <tr style=\"text-align: right;\">\n",
       "      <th></th>\n",
       "      <th>chocolate</th>\n",
       "      <th>hard</th>\n",
       "      <th>bar</th>\n",
       "      <th>pricepercent</th>\n",
       "      <th>winpercent_cat</th>\n",
       "    </tr>\n",
       "  </thead>\n",
       "  <tbody>\n",
       "    <tr>\n",
       "      <th>0</th>\n",
       "      <td>1</td>\n",
       "      <td>0</td>\n",
       "      <td>1</td>\n",
       "      <td>0.860</td>\n",
       "      <td>1.0</td>\n",
       "    </tr>\n",
       "    <tr>\n",
       "      <th>1</th>\n",
       "      <td>1</td>\n",
       "      <td>0</td>\n",
       "      <td>1</td>\n",
       "      <td>0.511</td>\n",
       "      <td>1.0</td>\n",
       "    </tr>\n",
       "    <tr>\n",
       "      <th>4</th>\n",
       "      <td>0</td>\n",
       "      <td>0</td>\n",
       "      <td>0</td>\n",
       "      <td>0.511</td>\n",
       "      <td>1.0</td>\n",
       "    </tr>\n",
       "    <tr>\n",
       "      <th>5</th>\n",
       "      <td>1</td>\n",
       "      <td>0</td>\n",
       "      <td>1</td>\n",
       "      <td>0.767</td>\n",
       "      <td>1.0</td>\n",
       "    </tr>\n",
       "    <tr>\n",
       "      <th>6</th>\n",
       "      <td>1</td>\n",
       "      <td>0</td>\n",
       "      <td>1</td>\n",
       "      <td>0.767</td>\n",
       "      <td>1.0</td>\n",
       "    </tr>\n",
       "    <tr>\n",
       "      <th>...</th>\n",
       "      <td>...</td>\n",
       "      <td>...</td>\n",
       "      <td>...</td>\n",
       "      <td>...</td>\n",
       "      <td>...</td>\n",
       "    </tr>\n",
       "    <tr>\n",
       "      <th>80</th>\n",
       "      <td>0</td>\n",
       "      <td>0</td>\n",
       "      <td>0</td>\n",
       "      <td>0.116</td>\n",
       "      <td>1.0</td>\n",
       "    </tr>\n",
       "    <tr>\n",
       "      <th>81</th>\n",
       "      <td>0</td>\n",
       "      <td>1</td>\n",
       "      <td>0</td>\n",
       "      <td>0.116</td>\n",
       "      <td>0.0</td>\n",
       "    </tr>\n",
       "    <tr>\n",
       "      <th>82</th>\n",
       "      <td>0</td>\n",
       "      <td>0</td>\n",
       "      <td>0</td>\n",
       "      <td>0.313</td>\n",
       "      <td>1.0</td>\n",
       "    </tr>\n",
       "    <tr>\n",
       "      <th>83</th>\n",
       "      <td>0</td>\n",
       "      <td>1</td>\n",
       "      <td>0</td>\n",
       "      <td>0.267</td>\n",
       "      <td>1.0</td>\n",
       "    </tr>\n",
       "    <tr>\n",
       "      <th>84</th>\n",
       "      <td>1</td>\n",
       "      <td>0</td>\n",
       "      <td>0</td>\n",
       "      <td>0.848</td>\n",
       "      <td>1.0</td>\n",
       "    </tr>\n",
       "  </tbody>\n",
       "</table>\n",
       "<p>79 rows × 5 columns</p>\n",
       "</div>"
      ],
      "text/plain": [
       "    chocolate  hard  bar  pricepercent  winpercent_cat\n",
       "0           1     0    1         0.860             1.0\n",
       "1           1     0    1         0.511             1.0\n",
       "4           0     0    0         0.511             1.0\n",
       "5           1     0    1         0.767             1.0\n",
       "6           1     0    1         0.767             1.0\n",
       "..        ...   ...  ...           ...             ...\n",
       "80          0     0    0         0.116             1.0\n",
       "81          0     1    0         0.116             0.0\n",
       "82          0     0    0         0.313             1.0\n",
       "83          0     1    0         0.267             1.0\n",
       "84          1     0    0         0.848             1.0\n",
       "\n",
       "[79 rows x 5 columns]"
      ]
     },
     "execution_count": 44,
     "metadata": {
      "tags": []
     },
     "output_type": "execute_result"
    }
   ],
   "source": [
    "candy_data"
   ]
  },
  {
   "cell_type": "code",
   "execution_count": null,
   "metadata": {
    "id": "bz8CZ0KuVpis"
   },
   "outputs": [],
   "source": [
    "# candy_data['winpercent'] = candy_data['winpercent'] / 100"
   ]
  },
  {
   "cell_type": "code",
   "execution_count": null,
   "metadata": {
    "id": "yWdLUsAAVpbt"
   },
   "outputs": [],
   "source": [
    "# candy_data = candy_data.loc[:,['fruity', 'pluribus', 'pricepercent',  'chocolate']]"
   ]
  },
  {
   "cell_type": "markdown",
   "metadata": {
    "id": "nE3Z_M8wXUwg"
   },
   "source": [
    "### Step3. For Statsmodels"
   ]
  },
  {
   "cell_type": "code",
   "execution_count": null,
   "metadata": {
    "colab": {
     "base_uri": "https://localhost:8080/",
     "height": 407
    },
    "executionInfo": {
     "elapsed": 992,
     "status": "ok",
     "timestamp": 1619243103780,
     "user": {
      "displayName": "­강수빈(학부/공과대학 컴퓨터과학)",
      "photoUrl": "",
      "userId": "07352247864639375532"
     },
     "user_tz": -540
    },
    "id": "4tHv6o1hXTCi",
    "outputId": "4151b386-bdde-4525-d63a-63554a9378c9"
   },
   "outputs": [
    {
     "data": {
      "text/html": [
       "<div>\n",
       "<style scoped>\n",
       "    .dataframe tbody tr th:only-of-type {\n",
       "        vertical-align: middle;\n",
       "    }\n",
       "\n",
       "    .dataframe tbody tr th {\n",
       "        vertical-align: top;\n",
       "    }\n",
       "\n",
       "    .dataframe thead th {\n",
       "        text-align: right;\n",
       "    }\n",
       "</style>\n",
       "<table border=\"1\" class=\"dataframe\">\n",
       "  <thead>\n",
       "    <tr style=\"text-align: right;\">\n",
       "      <th></th>\n",
       "      <th>chocolate</th>\n",
       "      <th>hard</th>\n",
       "      <th>bar</th>\n",
       "      <th>pricepercent</th>\n",
       "      <th>intercept</th>\n",
       "    </tr>\n",
       "  </thead>\n",
       "  <tbody>\n",
       "    <tr>\n",
       "      <th>0</th>\n",
       "      <td>1</td>\n",
       "      <td>0</td>\n",
       "      <td>1</td>\n",
       "      <td>0.860</td>\n",
       "      <td>1</td>\n",
       "    </tr>\n",
       "    <tr>\n",
       "      <th>1</th>\n",
       "      <td>1</td>\n",
       "      <td>0</td>\n",
       "      <td>1</td>\n",
       "      <td>0.511</td>\n",
       "      <td>1</td>\n",
       "    </tr>\n",
       "    <tr>\n",
       "      <th>4</th>\n",
       "      <td>0</td>\n",
       "      <td>0</td>\n",
       "      <td>0</td>\n",
       "      <td>0.511</td>\n",
       "      <td>1</td>\n",
       "    </tr>\n",
       "    <tr>\n",
       "      <th>5</th>\n",
       "      <td>1</td>\n",
       "      <td>0</td>\n",
       "      <td>1</td>\n",
       "      <td>0.767</td>\n",
       "      <td>1</td>\n",
       "    </tr>\n",
       "    <tr>\n",
       "      <th>6</th>\n",
       "      <td>1</td>\n",
       "      <td>0</td>\n",
       "      <td>1</td>\n",
       "      <td>0.767</td>\n",
       "      <td>1</td>\n",
       "    </tr>\n",
       "    <tr>\n",
       "      <th>...</th>\n",
       "      <td>...</td>\n",
       "      <td>...</td>\n",
       "      <td>...</td>\n",
       "      <td>...</td>\n",
       "      <td>...</td>\n",
       "    </tr>\n",
       "    <tr>\n",
       "      <th>80</th>\n",
       "      <td>0</td>\n",
       "      <td>0</td>\n",
       "      <td>0</td>\n",
       "      <td>0.116</td>\n",
       "      <td>1</td>\n",
       "    </tr>\n",
       "    <tr>\n",
       "      <th>81</th>\n",
       "      <td>0</td>\n",
       "      <td>1</td>\n",
       "      <td>0</td>\n",
       "      <td>0.116</td>\n",
       "      <td>1</td>\n",
       "    </tr>\n",
       "    <tr>\n",
       "      <th>82</th>\n",
       "      <td>0</td>\n",
       "      <td>0</td>\n",
       "      <td>0</td>\n",
       "      <td>0.313</td>\n",
       "      <td>1</td>\n",
       "    </tr>\n",
       "    <tr>\n",
       "      <th>83</th>\n",
       "      <td>0</td>\n",
       "      <td>1</td>\n",
       "      <td>0</td>\n",
       "      <td>0.267</td>\n",
       "      <td>1</td>\n",
       "    </tr>\n",
       "    <tr>\n",
       "      <th>84</th>\n",
       "      <td>1</td>\n",
       "      <td>0</td>\n",
       "      <td>0</td>\n",
       "      <td>0.848</td>\n",
       "      <td>1</td>\n",
       "    </tr>\n",
       "  </tbody>\n",
       "</table>\n",
       "<p>79 rows × 5 columns</p>\n",
       "</div>"
      ],
      "text/plain": [
       "    chocolate  hard  bar  pricepercent  intercept\n",
       "0           1     0    1         0.860          1\n",
       "1           1     0    1         0.511          1\n",
       "4           0     0    0         0.511          1\n",
       "5           1     0    1         0.767          1\n",
       "6           1     0    1         0.767          1\n",
       "..        ...   ...  ...           ...        ...\n",
       "80          0     0    0         0.116          1\n",
       "81          0     1    0         0.116          1\n",
       "82          0     0    0         0.313          1\n",
       "83          0     1    0         0.267          1\n",
       "84          1     0    0         0.848          1\n",
       "\n",
       "[79 rows x 5 columns]"
      ]
     },
     "execution_count": 47,
     "metadata": {
      "tags": []
     },
     "output_type": "execute_result"
    }
   ],
   "source": [
    "# Features for statsmodels\n",
    "train_features_st = candy_data[candy_data.columns[:-1]]\n",
    "train_features_st['intercept'] = 1\n",
    "\n",
    "train_features_st"
   ]
  },
  {
   "cell_type": "code",
   "execution_count": null,
   "metadata": {
    "colab": {
     "base_uri": "https://localhost:8080/"
    },
    "executionInfo": {
     "elapsed": 1331,
     "status": "ok",
     "timestamp": 1619243104478,
     "user": {
      "displayName": "­강수빈(학부/공과대학 컴퓨터과학)",
      "photoUrl": "",
      "userId": "07352247864639375532"
     },
     "user_tz": -540
    },
    "id": "7FYNFsQ1Xwd9",
    "outputId": "13def031-d941-45bb-b875-b7ae7a8bd51a"
   },
   "outputs": [
    {
     "data": {
      "text/plain": [
       "0     1.0\n",
       "1     1.0\n",
       "4     1.0\n",
       "5     1.0\n",
       "6     1.0\n",
       "     ... \n",
       "80    1.0\n",
       "81    0.0\n",
       "82    1.0\n",
       "83    1.0\n",
       "84    1.0\n",
       "Name: winpercent_cat, Length: 79, dtype: float64"
      ]
     },
     "execution_count": 48,
     "metadata": {
      "tags": []
     },
     "output_type": "execute_result"
    }
   ],
   "source": [
    "# target for statsmodels\n",
    "train_target_st = candy_data[candy_data.columns[-1]] # 또는 data_ohe['Survived']\n",
    "train_target_st"
   ]
  },
  {
   "cell_type": "markdown",
   "metadata": {
    "id": "fIMLvo1aYdqc"
   },
   "source": [
    "### Target Variable\n",
    "\n",
    "Question: Can you predict whether a candy likely to win based on its other features?"
   ]
  },
  {
   "cell_type": "code",
   "execution_count": null,
   "metadata": {
    "colab": {
     "base_uri": "https://localhost:8080/",
     "height": 265
    },
    "executionInfo": {
     "elapsed": 1581,
     "status": "ok",
     "timestamp": 1619243105602,
     "user": {
      "displayName": "­강수빈(학부/공과대학 컴퓨터과학)",
      "photoUrl": "",
      "userId": "07352247864639375532"
     },
     "user_tz": -540
    },
    "id": "QUbpwCOAYniW",
    "outputId": "3f586057-7422-4bec-d4ca-321230e11a31"
   },
   "outputs": [
    {
     "data": {
      "image/png": "[encoded data removed]",
      "text/plain": [
       "<Figure size 432x288 with 1 Axes>"
      ]
     },
     "metadata": {
      "needs_background": "light",
      "tags": []
     },
     "output_type": "display_data"
    }
   ],
   "source": [
    "candy_data['winpercent_cat'].value_counts().plot.barh();"
   ]
  },
  {
   "cell_type": "markdown",
   "metadata": {
    "id": "-z7QzJLXsZiw"
   },
   "source": [
    "### Step4. Imbalanced data 문제 해결 & Train;Validation data 분리"
   ]
  },
  {
   "cell_type": "code",
   "execution_count": null,
   "metadata": {
    "colab": {
     "base_uri": "https://localhost:8080/"
    },
    "executionInfo": {
     "elapsed": 1563,
     "status": "ok",
     "timestamp": 1619243106429,
     "user": {
      "displayName": "­강수빈(학부/공과대학 컴퓨터과학)",
      "photoUrl": "",
      "userId": "07352247864639375532"
     },
     "user_tz": -540
    },
    "id": "lgie8rBusZix",
    "outputId": "d536a8e2-28fc-4a99-bb55-eccb09ecbed5"
   },
   "outputs": [
    {
     "name": "stderr",
     "output_type": "stream",
     "text": [
      "/usr/local/lib/python3.7/dist-packages/sklearn/externals/six.py:31: FutureWarning: The module is deprecated in version 0.21 and will be removed in version 0.23 since we've dropped support for Python 2.7. Please rely on the official version of six (https://pypi.org/project/six/).\n",
      "  \"(https://pypi.org/project/six/).\", FutureWarning)\n",
      "/usr/local/lib/python3.7/dist-packages/sklearn/utils/deprecation.py:144: FutureWarning: The sklearn.neighbors.base module is  deprecated in version 0.22 and will be removed in version 0.24. The corresponding classes / functions should instead be imported from sklearn.neighbors. Anything that cannot be imported from sklearn.neighbors is now part of the private API.\n",
      "  warnings.warn(message, FutureWarning)\n",
      "/usr/local/lib/python3.7/dist-packages/sklearn/utils/deprecation.py:87: FutureWarning: Function safe_indexing is deprecated; safe_indexing is deprecated in version 0.22 and will be removed in version 0.24.\n",
      "  warnings.warn(msg, category=FutureWarning)\n",
      "/usr/local/lib/python3.7/dist-packages/sklearn/utils/deprecation.py:87: FutureWarning: Function safe_indexing is deprecated; safe_indexing is deprecated in version 0.22 and will be removed in version 0.24.\n",
      "  warnings.warn(msg, category=FutureWarning)\n"
     ]
    }
   ],
   "source": [
    "#shuffle & undersample\n",
    "import sklearn\n",
    "x_shuffled = sklearn.utils.shuffle(train_features_st, random_state=2021)\n",
    "y_shuffled =sklearn.utils.shuffle(train_target_st, random_state=2021)\n",
    "\n",
    "import imblearn\n",
    "from imblearn.under_sampling import RandomUnderSampler\n",
    "from imblearn.over_sampling import RandomOverSampler\n",
    "X_resampled_under, y_resampled_under = RandomUnderSampler(random_state=2021).fit_resample(x_shuffled, y_shuffled)\n",
    "X_resampled_over, y_resampled_over = RandomOverSampler(random_state=2021).fit_resample(x_shuffled, y_shuffled)"
   ]
  },
  {
   "cell_type": "code",
   "execution_count": null,
   "metadata": {
    "colab": {
     "base_uri": "https://localhost:8080/"
    },
    "executionInfo": {
     "elapsed": 1172,
     "status": "ok",
     "timestamp": 1619243106430,
     "user": {
      "displayName": "­강수빈(학부/공과대학 컴퓨터과학)",
      "photoUrl": "",
      "userId": "07352247864639375532"
     },
     "user_tz": -540
    },
    "id": "q3XRrlxBsZix",
    "outputId": "a3490eda-0492-4e41-d1db-dd435dcbcdf7"
   },
   "outputs": [
    {
     "name": "stdout",
     "output_type": "stream",
     "text": [
      "1.0    20\n",
      "0.0    20\n",
      "dtype: int64\n",
      "1.0    59\n",
      "0.0    59\n",
      "dtype: int64\n"
     ]
    }
   ],
   "source": [
    "import pandas as pd\n",
    "print(pd.DataFrame(y_resampled_under).value_counts())\n",
    "print(pd.DataFrame(y_resampled_over).value_counts())"
   ]
  },
  {
   "cell_type": "code",
   "execution_count": null,
   "metadata": {
    "id": "cIISYKV7sZiz"
   },
   "outputs": [],
   "source": [
    "# train: validation = 7:3 분리 - undersample\n",
    "from sklearn.model_selection import train_test_split\n",
    "training_data_under, validation_data_under , training_labels_under, validation_labels_under = train_test_split(X_resampled_under, y_resampled_under, test_size = 0.3, random_state = 20)"
   ]
  },
  {
   "cell_type": "code",
   "execution_count": null,
   "metadata": {
    "id": "DAwMhxdJamte"
   },
   "outputs": [],
   "source": [
    "# train: validation = 7:3 분리 - oversample\n",
    "from sklearn.model_selection import train_test_split\n",
    "training_data_over, validation_data_over , training_labels_over, validation_labels_over = train_test_split(X_resampled_over, y_resampled_over, test_size = 0.3, random_state = 25)"
   ]
  },
  {
   "cell_type": "markdown",
   "metadata": {
    "id": "dD51p8VOwyu7"
   },
   "source": [
    "# Modeling\n"
   ]
  },
  {
   "cell_type": "markdown",
   "metadata": {
    "id": "QoU1CN1-xMaO"
   },
   "source": [
    "## 1. Under Sampling"
   ]
  },
  {
   "cell_type": "code",
   "execution_count": null,
   "metadata": {
    "colab": {
     "base_uri": "https://localhost:8080/"
    },
    "executionInfo": {
     "elapsed": 1656,
     "status": "ok",
     "timestamp": 1619243109186,
     "user": {
      "displayName": "­강수빈(학부/공과대학 컴퓨터과학)",
      "photoUrl": "",
      "userId": "07352247864639375532"
     },
     "user_tz": -540
    },
    "id": "6osg7mC7sZi2",
    "outputId": "84bd8da5-30c7-4a3f-9c45-f27f839636fe"
   },
   "outputs": [
    {
     "name": "stderr",
     "output_type": "stream",
     "text": [
      "/usr/local/lib/python3.7/dist-packages/statsmodels/tools/_testing.py:19: FutureWarning: pandas.util.testing is deprecated. Use the functions in the public API at pandas.testing instead.\n",
      "  import pandas.util.testing as tm\n"
     ]
    },
    {
     "name": "stdout",
     "output_type": "stream",
     "text": [
      "Optimization terminated successfully.\n",
      "         Current function value: 0.613763\n",
      "         Iterations 6\n"
     ]
    }
   ],
   "source": [
    "import statsmodels.api as sm\n",
    "model_sm = sm.Logit(training_labels_under, training_data_under) #로지스틱 회귀분석 시행\n",
    "fit_result_sm = model_sm.fit()"
   ]
  },
  {
   "cell_type": "code",
   "execution_count": null,
   "metadata": {
    "colab": {
     "base_uri": "https://localhost:8080/",
     "height": 297
    },
    "executionInfo": {
     "elapsed": 1207,
     "status": "ok",
     "timestamp": 1619243109188,
     "user": {
      "displayName": "­강수빈(학부/공과대학 컴퓨터과학)",
      "photoUrl": "",
      "userId": "07352247864639375532"
     },
     "user_tz": -540
    },
    "id": "4YWlzyQDshn-",
    "outputId": "5a4675e0-d02e-4bf6-bfca-307f7496d54d"
   },
   "outputs": [
    {
     "data": {
      "text/html": [
       "<table class=\"simpletable\">\n",
       "<caption>Logit Regression Results</caption>\n",
       "<tr>\n",
       "  <th>Dep. Variable:</th>           <td>y</td>        <th>  No. Observations:  </th>  <td>    28</td> \n",
       "</tr>\n",
       "<tr>\n",
       "  <th>Model:</th>                 <td>Logit</td>      <th>  Df Residuals:      </th>  <td>    23</td> \n",
       "</tr>\n",
       "<tr>\n",
       "  <th>Method:</th>                 <td>MLE</td>       <th>  Df Model:          </th>  <td>     4</td> \n",
       "</tr>\n",
       "<tr>\n",
       "  <th>Date:</th>            <td>Sat, 24 Apr 2021</td> <th>  Pseudo R-squ.:     </th>  <td>0.1113</td> \n",
       "</tr>\n",
       "<tr>\n",
       "  <th>Time:</th>                <td>05:45:08</td>     <th>  Log-Likelihood:    </th> <td> -17.185</td>\n",
       "</tr>\n",
       "<tr>\n",
       "  <th>converged:</th>             <td>True</td>       <th>  LL-Null:           </th> <td> -19.337</td>\n",
       "</tr>\n",
       "<tr>\n",
       "  <th>Covariance Type:</th>     <td>nonrobust</td>    <th>  LLR p-value:       </th>  <td>0.3666</td> \n",
       "</tr>\n",
       "</table>\n",
       "<table class=\"simpletable\">\n",
       "<tr>\n",
       "    <td></td>       <th>coef</th>     <th>std err</th>      <th>z</th>      <th>P>|z|</th>  <th>[0.025</th>    <th>0.975]</th>  \n",
       "</tr>\n",
       "<tr>\n",
       "  <th>x1</th>    <td>    0.6542</td> <td>    1.027</td> <td>    0.637</td> <td> 0.524</td> <td>   -1.359</td> <td>    2.667</td>\n",
       "</tr>\n",
       "<tr>\n",
       "  <th>x2</th>    <td>   -0.4514</td> <td>    1.081</td> <td>   -0.418</td> <td> 0.676</td> <td>   -2.569</td> <td>    1.667</td>\n",
       "</tr>\n",
       "<tr>\n",
       "  <th>x3</th>    <td>    1.1283</td> <td>    1.320</td> <td>    0.855</td> <td> 0.393</td> <td>   -1.459</td> <td>    3.715</td>\n",
       "</tr>\n",
       "<tr>\n",
       "  <th>x4</th>    <td>    0.6475</td> <td>    1.453</td> <td>    0.446</td> <td> 0.656</td> <td>   -2.200</td> <td>    3.495</td>\n",
       "</tr>\n",
       "<tr>\n",
       "  <th>const</th> <td>   -0.5188</td> <td>    0.806</td> <td>   -0.643</td> <td> 0.520</td> <td>   -2.099</td> <td>    1.061</td>\n",
       "</tr>\n",
       "</table>"
      ],
      "text/plain": [
       "<class 'statsmodels.iolib.summary.Summary'>\n",
       "\"\"\"\n",
       "                           Logit Regression Results                           \n",
       "==============================================================================\n",
       "Dep. Variable:                      y   No. Observations:                   28\n",
       "Model:                          Logit   Df Residuals:                       23\n",
       "Method:                           MLE   Df Model:                            4\n",
       "Date:                Sat, 24 Apr 2021   Pseudo R-squ.:                  0.1113\n",
       "Time:                        05:45:08   Log-Likelihood:                -17.185\n",
       "converged:                       True   LL-Null:                       -19.337\n",
       "Covariance Type:            nonrobust   LLR p-value:                    0.3666\n",
       "==============================================================================\n",
       "                 coef    std err          z      P>|z|      [0.025      0.975]\n",
       "------------------------------------------------------------------------------\n",
       "x1             0.6542      1.027      0.637      0.524      -1.359       2.667\n",
       "x2            -0.4514      1.081     -0.418      0.676      -2.569       1.667\n",
       "x3             1.1283      1.320      0.855      0.393      -1.459       3.715\n",
       "x4             0.6475      1.453      0.446      0.656      -2.200       3.495\n",
       "const         -0.5188      0.806     -0.643      0.520      -2.099       1.061\n",
       "==============================================================================\n",
       "\"\"\""
      ]
     },
     "execution_count": 55,
     "metadata": {
      "tags": []
     },
     "output_type": "execute_result"
    }
   ],
   "source": [
    "fit_result_sm.summary()"
   ]
  },
  {
   "cell_type": "code",
   "execution_count": null,
   "metadata": {
    "colab": {
     "base_uri": "https://localhost:8080/"
    },
    "executionInfo": {
     "elapsed": 736,
     "status": "ok",
     "timestamp": 1619243109189,
     "user": {
      "displayName": "­강수빈(학부/공과대학 컴퓨터과학)",
      "photoUrl": "",
      "userId": "07352247864639375532"
     },
     "user_tz": -540
    },
    "id": "TLlroLxFs2-a",
    "outputId": "275a16f8-4ac4-49f0-8588-8eea6f193226"
   },
   "outputs": [
    {
     "data": {
      "text/plain": [
       "array([1.92352018, 0.63675176, 3.09052628, 1.91075486, 0.59522498])"
      ]
     },
     "execution_count": 56,
     "metadata": {
      "tags": []
     },
     "output_type": "execute_result"
    }
   ],
   "source": [
    "# Odds ratio\n",
    "import numpy as np\n",
    "np.exp(fit_result_sm.params)\n",
    "\n",
    "## reference\n",
    "## intercept는 Odds ratio 해석 x"
   ]
  },
  {
   "cell_type": "code",
   "execution_count": null,
   "metadata": {
    "colab": {
     "base_uri": "https://localhost:8080/"
    },
    "executionInfo": {
     "elapsed": 727,
     "status": "ok",
     "timestamp": 1619243109692,
     "user": {
      "displayName": "­강수빈(학부/공과대학 컴퓨터과학)",
      "photoUrl": "",
      "userId": "07352247864639375532"
     },
     "user_tz": -540
    },
    "id": "Xgos3KbLtEGs",
    "outputId": "e686de2f-904f-493f-ffc1-34acb71c8fe9"
   },
   "outputs": [
    {
     "data": {
      "text/plain": [
       "array([0.39085826, 0.8650737 , 0.31060141, 0.28239017, 0.75141193,\n",
       "       0.31869962, 0.63572629, 0.84359239, 0.44578175, 0.42351049,\n",
       "       0.4145092 , 0.83125588, 0.37829277, 0.39085826, 0.42351049,\n",
       "       0.45315178, 0.54680964, 0.52825552, 0.39454786, 0.42351049,\n",
       "       0.61448698, 0.27925174, 0.8650737 , 0.63572629, 0.63572629,\n",
       "       0.68293644, 0.39085826, 0.84359239])"
      ]
     },
     "execution_count": 57,
     "metadata": {
      "tags": []
     },
     "output_type": "execute_result"
    }
   ],
   "source": [
    "# Probability 값 in train\n",
    "fit_result_sm.predict(training_data_under)\n",
    "# 기존 data에 pbrobablity값을 추가하고 싶다면?\n",
    "# data_ohe[\"predict_prob\"] = fit_result_sm.predict(train_features_st)"
   ]
  },
  {
   "cell_type": "code",
   "execution_count": null,
   "metadata": {
    "colab": {
     "base_uri": "https://localhost:8080/"
    },
    "executionInfo": {
     "elapsed": 1344,
     "status": "ok",
     "timestamp": 1619243110858,
     "user": {
      "displayName": "­강수빈(학부/공과대학 컴퓨터과학)",
      "photoUrl": "",
      "userId": "07352247864639375532"
     },
     "user_tz": -540
    },
    "id": "S4rlAXAYtJ8Z",
    "outputId": "cce4dbcc-16c7-47f3-f610-21261120467e"
   },
   "outputs": [
    {
     "data": {
      "text/plain": [
       "array([0.34540037, 0.39085826, 0.31869962, 0.29006232, 0.49445409,\n",
       "       0.86062985, 0.44578175, 0.45315178, 0.42351049, 0.28846489,\n",
       "       0.42351049, 0.61448698])"
      ]
     },
     "execution_count": 58,
     "metadata": {
      "tags": []
     },
     "output_type": "execute_result"
    }
   ],
   "source": [
    "# Probability 값 in validation\n",
    "predict_probability_valid_y_under = fit_result_sm.predict(validation_data_under)\n",
    "predict_probability_valid_y_under"
   ]
  },
  {
   "cell_type": "code",
   "execution_count": null,
   "metadata": {
    "id": "HhPpO_15torp"
   },
   "outputs": [],
   "source": [
    "# 경계값cut off value에 따라 0,1 값 변환\n",
    "def change_cutoff(pred_prob_y, cutoff):\n",
    "    Y_change = pred_prob_y.copy()\n",
    "    Y_change[Y_change > cutoff] = 1\n",
    "    Y_change[Y_change <= cutoff] = 0\n",
    "    return(Y_change.astype(int))"
   ]
  },
  {
   "cell_type": "markdown",
   "metadata": {
    "id": "Fer6Aez9xrdf"
   },
   "source": [
    "### 1) 경계값 : 0.5"
   ]
  },
  {
   "cell_type": "code",
   "execution_count": null,
   "metadata": {
    "colab": {
     "base_uri": "https://localhost:8080/"
    },
    "executionInfo": {
     "elapsed": 855,
     "status": "ok",
     "timestamp": 1619243112269,
     "user": {
      "displayName": "­강수빈(학부/공과대학 컴퓨터과학)",
      "photoUrl": "",
      "userId": "07352247864639375532"
     },
     "user_tz": -540
    },
    "id": "sEHws3G9trQX",
    "outputId": "4be4c1ee-0c27-45e8-fe18-e19bbf8440aa"
   },
   "outputs": [
    {
     "data": {
      "text/plain": [
       "array([0, 0, 0, 0, 0, 1, 0, 0, 0, 0, 0, 1])"
      ]
     },
     "execution_count": 60,
     "metadata": {
      "tags": []
     },
     "output_type": "execute_result"
    }
   ],
   "source": [
    "pred_y_05 = change_cutoff(predict_probability_valid_y_under, 0.5)\n",
    "pred_y_05"
   ]
  },
  {
   "cell_type": "code",
   "execution_count": null,
   "metadata": {
    "colab": {
     "base_uri": "https://localhost:8080/"
    },
    "executionInfo": {
     "elapsed": 789,
     "status": "ok",
     "timestamp": 1619243112270,
     "user": {
      "displayName": "­강수빈(학부/공과대학 컴퓨터과학)",
      "photoUrl": "",
      "userId": "07352247864639375532"
     },
     "user_tz": -540
    },
    "id": "hyGiS26Qx2TH",
    "outputId": "6d402e3b-5f42-484d-fd69-4f3bc3e49457"
   },
   "outputs": [
    {
     "data": {
      "text/plain": [
       "array([[7, 0],\n",
       "       [3, 2]])"
      ]
     },
     "execution_count": 61,
     "metadata": {
      "tags": []
     },
     "output_type": "execute_result"
    }
   ],
   "source": [
    "# Confusion Matrix 방법1\n",
    "# from sklearn.metrics import confusion_matrix\n",
    "# confusion_matrix(validation_labels, model.predict(validation_data))\n",
    "## 여기서 model은 fit_result_sm 또는 fit_result_skl\n",
    "from sklearn.metrics import confusion_matrix\n",
    "confusion_matrix(validation_labels_under, pred_y_05)\n",
    "\n",
    "# Confusion Matrix 설명\n",
    "\n",
    "#          예측값\n",
    "# 실제값  TN   FP\n",
    "#         FN   TP\n",
    "\n",
    "# 기준: y=0: Negative, y=1: Positive\n",
    "# 기준: y=0: 사망, y=1: 생존"
   ]
  },
  {
   "cell_type": "code",
   "execution_count": null,
   "metadata": {
    "colab": {
     "base_uri": "https://localhost:8080/",
     "height": 137
    },
    "executionInfo": {
     "elapsed": 799,
     "status": "ok",
     "timestamp": 1619243112661,
     "user": {
      "displayName": "­강수빈(학부/공과대학 컴퓨터과학)",
      "photoUrl": "",
      "userId": "07352247864639375532"
     },
     "user_tz": -540
    },
    "id": "0QQItq5ByAMQ",
    "outputId": "c82b7971-2c9a-4bdd-d736-ac4cf89cdacc"
   },
   "outputs": [
    {
     "data": {
      "text/html": [
       "<div>\n",
       "<style scoped>\n",
       "    .dataframe tbody tr th:only-of-type {\n",
       "        vertical-align: middle;\n",
       "    }\n",
       "\n",
       "    .dataframe tbody tr th {\n",
       "        vertical-align: top;\n",
       "    }\n",
       "\n",
       "    .dataframe thead th {\n",
       "        text-align: right;\n",
       "    }\n",
       "</style>\n",
       "<table border=\"1\" class=\"dataframe\">\n",
       "  <thead>\n",
       "    <tr style=\"text-align: right;\">\n",
       "      <th>Predicted</th>\n",
       "      <th>0</th>\n",
       "      <th>1</th>\n",
       "    </tr>\n",
       "    <tr>\n",
       "      <th>Actual</th>\n",
       "      <th></th>\n",
       "      <th></th>\n",
       "    </tr>\n",
       "  </thead>\n",
       "  <tbody>\n",
       "    <tr>\n",
       "      <th>0.0</th>\n",
       "      <td>7</td>\n",
       "      <td>0</td>\n",
       "    </tr>\n",
       "    <tr>\n",
       "      <th>1.0</th>\n",
       "      <td>3</td>\n",
       "      <td>2</td>\n",
       "    </tr>\n",
       "  </tbody>\n",
       "</table>\n",
       "</div>"
      ],
      "text/plain": [
       "Predicted  0  1\n",
       "Actual         \n",
       "0.0        7  0\n",
       "1.0        3  2"
      ]
     },
     "execution_count": 62,
     "metadata": {
      "tags": []
     },
     "output_type": "execute_result"
    }
   ],
   "source": [
    "# Confusion Matrix 방법2\n",
    "import numpy as np\n",
    "import pandas as pd\n",
    "y_actu = pd.Series(validation_labels_under, name='Actual') # validation_labels는 array형태여야함\n",
    "y_pred_05 = pd.Series(pred_y_05, name='Predicted')\n",
    "df_confusion = pd.crosstab(y_actu, y_pred_05)\n",
    "\n",
    "df_confusion\n",
    "\n",
    "# Confusion Matrix 설명\n",
    "\n",
    "#          예측값\n",
    "# 실제값  TN   FP\n",
    "#         FN   TP\n",
    "\n",
    "# 기준: y=0: Negative, y=1: Positive\n",
    "# 기준: y=0: 사망, y=1: 생존"
   ]
  },
  {
   "cell_type": "code",
   "execution_count": null,
   "metadata": {
    "colab": {
     "base_uri": "https://localhost:8080/"
    },
    "executionInfo": {
     "elapsed": 716,
     "status": "ok",
     "timestamp": 1619243113047,
     "user": {
      "displayName": "­강수빈(학부/공과대학 컴퓨터과학)",
      "photoUrl": "",
      "userId": "07352247864639375532"
     },
     "user_tz": -540
    },
    "id": "9lPEOt64yFVn",
    "outputId": "3c38f1a2-c0e1-4f94-c9e5-2afb9a86fa6a"
   },
   "outputs": [
    {
     "name": "stdout",
     "output_type": "stream",
     "text": [
      "Accuracy:  0.7500\n",
      "precision:  1.0000\n",
      "recall:  0.4000\n",
      "f1_score:  0.5714\n",
      "AUC:  0.7000\n"
     ]
    }
   ],
   "source": [
    "from sklearn.metrics import accuracy_score, precision_score, recall_score, f1_score, roc_auc_score\n",
    "\n",
    "print('Accuracy: {0: .4f}'.format(accuracy_score(validation_labels_under, pred_y_05)))\n",
    "print('precision: {0: .4f}'.format(precision_score(validation_labels_under, pred_y_05)))\n",
    "print('recall: {0: .4f}'.format(recall_score(validation_labels_under, pred_y_05)))\n",
    "print('f1_score: {0: .4f}'.format(f1_score(validation_labels_under, pred_y_05)))\n",
    "print('AUC: {0: .4f}'.format(roc_auc_score(validation_labels_under, pred_y_05)))"
   ]
  },
  {
   "cell_type": "markdown",
   "metadata": {
    "id": "2Vw9I27cyVrT"
   },
   "source": [
    "### 2) 경계값 : 0.7"
   ]
  },
  {
   "cell_type": "code",
   "execution_count": null,
   "metadata": {
    "colab": {
     "base_uri": "https://localhost:8080/"
    },
    "executionInfo": {
     "elapsed": 628,
     "status": "ok",
     "timestamp": 1619243113887,
     "user": {
      "displayName": "­강수빈(학부/공과대학 컴퓨터과학)",
      "photoUrl": "",
      "userId": "07352247864639375532"
     },
     "user_tz": -540
    },
    "id": "zKSnnNnCtsiR",
    "outputId": "a280ed31-8193-4ccb-99dd-133a8870fd75"
   },
   "outputs": [
    {
     "data": {
      "text/plain": [
       "array([0, 0, 0, 0, 0, 1, 0, 0, 0, 0, 0, 0])"
      ]
     },
     "execution_count": 64,
     "metadata": {
      "tags": []
     },
     "output_type": "execute_result"
    }
   ],
   "source": [
    "pred_y_07 = change_cutoff(predict_probability_valid_y_under, 0.7)\n",
    "pred_y_07"
   ]
  },
  {
   "cell_type": "code",
   "execution_count": null,
   "metadata": {
    "colab": {
     "base_uri": "https://localhost:8080/"
    },
    "executionInfo": {
     "elapsed": 1102,
     "status": "ok",
     "timestamp": 1619243114878,
     "user": {
      "displayName": "­강수빈(학부/공과대학 컴퓨터과학)",
      "photoUrl": "",
      "userId": "07352247864639375532"
     },
     "user_tz": -540
    },
    "id": "wmwpREx5tu_8",
    "outputId": "4d53e01f-6791-48a6-98d6-4a98b37b81fc"
   },
   "outputs": [
    {
     "data": {
      "text/plain": [
       "array([[7, 0],\n",
       "       [4, 1]])"
      ]
     },
     "execution_count": 65,
     "metadata": {
      "tags": []
     },
     "output_type": "execute_result"
    }
   ],
   "source": [
    "# Confusion Matrix 방법1\n",
    "# from sklearn.metrics import confusion_matrix\n",
    "# confusion_matrix(validation_labels, model.predict(validation_data))\n",
    "## 여기서 model은 fit_result_sm 또는 fit_result_skl\n",
    "from sklearn.metrics import confusion_matrix\n",
    "confusion_matrix(validation_labels_under, pred_y_07)\n",
    "\n",
    "# Confusion Matrix 설명\n",
    "\n",
    "#          예측값\n",
    "# 실제값  TN   FP\n",
    "#         FN   TP\n",
    "\n",
    "# 기준: y=0: Negative, y=1: Positive\n",
    "# 기준: y=0: 사망, y=1: 생존"
   ]
  },
  {
   "cell_type": "code",
   "execution_count": null,
   "metadata": {
    "colab": {
     "base_uri": "https://localhost:8080/",
     "height": 137
    },
    "executionInfo": {
     "elapsed": 1054,
     "status": "ok",
     "timestamp": 1619243115323,
     "user": {
      "displayName": "­강수빈(학부/공과대학 컴퓨터과학)",
      "photoUrl": "",
      "userId": "07352247864639375532"
     },
     "user_tz": -540
    },
    "id": "kwxIyXJO8DNL",
    "outputId": "4ad2cd77-c9ba-49a1-d2b8-313d68ddec4e"
   },
   "outputs": [
    {
     "data": {
      "text/html": [
       "<div>\n",
       "<style scoped>\n",
       "    .dataframe tbody tr th:only-of-type {\n",
       "        vertical-align: middle;\n",
       "    }\n",
       "\n",
       "    .dataframe tbody tr th {\n",
       "        vertical-align: top;\n",
       "    }\n",
       "\n",
       "    .dataframe thead th {\n",
       "        text-align: right;\n",
       "    }\n",
       "</style>\n",
       "<table border=\"1\" class=\"dataframe\">\n",
       "  <thead>\n",
       "    <tr style=\"text-align: right;\">\n",
       "      <th>Predicted</th>\n",
       "      <th>0</th>\n",
       "      <th>1</th>\n",
       "    </tr>\n",
       "    <tr>\n",
       "      <th>Actual</th>\n",
       "      <th></th>\n",
       "      <th></th>\n",
       "    </tr>\n",
       "  </thead>\n",
       "  <tbody>\n",
       "    <tr>\n",
       "      <th>0.0</th>\n",
       "      <td>7</td>\n",
       "      <td>0</td>\n",
       "    </tr>\n",
       "    <tr>\n",
       "      <th>1.0</th>\n",
       "      <td>4</td>\n",
       "      <td>1</td>\n",
       "    </tr>\n",
       "  </tbody>\n",
       "</table>\n",
       "</div>"
      ],
      "text/plain": [
       "Predicted  0  1\n",
       "Actual         \n",
       "0.0        7  0\n",
       "1.0        4  1"
      ]
     },
     "execution_count": 66,
     "metadata": {
      "tags": []
     },
     "output_type": "execute_result"
    }
   ],
   "source": [
    "# Confusion Matrix 방법2\n",
    "import numpy as np\n",
    "import pandas as pd\n",
    "y_actu = pd.Series(validation_labels_under, name='Actual') # validation_labels는 array형태여야함\n",
    "y_pred_07 = pd.Series(pred_y_07, name='Predicted')\n",
    "df_confusion = pd.crosstab(y_actu, y_pred_07)\n",
    "\n",
    "df_confusion\n",
    "\n",
    "# Confusion Matrix 설명\n",
    "\n",
    "#          예측값\n",
    "# 실제값  TN   FP\n",
    "#         FN   TP\n",
    "\n",
    "# 기준: y=0: Negative, y=1: Positive\n",
    "# 기준: y=0: 사망, y=1: 생존"
   ]
  },
  {
   "cell_type": "code",
   "execution_count": null,
   "metadata": {
    "colab": {
     "base_uri": "https://localhost:8080/"
    },
    "executionInfo": {
     "elapsed": 919,
     "status": "ok",
     "timestamp": 1619243115697,
     "user": {
      "displayName": "­강수빈(학부/공과대학 컴퓨터과학)",
      "photoUrl": "",
      "userId": "07352247864639375532"
     },
     "user_tz": -540
    },
    "id": "_AsIfzVj8FH8",
    "outputId": "b3c71704-365f-4dc9-8e3a-77d71aea3507"
   },
   "outputs": [
    {
     "name": "stdout",
     "output_type": "stream",
     "text": [
      "Accuracy:  0.6667\n",
      "precision:  1.0000\n",
      "recall:  0.2000\n",
      "f1_score:  0.3333\n",
      "AUC:  0.6000\n"
     ]
    }
   ],
   "source": [
    "from sklearn.metrics import accuracy_score, precision_score, recall_score, f1_score, roc_auc_score\n",
    "\n",
    "print('Accuracy: {0: .4f}'.format(accuracy_score(validation_labels_under, pred_y_07)))\n",
    "print('precision: {0: .4f}'.format(precision_score(validation_labels_under, pred_y_07)))\n",
    "print('recall: {0: .4f}'.format(recall_score(validation_labels_under, pred_y_07)))\n",
    "print('f1_score: {0: .4f}'.format(f1_score(validation_labels_under, pred_y_07)))\n",
    "print('AUC: {0: .4f}'.format(roc_auc_score(validation_labels_under, pred_y_07)))"
   ]
  },
  {
   "cell_type": "code",
   "execution_count": null,
   "metadata": {
    "colab": {
     "base_uri": "https://localhost:8080/",
     "height": 279
    },
    "executionInfo": {
     "elapsed": 1659,
     "status": "ok",
     "timestamp": 1619243116872,
     "user": {
      "displayName": "­강수빈(학부/공과대학 컴퓨터과학)",
      "photoUrl": "",
      "userId": "07352247864639375532"
     },
     "user_tz": -540
    },
    "id": "KWVPn6bvyzaN",
    "outputId": "ef84ed4e-9a46-4d0e-c8c2-8d29f89843f4"
   },
   "outputs": [
    {
     "data": {
      "image/png": "[encoded data removed]",
      "text/plain": [
       "<Figure size 432x288 with 1 Axes>"
      ]
     },
     "metadata": {
      "needs_background": "light",
      "tags": []
     },
     "output_type": "display_data"
    }
   ],
   "source": [
    "from sklearn.metrics import roc_curve\n",
    "\n",
    "def roc_curve_plot(y_test , pred_proba_c1):\n",
    "    # 임곗값에 따른 FPR, TPR 값을 반환 받음. \n",
    "    fprs , tprs , thresholds = roc_curve(y_test ,pred_proba_c1)\n",
    "\n",
    "    # ROC Curve를 plot 곡선으로 그림. \n",
    "    plt.plot(fprs , tprs, label='ROC')\n",
    "    # 가운데 대각선 직선을 그림. \n",
    "    plt.plot([0, 1], [0, 1], 'k--', label='Random')\n",
    "  \n",
    "    # FPR X 축의 Scale을 0.1 단위로 변경, X,Y 축명 설정등   \n",
    "    start, end = plt.xlim()\n",
    "    plt.xticks(np.round(np.arange(start, end, 0.1),2))\n",
    "    plt.xlim(0,1)\n",
    "    plt.ylim(0,1.1)\n",
    "    plt.xlabel('FPR( 1 - Sensitivity )')\n",
    "    # plt.ylabel('TPR( Recall )')\n",
    "    plt.legend()\n",
    "    plt.show()\n",
    "  \n",
    "roc_curve_plot(validation_labels_under, predict_probability_valid_y_under)\n",
    "\n",
    "# 아까 modeling에서 predict_probability_valid_y = fit_result_sm.predict(validation_data) 을 했음"
   ]
  },
  {
   "cell_type": "markdown",
   "metadata": {
    "id": "ko2Hk1xFzHJr"
   },
   "source": [
    "## 2. Over Sampling"
   ]
  },
  {
   "cell_type": "code",
   "execution_count": null,
   "metadata": {
    "colab": {
     "base_uri": "https://localhost:8080/"
    },
    "executionInfo": {
     "elapsed": 1001,
     "status": "ok",
     "timestamp": 1619243117306,
     "user": {
      "displayName": "­강수빈(학부/공과대학 컴퓨터과학)",
      "photoUrl": "",
      "userId": "07352247864639375532"
     },
     "user_tz": -540
    },
    "id": "M7ZzCCeEW2wg",
    "outputId": "596591e0-673e-44f2-f7cf-5a09002175cf"
   },
   "outputs": [
    {
     "name": "stdout",
     "output_type": "stream",
     "text": [
      "Optimization terminated successfully.\n",
      "         Current function value: 0.590907\n",
      "         Iterations 6\n"
     ]
    }
   ],
   "source": [
    "import statsmodels.api as sm\n",
    "model_sm = sm.Logit(training_labels_over, training_data_over) #로지스틱 회귀분석 시행\n",
    "fit_result_sm = model_sm.fit()"
   ]
  },
  {
   "cell_type": "code",
   "execution_count": null,
   "metadata": {
    "colab": {
     "base_uri": "https://localhost:8080/",
     "height": 297
    },
    "executionInfo": {
     "elapsed": 1104,
     "status": "ok",
     "timestamp": 1619243117777,
     "user": {
      "displayName": "­강수빈(학부/공과대학 컴퓨터과학)",
      "photoUrl": "",
      "userId": "07352247864639375532"
     },
     "user_tz": -540
    },
    "id": "ImBctjn7W2tl",
    "outputId": "655bda6c-b2f7-4295-9507-ef86ba4bb08d"
   },
   "outputs": [
    {
     "data": {
      "text/html": [
       "<table class=\"simpletable\">\n",
       "<caption>Logit Regression Results</caption>\n",
       "<tr>\n",
       "  <th>Dep. Variable:</th>           <td>y</td>        <th>  No. Observations:  </th>  <td>    82</td> \n",
       "</tr>\n",
       "<tr>\n",
       "  <th>Model:</th>                 <td>Logit</td>      <th>  Df Residuals:      </th>  <td>    77</td> \n",
       "</tr>\n",
       "<tr>\n",
       "  <th>Method:</th>                 <td>MLE</td>       <th>  Df Model:          </th>  <td>     4</td> \n",
       "</tr>\n",
       "<tr>\n",
       "  <th>Date:</th>            <td>Sat, 24 Apr 2021</td> <th>  Pseudo R-squ.:     </th>  <td>0.1442</td> \n",
       "</tr>\n",
       "<tr>\n",
       "  <th>Time:</th>                <td>05:45:16</td>     <th>  Log-Likelihood:    </th> <td> -48.454</td>\n",
       "</tr>\n",
       "<tr>\n",
       "  <th>converged:</th>             <td>True</td>       <th>  LL-Null:           </th> <td> -56.618</td>\n",
       "</tr>\n",
       "<tr>\n",
       "  <th>Covariance Type:</th>     <td>nonrobust</td>    <th>  LLR p-value:       </th> <td>0.002609</td>\n",
       "</tr>\n",
       "</table>\n",
       "<table class=\"simpletable\">\n",
       "<tr>\n",
       "    <td></td>       <th>coef</th>     <th>std err</th>      <th>z</th>      <th>P>|z|</th>  <th>[0.025</th>    <th>0.975]</th>  \n",
       "</tr>\n",
       "<tr>\n",
       "  <th>x1</th>    <td>    0.7665</td> <td>    0.826</td> <td>    0.928</td> <td> 0.353</td> <td>   -0.853</td> <td>    2.386</td>\n",
       "</tr>\n",
       "<tr>\n",
       "  <th>x2</th>    <td>   -0.8400</td> <td>    0.598</td> <td>   -1.405</td> <td> 0.160</td> <td>   -2.012</td> <td>    0.332</td>\n",
       "</tr>\n",
       "<tr>\n",
       "  <th>x3</th>    <td>    1.4343</td> <td>    1.112</td> <td>    1.290</td> <td> 0.197</td> <td>   -0.745</td> <td>    3.614</td>\n",
       "</tr>\n",
       "<tr>\n",
       "  <th>x4</th>    <td>    0.1107</td> <td>    0.949</td> <td>    0.117</td> <td> 0.907</td> <td>   -1.750</td> <td>    1.972</td>\n",
       "</tr>\n",
       "<tr>\n",
       "  <th>const</th> <td>   -0.4049</td> <td>    0.470</td> <td>   -0.861</td> <td> 0.389</td> <td>   -1.327</td> <td>    0.517</td>\n",
       "</tr>\n",
       "</table>"
      ],
      "text/plain": [
       "<class 'statsmodels.iolib.summary.Summary'>\n",
       "\"\"\"\n",
       "                           Logit Regression Results                           \n",
       "==============================================================================\n",
       "Dep. Variable:                      y   No. Observations:                   82\n",
       "Model:                          Logit   Df Residuals:                       77\n",
       "Method:                           MLE   Df Model:                            4\n",
       "Date:                Sat, 24 Apr 2021   Pseudo R-squ.:                  0.1442\n",
       "Time:                        05:45:16   Log-Likelihood:                -48.454\n",
       "converged:                       True   LL-Null:                       -56.618\n",
       "Covariance Type:            nonrobust   LLR p-value:                  0.002609\n",
       "==============================================================================\n",
       "                 coef    std err          z      P>|z|      [0.025      0.975]\n",
       "------------------------------------------------------------------------------\n",
       "x1             0.7665      0.826      0.928      0.353      -0.853       2.386\n",
       "x2            -0.8400      0.598     -1.405      0.160      -2.012       0.332\n",
       "x3             1.4343      1.112      1.290      0.197      -0.745       3.614\n",
       "x4             0.1107      0.949      0.117      0.907      -1.750       1.972\n",
       "const         -0.4049      0.470     -0.861      0.389      -1.327       0.517\n",
       "==============================================================================\n",
       "\"\"\""
      ]
     },
     "execution_count": 70,
     "metadata": {
      "tags": []
     },
     "output_type": "execute_result"
    }
   ],
   "source": [
    "fit_result_sm.summary()"
   ]
  },
  {
   "cell_type": "code",
   "execution_count": null,
   "metadata": {
    "colab": {
     "base_uri": "https://localhost:8080/"
    },
    "executionInfo": {
     "elapsed": 1018,
     "status": "ok",
     "timestamp": 1619243118219,
     "user": {
      "displayName": "­강수빈(학부/공과대학 컴퓨터과학)",
      "photoUrl": "",
      "userId": "07352247864639375532"
     },
     "user_tz": -540
    },
    "id": "8dsFk4BoW2q0",
    "outputId": "3e9c650b-633a-4ff0-ae7c-d7db4c12a084"
   },
   "outputs": [
    {
     "data": {
      "text/plain": [
       "array([2.15226076, 0.43171971, 4.19680893, 1.11707695, 0.6670113 ])"
      ]
     },
     "execution_count": 71,
     "metadata": {
      "tags": []
     },
     "output_type": "execute_result"
    }
   ],
   "source": [
    "# Odds ratio\n",
    "import numpy as np\n",
    "np.exp(fit_result_sm.params)\n",
    "\n",
    "## reference\n",
    "## intercept는 Odds ratio 해석 x"
   ]
  },
  {
   "cell_type": "code",
   "execution_count": null,
   "metadata": {
    "colab": {
     "base_uri": "https://localhost:8080/"
    },
    "executionInfo": {
     "elapsed": 1052,
     "status": "ok",
     "timestamp": 1619243118675,
     "user": {
      "displayName": "­강수빈(학부/공과대학 컴퓨터과학)",
      "photoUrl": "",
      "userId": "07352247864639375532"
     },
     "user_tz": -540
    },
    "id": "H5OhbyoPzh-p",
    "outputId": "b36c30aa-e73e-4bd0-cb46-03c6123e4b91"
   },
   "outputs": [
    {
     "data": {
      "text/plain": [
       "array([0.24007685, 0.86441691, 0.22988786, 0.40879095, 0.42066854,\n",
       "       0.22469623, 0.24267183, 0.8662233 , 0.86441691, 0.40879095,\n",
       "       0.41377709, 0.40321059, 0.40321059, 0.40321059, 0.40756066,\n",
       "       0.40321059, 0.40598439, 0.40102791, 0.61529588, 0.22988786,\n",
       "       0.40879095, 0.22469623, 0.23240639, 0.22988786, 0.86441691,\n",
       "       0.8662233 , 0.86198524, 0.86961191, 0.8662233 , 0.60674402,\n",
       "       0.2255847 , 0.86961191, 0.22423367, 0.22988786, 0.59158908,\n",
       "       0.40321059, 0.42034479, 0.59158908, 0.41254227, 0.42631791,\n",
       "       0.22581688, 0.40691923, 0.86946119, 0.24267183, 0.40321059,\n",
       "       0.40598439, 0.40846989, 0.41254227, 0.22875298, 0.22423367,\n",
       "       0.40879095, 0.42066854, 0.86888207, 0.86961191, 0.40879095,\n",
       "       0.40879095, 0.40879095, 0.86770456, 0.41377709, 0.2255847 ,\n",
       "       0.40321059, 0.40879095, 0.40879095, 0.41377709, 0.42631791,\n",
       "       0.86770456, 0.40321059, 0.22581688, 0.86350603, 0.40321059,\n",
       "       0.22581688, 0.40879095, 0.59687478, 0.23355391, 0.39116313,\n",
       "       0.41377709, 0.40879095, 0.24267183, 0.60674402, 0.41377709,\n",
       "       0.41254227, 0.40879095])"
      ]
     },
     "execution_count": 72,
     "metadata": {
      "tags": []
     },
     "output_type": "execute_result"
    }
   ],
   "source": [
    "# Probability 값 in train\n",
    "fit_result_sm.predict(training_data_over)\n",
    "# 기존 data에 pbrobablity값을 추가하고 싶다면?\n",
    "# data_ohe[\"predict_prob\"] = fit_result_sm.predict(train_features_st)"
   ]
  },
  {
   "cell_type": "code",
   "execution_count": null,
   "metadata": {
    "colab": {
     "base_uri": "https://localhost:8080/"
    },
    "executionInfo": {
     "elapsed": 1016,
     "status": "ok",
     "timestamp": 1619243119037,
     "user": {
      "displayName": "­강수빈(학부/공과대학 컴퓨터과학)",
      "photoUrl": "",
      "userId": "07352247864639375532"
     },
     "user_tz": -540
    },
    "id": "bY5DGQTpzh5A",
    "outputId": "f19af0b1-8f37-4c4e-b707-4e1dd7d6e0ac"
   },
   "outputs": [
    {
     "data": {
      "text/plain": [
       "array([0.61193594, 0.40598439, 0.22898746, 0.42066854, 0.22581688,\n",
       "       0.22581688, 0.86770456, 0.61225139, 0.60303954, 0.2255847 ,\n",
       "       0.2255847 , 0.22988786, 0.59191005, 0.60303954, 0.40321059,\n",
       "       0.22469623, 0.41377709, 0.23355391, 0.86961191, 0.40879095,\n",
       "       0.41377709, 0.86888207, 0.86770456, 0.86888207, 0.60303954,\n",
       "       0.61529588, 0.75292894, 0.86441691, 0.60674402, 0.58971526,\n",
       "       0.60674402, 0.40879095, 0.40321059, 0.42631791, 0.60674402,\n",
       "       0.60674402])"
      ]
     },
     "execution_count": 73,
     "metadata": {
      "tags": []
     },
     "output_type": "execute_result"
    }
   ],
   "source": [
    "# Probability 값 in validation\n",
    "predict_probability_valid_y_over = fit_result_sm.predict(validation_data_over)\n",
    "predict_probability_valid_y_over"
   ]
  },
  {
   "cell_type": "markdown",
   "metadata": {
    "id": "kUBQHUVv0kIO"
   },
   "source": [
    "### 1) 경계값 : 0.5"
   ]
  },
  {
   "cell_type": "code",
   "execution_count": null,
   "metadata": {
    "colab": {
     "base_uri": "https://localhost:8080/"
    },
    "executionInfo": {
     "elapsed": 1512,
     "status": "ok",
     "timestamp": 1619243120415,
     "user": {
      "displayName": "­강수빈(학부/공과대학 컴퓨터과학)",
      "photoUrl": "",
      "userId": "07352247864639375532"
     },
     "user_tz": -540
    },
    "id": "h_Ztg8FJzh13",
    "outputId": "34fc8b1f-6858-416a-ddb0-167063d08d56"
   },
   "outputs": [
    {
     "data": {
      "text/plain": [
       "array([1, 0, 0, 0, 0, 0, 1, 1, 1, 0, 0, 0, 1, 1, 0, 0, 0, 0, 1, 0, 0, 1,\n",
       "       1, 1, 1, 1, 1, 1, 1, 1, 1, 0, 0, 0, 1, 1])"
      ]
     },
     "execution_count": 74,
     "metadata": {
      "tags": []
     },
     "output_type": "execute_result"
    }
   ],
   "source": [
    "pred_y_05 = change_cutoff(predict_probability_valid_y_over, 0.5)\n",
    "pred_y_05"
   ]
  },
  {
   "cell_type": "code",
   "execution_count": null,
   "metadata": {
    "colab": {
     "base_uri": "https://localhost:8080/"
    },
    "executionInfo": {
     "elapsed": 1596,
     "status": "ok",
     "timestamp": 1619243120928,
     "user": {
      "displayName": "­강수빈(학부/공과대학 컴퓨터과학)",
      "photoUrl": "",
      "userId": "07352247864639375532"
     },
     "user_tz": -540
    },
    "id": "Cg2LJBiWzhvK",
    "outputId": "1927acb1-1171-45c6-d837-1b5e113b6da9"
   },
   "outputs": [
    {
     "data": {
      "text/plain": [
       "array([[14,  1],\n",
       "       [ 3, 18]])"
      ]
     },
     "execution_count": 75,
     "metadata": {
      "tags": []
     },
     "output_type": "execute_result"
    }
   ],
   "source": [
    "# Confusion Matrix 방법1\n",
    "# from sklearn.metrics import confusion_matrix\n",
    "# confusion_matrix(validation_labels, model.predict(validation_data))\n",
    "## 여기서 model은 fit_result_sm 또는 fit_result_skl\n",
    "from sklearn.metrics import confusion_matrix\n",
    "confusion_matrix(validation_labels_over, pred_y_05)\n",
    "\n",
    "# Confusion Matrix 설명\n",
    "\n",
    "#          예측값\n",
    "# 실제값  TN   FP\n",
    "#         FN   TP\n",
    "\n",
    "# 기준: y=0: Negative, y=1: Positive\n",
    "# 기준: y=0: 사망, y=1: 생존"
   ]
  },
  {
   "cell_type": "code",
   "execution_count": null,
   "metadata": {
    "colab": {
     "base_uri": "https://localhost:8080/",
     "height": 137
    },
    "executionInfo": {
     "elapsed": 1147,
     "status": "ok",
     "timestamp": 1619243120929,
     "user": {
      "displayName": "­강수빈(학부/공과대학 컴퓨터과학)",
      "photoUrl": "",
      "userId": "07352247864639375532"
     },
     "user_tz": -540
    },
    "id": "N8S_uVCKzhr0",
    "outputId": "4fc12d45-8bd5-4dd9-fe3c-9d013035ab8a"
   },
   "outputs": [
    {
     "data": {
      "text/html": [
       "<div>\n",
       "<style scoped>\n",
       "    .dataframe tbody tr th:only-of-type {\n",
       "        vertical-align: middle;\n",
       "    }\n",
       "\n",
       "    .dataframe tbody tr th {\n",
       "        vertical-align: top;\n",
       "    }\n",
       "\n",
       "    .dataframe thead th {\n",
       "        text-align: right;\n",
       "    }\n",
       "</style>\n",
       "<table border=\"1\" class=\"dataframe\">\n",
       "  <thead>\n",
       "    <tr style=\"text-align: right;\">\n",
       "      <th>col_0</th>\n",
       "      <th>0</th>\n",
       "      <th>1</th>\n",
       "    </tr>\n",
       "    <tr>\n",
       "      <th>Actual</th>\n",
       "      <th></th>\n",
       "      <th></th>\n",
       "    </tr>\n",
       "  </thead>\n",
       "  <tbody>\n",
       "    <tr>\n",
       "      <th>0.0</th>\n",
       "      <td>14</td>\n",
       "      <td>1</td>\n",
       "    </tr>\n",
       "    <tr>\n",
       "      <th>1.0</th>\n",
       "      <td>3</td>\n",
       "      <td>18</td>\n",
       "    </tr>\n",
       "  </tbody>\n",
       "</table>\n",
       "</div>"
      ],
      "text/plain": [
       "col_0    0   1\n",
       "Actual        \n",
       "0.0     14   1\n",
       "1.0      3  18"
      ]
     },
     "execution_count": 76,
     "metadata": {
      "tags": []
     },
     "output_type": "execute_result"
    }
   ],
   "source": [
    "# Confusion Matrix 방법2\n",
    "import numpy as np\n",
    "import pandas as pd\n",
    "y_actu = pd.Series(validation_labels_over, name='Actual') # validation_labels는 array형태여야함\n",
    "y_pred_05 = pd.Series(pred_y_05, name='Predicted')\n",
    "df_confusion = pd.crosstab(y_actu, pred_y_05)\n",
    "\n",
    "df_confusion\n",
    "\n",
    "# Confusion Matrix 설명\n",
    "\n",
    "#          예측값\n",
    "# 실제값  TN   FP\n",
    "#         FN   TP\n",
    "\n",
    "# 기준: y=0: Negative, y=1: Positive\n",
    "# 기준: y=0: 사망, y=1: 생존"
   ]
  },
  {
   "cell_type": "code",
   "execution_count": null,
   "metadata": {
    "colab": {
     "base_uri": "https://localhost:8080/"
    },
    "executionInfo": {
     "elapsed": 1025,
     "status": "ok",
     "timestamp": 1619243121344,
     "user": {
      "displayName": "­강수빈(학부/공과대학 컴퓨터과학)",
      "photoUrl": "",
      "userId": "07352247864639375532"
     },
     "user_tz": -540
    },
    "id": "SS9Uo9QYzhhP",
    "outputId": "dcff560e-8f83-4fdd-8de3-fb1dc2abfb3c"
   },
   "outputs": [
    {
     "name": "stdout",
     "output_type": "stream",
     "text": [
      "Accuracy:  0.8889\n",
      "precision:  0.9474\n",
      "recall:  0.8571\n",
      "f1_score:  0.9000\n",
      "AUC:  0.8952\n"
     ]
    }
   ],
   "source": [
    "from sklearn.metrics import accuracy_score, precision_score, recall_score, f1_score, roc_auc_score\n",
    "\n",
    "print('Accuracy: {0: .4f}'.format(accuracy_score(validation_labels_over, pred_y_05)))\n",
    "print('precision: {0: .4f}'.format(precision_score(validation_labels_over, pred_y_05)))\n",
    "print('recall: {0: .4f}'.format(recall_score(validation_labels_over, pred_y_05)))\n",
    "print('f1_score: {0: .4f}'.format(f1_score(validation_labels_over, pred_y_05)))\n",
    "print('AUC: {0: .4f}'.format(roc_auc_score(validation_labels_over, pred_y_05)))"
   ]
  },
  {
   "cell_type": "markdown",
   "metadata": {
    "id": "VLN1ed5f0opr"
   },
   "source": [
    "### 2) 경계값 : 0.7"
   ]
  },
  {
   "cell_type": "code",
   "execution_count": null,
   "metadata": {
    "colab": {
     "base_uri": "https://localhost:8080/"
    },
    "executionInfo": {
     "elapsed": 905,
     "status": "ok",
     "timestamp": 1619243122029,
     "user": {
      "displayName": "­강수빈(학부/공과대학 컴퓨터과학)",
      "photoUrl": "",
      "userId": "07352247864639375532"
     },
     "user_tz": -540
    },
    "id": "jglpCvoq0Mva",
    "outputId": "89e3531c-908c-4ab5-88e4-8578a0c095a5"
   },
   "outputs": [
    {
     "data": {
      "text/plain": [
       "array([0, 0, 0, 0, 0, 0, 1, 0, 0, 0, 0, 0, 0, 0, 0, 0, 0, 0, 1, 0, 0, 1,\n",
       "       1, 1, 0, 0, 1, 1, 0, 0, 0, 0, 0, 0, 0, 0])"
      ]
     },
     "execution_count": 78,
     "metadata": {
      "tags": []
     },
     "output_type": "execute_result"
    }
   ],
   "source": [
    "pred_y_07 = change_cutoff(predict_probability_valid_y_over, 0.7)\n",
    "pred_y_07"
   ]
  },
  {
   "cell_type": "code",
   "execution_count": null,
   "metadata": {
    "colab": {
     "base_uri": "https://localhost:8080/"
    },
    "executionInfo": {
     "elapsed": 1179,
     "status": "ok",
     "timestamp": 1619243122702,
     "user": {
      "displayName": "­강수빈(학부/공과대학 컴퓨터과학)",
      "photoUrl": "",
      "userId": "07352247864639375532"
     },
     "user_tz": -540
    },
    "id": "Q4BYj_M70Mmp",
    "outputId": "ced4043e-ba32-4a06-9889-93ecf34e1957"
   },
   "outputs": [
    {
     "data": {
      "text/plain": [
       "array([[15,  0],\n",
       "       [14,  7]])"
      ]
     },
     "execution_count": 79,
     "metadata": {
      "tags": []
     },
     "output_type": "execute_result"
    }
   ],
   "source": [
    "# Confusion Matrix 방법1\n",
    "# from sklearn.metrics import confusion_matrix\n",
    "# confusion_matrix(validation_labels, model.predict(validation_data))\n",
    "## 여기서 model은 fit_result_sm 또는 fit_result_skl\n",
    "from sklearn.metrics import confusion_matrix\n",
    "confusion_matrix(validation_labels_over, pred_y_07)\n",
    "\n",
    "# Confusion Matrix 설명\n",
    "\n",
    "#          예측값\n",
    "# 실제값  TN   FP\n",
    "#         FN   TP\n",
    "\n",
    "# 기준: y=0: Negative, y=1: Positive\n",
    "# 기준: y=0: 사망, y=1: 생존"
   ]
  },
  {
   "cell_type": "code",
   "execution_count": null,
   "metadata": {
    "colab": {
     "base_uri": "https://localhost:8080/",
     "height": 137
    },
    "executionInfo": {
     "elapsed": 1425,
     "status": "ok",
     "timestamp": 1619243123331,
     "user": {
      "displayName": "­강수빈(학부/공과대학 컴퓨터과학)",
      "photoUrl": "",
      "userId": "07352247864639375532"
     },
     "user_tz": -540
    },
    "id": "Ru33EUVc0MXz",
    "outputId": "6001f43a-a617-423c-d8b5-f1f212abd842"
   },
   "outputs": [
    {
     "data": {
      "text/html": [
       "<div>\n",
       "<style scoped>\n",
       "    .dataframe tbody tr th:only-of-type {\n",
       "        vertical-align: middle;\n",
       "    }\n",
       "\n",
       "    .dataframe tbody tr th {\n",
       "        vertical-align: top;\n",
       "    }\n",
       "\n",
       "    .dataframe thead th {\n",
       "        text-align: right;\n",
       "    }\n",
       "</style>\n",
       "<table border=\"1\" class=\"dataframe\">\n",
       "  <thead>\n",
       "    <tr style=\"text-align: right;\">\n",
       "      <th>Predicted</th>\n",
       "      <th>0</th>\n",
       "      <th>1</th>\n",
       "    </tr>\n",
       "    <tr>\n",
       "      <th>Actual</th>\n",
       "      <th></th>\n",
       "      <th></th>\n",
       "    </tr>\n",
       "  </thead>\n",
       "  <tbody>\n",
       "    <tr>\n",
       "      <th>0.0</th>\n",
       "      <td>15</td>\n",
       "      <td>0</td>\n",
       "    </tr>\n",
       "    <tr>\n",
       "      <th>1.0</th>\n",
       "      <td>14</td>\n",
       "      <td>7</td>\n",
       "    </tr>\n",
       "  </tbody>\n",
       "</table>\n",
       "</div>"
      ],
      "text/plain": [
       "Predicted   0  1\n",
       "Actual          \n",
       "0.0        15  0\n",
       "1.0        14  7"
      ]
     },
     "execution_count": 80,
     "metadata": {
      "tags": []
     },
     "output_type": "execute_result"
    }
   ],
   "source": [
    "# Confusion Matrix 방법2\n",
    "import numpy as np\n",
    "import pandas as pd\n",
    "y_actu = pd.Series(validation_labels_over, name='Actual') # validation_labels는 array형태여야함\n",
    "y_pred_07 = pd.Series(pred_y_07, name='Predicted')\n",
    "df_confusion = pd.crosstab(y_actu, y_pred_07)\n",
    "\n",
    "df_confusion\n",
    "\n",
    "# Confusion Matrix 설명\n",
    "\n",
    "#          예측값\n",
    "# 실제값  TN   FP\n",
    "#         FN   TP\n",
    "\n",
    "# 기준: y=0: Negative, y=1: Positive\n",
    "# 기준: y=0: 사망, y=1: 생존"
   ]
  },
  {
   "cell_type": "code",
   "execution_count": null,
   "metadata": {
    "colab": {
     "base_uri": "https://localhost:8080/"
    },
    "executionInfo": {
     "elapsed": 1385,
     "status": "ok",
     "timestamp": 1619243123758,
     "user": {
      "displayName": "­강수빈(학부/공과대학 컴퓨터과학)",
      "photoUrl": "",
      "userId": "07352247864639375532"
     },
     "user_tz": -540
    },
    "id": "2SQOUM760cY4",
    "outputId": "08374b6d-65f4-4a76-9b23-6933a0f1fdfc"
   },
   "outputs": [
    {
     "name": "stdout",
     "output_type": "stream",
     "text": [
      "Accuracy:  0.6111\n",
      "precision:  1.0000\n",
      "recall:  0.3333\n",
      "f1_score:  0.5000\n",
      "AUC:  0.6667\n"
     ]
    }
   ],
   "source": [
    "from sklearn.metrics import accuracy_score, precision_score, recall_score, f1_score, roc_auc_score\n",
    "\n",
    "print('Accuracy: {0: .4f}'.format(accuracy_score(validation_labels_over, pred_y_07)))\n",
    "print('precision: {0: .4f}'.format(precision_score(validation_labels_over, pred_y_07)))\n",
    "print('recall: {0: .4f}'.format(recall_score(validation_labels_over, pred_y_07)))\n",
    "print('f1_score: {0: .4f}'.format(f1_score(validation_labels_over, pred_y_07)))\n",
    "print('AUC: {0: .4f}'.format(roc_auc_score(validation_labels_over, pred_y_07)))"
   ]
  },
  {
   "cell_type": "markdown",
   "metadata": {
    "id": "WidM9miV0r_p"
   },
   "source": [
    "### 3) roc_curve"
   ]
  },
  {
   "cell_type": "code",
   "execution_count": null,
   "metadata": {
    "colab": {
     "base_uri": "https://localhost:8080/",
     "height": 279
    },
    "executionInfo": {
     "elapsed": 955,
     "status": "ok",
     "timestamp": 1619243124199,
     "user": {
      "displayName": "­강수빈(학부/공과대학 컴퓨터과학)",
      "photoUrl": "",
      "userId": "07352247864639375532"
     },
     "user_tz": -540
    },
    "id": "r9CaAteKzhWx",
    "outputId": "009137c1-b3d7-4b92-c34f-6234d383aeeb"
   },
   "outputs": [
    {
     "data": {
      "image/png": "[encoded data removed]",
      "text/plain": [
       "<Figure size 432x288 with 1 Axes>"
      ]
     },
     "metadata": {
      "needs_background": "light",
      "tags": []
     },
     "output_type": "display_data"
    }
   ],
   "source": [
    "roc_curve_plot(validation_labels_over, predict_probability_valid_y_over)"
   ]
  },
  {
   "cell_type": "code",
   "execution_count": null,
   "metadata": {
    "id": "WqzdcsMVzg-o"
   },
   "outputs": [],
   "source": []
  },
  {
   "cell_type": "code",
   "execution_count": null,
   "metadata": {
    "id": "Cl4nwGu2W2n_"
   },
   "outputs": [],
   "source": [
    "# candy.groupby(['hard','bar', 'pluribus']).count()\n",
    "# # \n",
    "# # one hot encoding인 bar, hard, pluribus에서 encoding되어 있지 않고 \n",
    "# mask = (candy.hard == 0) & (candy.bar==0) & (candy.pluribus ==0)\n",
    "# candy.loc[mask, 'pluribus'] = 1\n",
    "# display(candy)"
   ]
  },
  {
   "cell_type": "code",
   "execution_count": null,
   "metadata": {
    "id": "IzxIfp1azcOS"
   },
   "outputs": [],
   "source": [
    "\n",
    "\n",
    "# # Probability 값 in train\n",
    "# fit_result_sm.predict(training_data_under)\n",
    "# # 기존 data에 pbrobablity값을 추가하고 싶다면?\n",
    "# # data_ohe[\"predict_prob\"] = fit_result_sm.predict(train_features_st)"
   ]
  },
  {
   "cell_type": "code",
   "execution_count": null,
   "metadata": {
    "id": "d9RV1pbo5Lsy"
   },
   "outputs": [],
   "source": []
  }
 ],
 "metadata": {
  "colab": {
   "collapsed_sections": [
    "Z1a8j4tiSKVG",
    "fIMLvo1aYdqc"
   ],
   "name": "hw7+feature 처리(correlation)+winpercent.ipynb",
   "provenance": []
  },
  "kernelspec": {
   "display_name": "Python 3",
   "language": "python",
   "name": "python3"
  },
  "language_info": {
   "codemirror_mode": {
    "name": "ipython",
    "version": 3
   },
   "file_extension": ".py",
   "mimetype": "text/x-python",
   "name": "python",
   "nbconvert_exporter": "python",
   "pygments_lexer": "ipython3",
   "version": "3.8.5"
  }
 },
 "nbformat": 4,
 "nbformat_minor": 1
}
