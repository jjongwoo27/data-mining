{
 "cells": [
  {
   "cell_type": "markdown",
   "metadata": {},
   "source": [
    "# Neural Network"
   ]
  },
  {
   "cell_type": "code",
   "execution_count": 111,
   "metadata": {
    "colab": {
     "base_uri": "https://localhost:8080/"
    },
    "id": "3Ogh5D7X6tVz",
    "outputId": "7571c164-ecd7-4344-e70b-99ffe70f067a"
   },
   "outputs": [
    {
     "name": "stdout",
     "output_type": "stream",
     "text": [
      "Drive already mounted at /content/drive; to attempt to forcibly remount, call drive.mount(\"/content/drive\", force_remount=True).\n"
     ]
    }
   ],
   "source": [
    " from google.colab import drive\n",
    "drive.mount('/content/drive')\n"
   ]
  },
  {
   "cell_type": "code",
   "execution_count": 112,
   "metadata": {
    "id": "95Te-G6t76yz"
   },
   "outputs": [],
   "source": [
    "filename = '/content/drive/My Drive/데이터마이닝/HW/Week9/citrus.csv'"
   ]
  },
  {
   "cell_type": "code",
   "execution_count": 113,
   "metadata": {
    "id": "pD6g2yF_8UuX"
   },
   "outputs": [],
   "source": [
    "import numpy as np\n",
    "import pandas as pd\n",
    "import tensorflow as tf\n",
    "from tensorflow import keras\n",
    "import sklearn"
   ]
  },
  {
   "cell_type": "markdown",
   "metadata": {
    "id": "XfhYdHEgv37s"
   },
   "source": [
    "# 1. 데이터 전처리"
   ]
  },
  {
   "cell_type": "code",
   "execution_count": 114,
   "metadata": {
    "colab": {
     "base_uri": "https://localhost:8080/",
     "height": 407
    },
    "id": "oUhypHHu8aWd",
    "outputId": "81c58a9c-5c9a-4f79-c340-fc4bdd63cb30"
   },
   "outputs": [
    {
     "data": {
      "text/html": [
       "<div>\n",
       "<style scoped>\n",
       "    .dataframe tbody tr th:only-of-type {\n",
       "        vertical-align: middle;\n",
       "    }\n",
       "\n",
       "    .dataframe tbody tr th {\n",
       "        vertical-align: top;\n",
       "    }\n",
       "\n",
       "    .dataframe thead th {\n",
       "        text-align: right;\n",
       "    }\n",
       "</style>\n",
       "<table border=\"1\" class=\"dataframe\">\n",
       "  <thead>\n",
       "    <tr style=\"text-align: right;\">\n",
       "      <th></th>\n",
       "      <th>name</th>\n",
       "      <th>diameter</th>\n",
       "      <th>weight</th>\n",
       "      <th>red</th>\n",
       "      <th>green</th>\n",
       "      <th>blue</th>\n",
       "    </tr>\n",
       "  </thead>\n",
       "  <tbody>\n",
       "    <tr>\n",
       "      <th>0</th>\n",
       "      <td>orange</td>\n",
       "      <td>2.96</td>\n",
       "      <td>86.76</td>\n",
       "      <td>172</td>\n",
       "      <td>85</td>\n",
       "      <td>2</td>\n",
       "    </tr>\n",
       "    <tr>\n",
       "      <th>1</th>\n",
       "      <td>orange</td>\n",
       "      <td>3.91</td>\n",
       "      <td>88.05</td>\n",
       "      <td>166</td>\n",
       "      <td>78</td>\n",
       "      <td>3</td>\n",
       "    </tr>\n",
       "    <tr>\n",
       "      <th>2</th>\n",
       "      <td>orange</td>\n",
       "      <td>4.42</td>\n",
       "      <td>95.17</td>\n",
       "      <td>156</td>\n",
       "      <td>81</td>\n",
       "      <td>2</td>\n",
       "    </tr>\n",
       "    <tr>\n",
       "      <th>3</th>\n",
       "      <td>orange</td>\n",
       "      <td>4.47</td>\n",
       "      <td>95.60</td>\n",
       "      <td>163</td>\n",
       "      <td>81</td>\n",
       "      <td>4</td>\n",
       "    </tr>\n",
       "    <tr>\n",
       "      <th>4</th>\n",
       "      <td>orange</td>\n",
       "      <td>4.48</td>\n",
       "      <td>95.76</td>\n",
       "      <td>161</td>\n",
       "      <td>72</td>\n",
       "      <td>9</td>\n",
       "    </tr>\n",
       "    <tr>\n",
       "      <th>...</th>\n",
       "      <td>...</td>\n",
       "      <td>...</td>\n",
       "      <td>...</td>\n",
       "      <td>...</td>\n",
       "      <td>...</td>\n",
       "      <td>...</td>\n",
       "    </tr>\n",
       "    <tr>\n",
       "      <th>9995</th>\n",
       "      <td>grapefruit</td>\n",
       "      <td>15.35</td>\n",
       "      <td>253.89</td>\n",
       "      <td>149</td>\n",
       "      <td>77</td>\n",
       "      <td>20</td>\n",
       "    </tr>\n",
       "    <tr>\n",
       "      <th>9996</th>\n",
       "      <td>grapefruit</td>\n",
       "      <td>15.41</td>\n",
       "      <td>254.67</td>\n",
       "      <td>148</td>\n",
       "      <td>68</td>\n",
       "      <td>7</td>\n",
       "    </tr>\n",
       "    <tr>\n",
       "      <th>9997</th>\n",
       "      <td>grapefruit</td>\n",
       "      <td>15.59</td>\n",
       "      <td>256.50</td>\n",
       "      <td>168</td>\n",
       "      <td>82</td>\n",
       "      <td>20</td>\n",
       "    </tr>\n",
       "    <tr>\n",
       "      <th>9998</th>\n",
       "      <td>grapefruit</td>\n",
       "      <td>15.92</td>\n",
       "      <td>260.14</td>\n",
       "      <td>142</td>\n",
       "      <td>72</td>\n",
       "      <td>11</td>\n",
       "    </tr>\n",
       "    <tr>\n",
       "      <th>9999</th>\n",
       "      <td>grapefruit</td>\n",
       "      <td>16.45</td>\n",
       "      <td>261.51</td>\n",
       "      <td>152</td>\n",
       "      <td>74</td>\n",
       "      <td>2</td>\n",
       "    </tr>\n",
       "  </tbody>\n",
       "</table>\n",
       "<p>10000 rows × 6 columns</p>\n",
       "</div>"
      ],
      "text/plain": [
       "            name  diameter  weight  red  green  blue\n",
       "0         orange      2.96   86.76  172     85     2\n",
       "1         orange      3.91   88.05  166     78     3\n",
       "2         orange      4.42   95.17  156     81     2\n",
       "3         orange      4.47   95.60  163     81     4\n",
       "4         orange      4.48   95.76  161     72     9\n",
       "...          ...       ...     ...  ...    ...   ...\n",
       "9995  grapefruit     15.35  253.89  149     77    20\n",
       "9996  grapefruit     15.41  254.67  148     68     7\n",
       "9997  grapefruit     15.59  256.50  168     82    20\n",
       "9998  grapefruit     15.92  260.14  142     72    11\n",
       "9999  grapefruit     16.45  261.51  152     74     2\n",
       "\n",
       "[10000 rows x 6 columns]"
      ]
     },
     "execution_count": 114,
     "metadata": {
      "tags": []
     },
     "output_type": "execute_result"
    }
   ],
   "source": [
    "dataset=pd.read_csv(filename)\n",
    "dataset"
   ]
  },
  {
   "cell_type": "code",
   "execution_count": 115,
   "metadata": {
    "colab": {
     "base_uri": "https://localhost:8080/"
    },
    "id": "L-3F7Dy5hYS1",
    "outputId": "65cc9daf-ed4e-4334-da46-7faba8b6aa48"
   },
   "outputs": [
    {
     "data": {
      "text/plain": [
       "(10000, 6)"
      ]
     },
     "execution_count": 115,
     "metadata": {
      "tags": []
     },
     "output_type": "execute_result"
    }
   ],
   "source": [
    "dataset.shape"
   ]
  },
  {
   "cell_type": "code",
   "execution_count": 116,
   "metadata": {
    "colab": {
     "base_uri": "https://localhost:8080/"
    },
    "id": "sgn9NAU8hbW9",
    "outputId": "140fdd76-06ae-444e-b4e7-b7eb7ea40d8b"
   },
   "outputs": [
    {
     "name": "stdout",
     "output_type": "stream",
     "text": [
      "<class 'pandas.core.frame.DataFrame'>\n",
      "RangeIndex: 10000 entries, 0 to 9999\n",
      "Data columns (total 6 columns):\n",
      " #   Column    Non-Null Count  Dtype  \n",
      "---  ------    --------------  -----  \n",
      " 0   name      10000 non-null  object \n",
      " 1   diameter  10000 non-null  float64\n",
      " 2   weight    10000 non-null  float64\n",
      " 3   red       10000 non-null  int64  \n",
      " 4   green     10000 non-null  int64  \n",
      " 5   blue      10000 non-null  int64  \n",
      "dtypes: float64(2), int64(3), object(1)\n",
      "memory usage: 468.9+ KB\n"
     ]
    }
   ],
   "source": [
    "dataset.info()"
   ]
  },
  {
   "cell_type": "code",
   "execution_count": 117,
   "metadata": {
    "colab": {
     "base_uri": "https://localhost:8080/",
     "height": 287
    },
    "id": "uYpw-xD1R7gw",
    "outputId": "744e71af-d72f-4824-ecd8-1adc9f035eb4"
   },
   "outputs": [
    {
     "data": {
      "text/html": [
       "<div>\n",
       "<style scoped>\n",
       "    .dataframe tbody tr th:only-of-type {\n",
       "        vertical-align: middle;\n",
       "    }\n",
       "\n",
       "    .dataframe tbody tr th {\n",
       "        vertical-align: top;\n",
       "    }\n",
       "\n",
       "    .dataframe thead th {\n",
       "        text-align: right;\n",
       "    }\n",
       "</style>\n",
       "<table border=\"1\" class=\"dataframe\">\n",
       "  <thead>\n",
       "    <tr style=\"text-align: right;\">\n",
       "      <th></th>\n",
       "      <th>diameter</th>\n",
       "      <th>weight</th>\n",
       "      <th>red</th>\n",
       "      <th>green</th>\n",
       "      <th>blue</th>\n",
       "    </tr>\n",
       "  </thead>\n",
       "  <tbody>\n",
       "    <tr>\n",
       "      <th>count</th>\n",
       "      <td>10000.000000</td>\n",
       "      <td>10000.000000</td>\n",
       "      <td>10000.000000</td>\n",
       "      <td>10000.000000</td>\n",
       "      <td>10000.000000</td>\n",
       "    </tr>\n",
       "    <tr>\n",
       "      <th>mean</th>\n",
       "      <td>9.975685</td>\n",
       "      <td>175.050792</td>\n",
       "      <td>153.847800</td>\n",
       "      <td>76.010600</td>\n",
       "      <td>11.363200</td>\n",
       "    </tr>\n",
       "    <tr>\n",
       "      <th>std</th>\n",
       "      <td>1.947844</td>\n",
       "      <td>29.212119</td>\n",
       "      <td>10.432954</td>\n",
       "      <td>11.708433</td>\n",
       "      <td>9.061275</td>\n",
       "    </tr>\n",
       "    <tr>\n",
       "      <th>min</th>\n",
       "      <td>2.960000</td>\n",
       "      <td>86.760000</td>\n",
       "      <td>115.000000</td>\n",
       "      <td>31.000000</td>\n",
       "      <td>2.000000</td>\n",
       "    </tr>\n",
       "    <tr>\n",
       "      <th>25%</th>\n",
       "      <td>8.460000</td>\n",
       "      <td>152.220000</td>\n",
       "      <td>147.000000</td>\n",
       "      <td>68.000000</td>\n",
       "      <td>2.000000</td>\n",
       "    </tr>\n",
       "    <tr>\n",
       "      <th>50%</th>\n",
       "      <td>9.980000</td>\n",
       "      <td>174.985000</td>\n",
       "      <td>154.000000</td>\n",
       "      <td>76.000000</td>\n",
       "      <td>10.000000</td>\n",
       "    </tr>\n",
       "    <tr>\n",
       "      <th>75%</th>\n",
       "      <td>11.480000</td>\n",
       "      <td>197.722500</td>\n",
       "      <td>161.000000</td>\n",
       "      <td>84.000000</td>\n",
       "      <td>17.000000</td>\n",
       "    </tr>\n",
       "    <tr>\n",
       "      <th>max</th>\n",
       "      <td>16.450000</td>\n",
       "      <td>261.510000</td>\n",
       "      <td>192.000000</td>\n",
       "      <td>116.000000</td>\n",
       "      <td>56.000000</td>\n",
       "    </tr>\n",
       "  </tbody>\n",
       "</table>\n",
       "</div>"
      ],
      "text/plain": [
       "           diameter        weight           red         green          blue\n",
       "count  10000.000000  10000.000000  10000.000000  10000.000000  10000.000000\n",
       "mean       9.975685    175.050792    153.847800     76.010600     11.363200\n",
       "std        1.947844     29.212119     10.432954     11.708433      9.061275\n",
       "min        2.960000     86.760000    115.000000     31.000000      2.000000\n",
       "25%        8.460000    152.220000    147.000000     68.000000      2.000000\n",
       "50%        9.980000    174.985000    154.000000     76.000000     10.000000\n",
       "75%       11.480000    197.722500    161.000000     84.000000     17.000000\n",
       "max       16.450000    261.510000    192.000000    116.000000     56.000000"
      ]
     },
     "execution_count": 117,
     "metadata": {
      "tags": []
     },
     "output_type": "execute_result"
    }
   ],
   "source": [
    "dataset.describe()"
   ]
  },
  {
   "cell_type": "code",
   "execution_count": 118,
   "metadata": {
    "colab": {
     "base_uri": "https://localhost:8080/"
    },
    "id": "X4r97La0hdSb",
    "outputId": "f23606d4-2fc8-4528-b789-a03f867014de"
   },
   "outputs": [
    {
     "data": {
      "text/plain": [
       "name        0\n",
       "diameter    0\n",
       "weight      0\n",
       "red         0\n",
       "green       0\n",
       "blue        0\n",
       "dtype: int64"
      ]
     },
     "execution_count": 118,
     "metadata": {
      "tags": []
     },
     "output_type": "execute_result"
    }
   ],
   "source": [
    "dataset.isnull().sum() "
   ]
  },
  {
   "cell_type": "code",
   "execution_count": 119,
   "metadata": {
    "id": "TFIfQbFKhfSG"
   },
   "outputs": [],
   "source": [
    "features = dataset.iloc[:,1:]\n",
    "target = pd.DataFrame([1 if each==\"orange\" else 0 for each in dataset[\"name\"]],columns=[\"features\"])"
   ]
  },
  {
   "cell_type": "code",
   "execution_count": 120,
   "metadata": {
    "id": "E92o7a1HhwYN"
   },
   "outputs": [],
   "source": [
    "from sklearn.model_selection import train_test_split\n",
    "train_features, test_features , train_labels, test_labels = train_test_split(\n",
    "    features, target, test_size = 0.2, random_state = 2021)"
   ]
  },
  {
   "cell_type": "code",
   "execution_count": 121,
   "metadata": {
    "colab": {
     "base_uri": "https://localhost:8080/"
    },
    "id": "2l5NRHQXh2jb",
    "outputId": "a12ed9ba-48db-4034-e054-5d70b57136ba"
   },
   "outputs": [
    {
     "name": "stdout",
     "output_type": "stream",
     "text": [
      "(8000, 5)\n",
      "(8000, 1)\n",
      "(2000, 5)\n",
      "(2000, 1)\n"
     ]
    }
   ],
   "source": [
    "print(train_features.shape)\n",
    "print(train_labels.shape)\n",
    "print(test_features.shape)\n",
    "print(test_labels.shape)"
   ]
  },
  {
   "cell_type": "code",
   "execution_count": 122,
   "metadata": {
    "colab": {
     "base_uri": "https://localhost:8080/"
    },
    "id": "LzrO1u5lh4Uo",
    "outputId": "7ab60684-6c71-441f-ecee-9fe554ae27e8"
   },
   "outputs": [
    {
     "name": "stdout",
     "output_type": "stream",
     "text": [
      "<class 'pandas.core.frame.DataFrame'>\n",
      "<class 'pandas.core.frame.DataFrame'>\n"
     ]
    }
   ],
   "source": [
    "print(type(train_features))\n",
    "print(type(test_labels))"
   ]
  },
  {
   "cell_type": "code",
   "execution_count": 123,
   "metadata": {
    "colab": {
     "base_uri": "https://localhost:8080/",
     "height": 407
    },
    "id": "wCWADav8iBzA",
    "outputId": "e85f78ca-9b68-4051-ff5d-6f1c2235d6e4"
   },
   "outputs": [
    {
     "data": {
      "text/html": [
       "<div>\n",
       "<style scoped>\n",
       "    .dataframe tbody tr th:only-of-type {\n",
       "        vertical-align: middle;\n",
       "    }\n",
       "\n",
       "    .dataframe tbody tr th {\n",
       "        vertical-align: top;\n",
       "    }\n",
       "\n",
       "    .dataframe thead th {\n",
       "        text-align: right;\n",
       "    }\n",
       "</style>\n",
       "<table border=\"1\" class=\"dataframe\">\n",
       "  <thead>\n",
       "    <tr style=\"text-align: right;\">\n",
       "      <th></th>\n",
       "      <th>diameter</th>\n",
       "      <th>weight</th>\n",
       "      <th>red</th>\n",
       "      <th>green</th>\n",
       "      <th>blue</th>\n",
       "    </tr>\n",
       "  </thead>\n",
       "  <tbody>\n",
       "    <tr>\n",
       "      <th>7622</th>\n",
       "      <td>11.53</td>\n",
       "      <td>198.61</td>\n",
       "      <td>152</td>\n",
       "      <td>74</td>\n",
       "      <td>24</td>\n",
       "    </tr>\n",
       "    <tr>\n",
       "      <th>5189</th>\n",
       "      <td>9.31</td>\n",
       "      <td>162.50</td>\n",
       "      <td>167</td>\n",
       "      <td>79</td>\n",
       "      <td>22</td>\n",
       "    </tr>\n",
       "    <tr>\n",
       "      <th>4584</th>\n",
       "      <td>10.22</td>\n",
       "      <td>178.66</td>\n",
       "      <td>158</td>\n",
       "      <td>99</td>\n",
       "      <td>2</td>\n",
       "    </tr>\n",
       "    <tr>\n",
       "      <th>3465</th>\n",
       "      <td>9.09</td>\n",
       "      <td>162.18</td>\n",
       "      <td>168</td>\n",
       "      <td>73</td>\n",
       "      <td>2</td>\n",
       "    </tr>\n",
       "    <tr>\n",
       "      <th>4588</th>\n",
       "      <td>10.22</td>\n",
       "      <td>178.73</td>\n",
       "      <td>158</td>\n",
       "      <td>74</td>\n",
       "      <td>18</td>\n",
       "    </tr>\n",
       "    <tr>\n",
       "      <th>...</th>\n",
       "      <td>...</td>\n",
       "      <td>...</td>\n",
       "      <td>...</td>\n",
       "      <td>...</td>\n",
       "      <td>...</td>\n",
       "    </tr>\n",
       "    <tr>\n",
       "      <th>3934</th>\n",
       "      <td>9.47</td>\n",
       "      <td>168.02</td>\n",
       "      <td>154</td>\n",
       "      <td>89</td>\n",
       "      <td>7</td>\n",
       "    </tr>\n",
       "    <tr>\n",
       "      <th>2669</th>\n",
       "      <td>8.59</td>\n",
       "      <td>154.02</td>\n",
       "      <td>150</td>\n",
       "      <td>77</td>\n",
       "      <td>2</td>\n",
       "    </tr>\n",
       "    <tr>\n",
       "      <th>1152</th>\n",
       "      <td>7.57</td>\n",
       "      <td>139.05</td>\n",
       "      <td>147</td>\n",
       "      <td>84</td>\n",
       "      <td>5</td>\n",
       "    </tr>\n",
       "    <tr>\n",
       "      <th>6201</th>\n",
       "      <td>10.63</td>\n",
       "      <td>183.64</td>\n",
       "      <td>165</td>\n",
       "      <td>75</td>\n",
       "      <td>19</td>\n",
       "    </tr>\n",
       "    <tr>\n",
       "      <th>9332</th>\n",
       "      <td>12.86</td>\n",
       "      <td>218.67</td>\n",
       "      <td>126</td>\n",
       "      <td>71</td>\n",
       "      <td>10</td>\n",
       "    </tr>\n",
       "  </tbody>\n",
       "</table>\n",
       "<p>8000 rows × 5 columns</p>\n",
       "</div>"
      ],
      "text/plain": [
       "      diameter  weight  red  green  blue\n",
       "7622     11.53  198.61  152     74    24\n",
       "5189      9.31  162.50  167     79    22\n",
       "4584     10.22  178.66  158     99     2\n",
       "3465      9.09  162.18  168     73     2\n",
       "4588     10.22  178.73  158     74    18\n",
       "...        ...     ...  ...    ...   ...\n",
       "3934      9.47  168.02  154     89     7\n",
       "2669      8.59  154.02  150     77     2\n",
       "1152      7.57  139.05  147     84     5\n",
       "6201     10.63  183.64  165     75    19\n",
       "9332     12.86  218.67  126     71    10\n",
       "\n",
       "[8000 rows x 5 columns]"
      ]
     },
     "execution_count": 123,
     "metadata": {
      "tags": []
     },
     "output_type": "execute_result"
    }
   ],
   "source": [
    "pd.DataFrame(train_features.copy())"
   ]
  },
  {
   "cell_type": "code",
   "execution_count": 124,
   "metadata": {
    "id": "9yB2Wt_HiD4H"
   },
   "outputs": [],
   "source": [
    "# Z-score Standardization\n",
    "\n",
    "mean = train_features.mean(axis=0)\n",
    "train_features -= mean\n",
    "std = train_features.std(axis=0)\n",
    "train_features /= std"
   ]
  },
  {
   "cell_type": "code",
   "execution_count": 125,
   "metadata": {
    "id": "jASj8szriFc_"
   },
   "outputs": [],
   "source": [
    "# test data (Features)도 train의 기준으로 표준화\n",
    "test_features -= mean\n",
    "test_features /= std"
   ]
  },
  {
   "cell_type": "code",
   "execution_count": 126,
   "metadata": {
    "id": "2dk2hgKktJAv"
   },
   "outputs": [],
   "source": [
    "# One-hot Encoding\n",
    "from tensorflow.keras.utils import to_categorical\n",
    "train_labels_one_hot = to_categorical(train_labels)\n",
    "test_labels_one_hot = to_categorical(test_labels)"
   ]
  },
  {
   "cell_type": "markdown",
   "metadata": {
    "id": "UgFXU2cnwDUZ"
   },
   "source": [
    "# 2. Modeling & Train"
   ]
  },
  {
   "cell_type": "code",
   "execution_count": 127,
   "metadata": {
    "colab": {
     "base_uri": "https://localhost:8080/"
    },
    "id": "wg_2YhNMiHoQ",
    "outputId": "98d14680-ec05-4fca-c61a-d6a81c4f0c7e"
   },
   "outputs": [
    {
     "name": "stdout",
     "output_type": "stream",
     "text": [
      "Epoch 1/300\n",
      "7/7 [==============================] - 1s 30ms/step - loss: 0.6469 - accuracy: 0.6999 - val_loss: 0.4194 - val_accuracy: 0.9075\n",
      "Epoch 2/300\n",
      "7/7 [==============================] - 0s 8ms/step - loss: 0.3806 - accuracy: 0.9142 - val_loss: 0.2705 - val_accuracy: 0.9306\n",
      "Epoch 3/300\n",
      "7/7 [==============================] - 0s 8ms/step - loss: 0.2475 - accuracy: 0.9248 - val_loss: 0.2041 - val_accuracy: 0.9269\n",
      "Epoch 4/300\n",
      "7/7 [==============================] - 0s 7ms/step - loss: 0.1930 - accuracy: 0.9284 - val_loss: 0.1926 - val_accuracy: 0.9306\n",
      "Epoch 5/300\n",
      "7/7 [==============================] - 0s 7ms/step - loss: 0.1827 - accuracy: 0.9256 - val_loss: 0.1880 - val_accuracy: 0.9269\n",
      "Epoch 6/300\n",
      "7/7 [==============================] - 0s 7ms/step - loss: 0.1764 - accuracy: 0.9301 - val_loss: 0.1886 - val_accuracy: 0.9300\n",
      "Epoch 7/300\n",
      "7/7 [==============================] - 0s 7ms/step - loss: 0.1833 - accuracy: 0.9226 - val_loss: 0.1844 - val_accuracy: 0.9275\n",
      "Epoch 8/300\n",
      "7/7 [==============================] - 0s 7ms/step - loss: 0.1745 - accuracy: 0.9303 - val_loss: 0.1871 - val_accuracy: 0.9300\n",
      "Epoch 9/300\n",
      "7/7 [==============================] - 0s 8ms/step - loss: 0.1819 - accuracy: 0.9260 - val_loss: 0.1853 - val_accuracy: 0.9256\n",
      "Epoch 10/300\n",
      "7/7 [==============================] - 0s 8ms/step - loss: 0.1752 - accuracy: 0.9266 - val_loss: 0.1820 - val_accuracy: 0.9275\n",
      "Epoch 11/300\n",
      "7/7 [==============================] - 0s 7ms/step - loss: 0.1770 - accuracy: 0.9243 - val_loss: 0.1817 - val_accuracy: 0.9269\n",
      "Epoch 12/300\n",
      "7/7 [==============================] - 0s 7ms/step - loss: 0.1703 - accuracy: 0.9298 - val_loss: 0.1840 - val_accuracy: 0.9269\n",
      "Epoch 13/300\n",
      "7/7 [==============================] - 0s 8ms/step - loss: 0.1741 - accuracy: 0.9310 - val_loss: 0.1839 - val_accuracy: 0.9275\n",
      "Epoch 14/300\n",
      "7/7 [==============================] - 0s 8ms/step - loss: 0.1735 - accuracy: 0.9285 - val_loss: 0.1829 - val_accuracy: 0.9281\n",
      "Epoch 15/300\n",
      "7/7 [==============================] - 0s 9ms/step - loss: 0.1710 - accuracy: 0.9310 - val_loss: 0.1821 - val_accuracy: 0.9281\n",
      "Epoch 16/300\n",
      "7/7 [==============================] - 0s 7ms/step - loss: 0.1651 - accuracy: 0.9306 - val_loss: 0.1848 - val_accuracy: 0.9269\n",
      "Epoch 17/300\n",
      "7/7 [==============================] - 0s 7ms/step - loss: 0.1653 - accuracy: 0.9339 - val_loss: 0.1866 - val_accuracy: 0.9244\n",
      "Epoch 18/300\n",
      "7/7 [==============================] - 0s 7ms/step - loss: 0.1813 - accuracy: 0.9260 - val_loss: 0.1842 - val_accuracy: 0.9269\n",
      "Epoch 19/300\n",
      "7/7 [==============================] - 0s 7ms/step - loss: 0.1679 - accuracy: 0.9303 - val_loss: 0.1811 - val_accuracy: 0.9275\n",
      "Epoch 20/300\n",
      "7/7 [==============================] - 0s 10ms/step - loss: 0.1696 - accuracy: 0.9321 - val_loss: 0.1780 - val_accuracy: 0.9287\n",
      "Epoch 21/300\n",
      "7/7 [==============================] - 0s 8ms/step - loss: 0.1720 - accuracy: 0.9316 - val_loss: 0.1784 - val_accuracy: 0.9281\n",
      "Epoch 22/300\n",
      "7/7 [==============================] - 0s 8ms/step - loss: 0.1680 - accuracy: 0.9334 - val_loss: 0.1790 - val_accuracy: 0.9269\n",
      "Epoch 23/300\n",
      "7/7 [==============================] - 0s 8ms/step - loss: 0.1648 - accuracy: 0.9328 - val_loss: 0.1857 - val_accuracy: 0.9294\n",
      "Epoch 24/300\n",
      "7/7 [==============================] - 0s 7ms/step - loss: 0.1711 - accuracy: 0.9311 - val_loss: 0.1756 - val_accuracy: 0.9287\n",
      "Epoch 25/300\n",
      "7/7 [==============================] - 0s 7ms/step - loss: 0.1645 - accuracy: 0.9325 - val_loss: 0.1754 - val_accuracy: 0.9300\n",
      "Epoch 26/300\n",
      "7/7 [==============================] - 0s 7ms/step - loss: 0.1643 - accuracy: 0.9340 - val_loss: 0.1767 - val_accuracy: 0.9300\n",
      "Epoch 27/300\n",
      "7/7 [==============================] - 0s 7ms/step - loss: 0.1690 - accuracy: 0.9324 - val_loss: 0.1825 - val_accuracy: 0.9281\n",
      "Epoch 28/300\n",
      "7/7 [==============================] - 0s 7ms/step - loss: 0.1686 - accuracy: 0.9318 - val_loss: 0.1727 - val_accuracy: 0.9319\n",
      "Epoch 29/300\n",
      "7/7 [==============================] - 0s 7ms/step - loss: 0.1606 - accuracy: 0.9355 - val_loss: 0.1700 - val_accuracy: 0.9312\n",
      "Epoch 30/300\n",
      "7/7 [==============================] - 0s 8ms/step - loss: 0.1634 - accuracy: 0.9345 - val_loss: 0.1758 - val_accuracy: 0.9294\n",
      "Epoch 31/300\n",
      "7/7 [==============================] - 0s 9ms/step - loss: 0.1579 - accuracy: 0.9368 - val_loss: 0.1836 - val_accuracy: 0.9262\n",
      "Epoch 32/300\n",
      "7/7 [==============================] - 0s 8ms/step - loss: 0.1583 - accuracy: 0.9345 - val_loss: 0.1798 - val_accuracy: 0.9306\n",
      "Epoch 33/300\n",
      "7/7 [==============================] - 0s 8ms/step - loss: 0.1645 - accuracy: 0.9366 - val_loss: 0.1647 - val_accuracy: 0.9312\n",
      "Epoch 34/300\n",
      "7/7 [==============================] - 0s 7ms/step - loss: 0.1579 - accuracy: 0.9344 - val_loss: 0.1655 - val_accuracy: 0.9337\n",
      "Epoch 35/300\n",
      "7/7 [==============================] - 0s 7ms/step - loss: 0.1538 - accuracy: 0.9376 - val_loss: 0.1662 - val_accuracy: 0.9344\n",
      "Epoch 36/300\n",
      "7/7 [==============================] - 0s 8ms/step - loss: 0.1509 - accuracy: 0.9370 - val_loss: 0.1606 - val_accuracy: 0.9344\n",
      "Epoch 37/300\n",
      "7/7 [==============================] - 0s 8ms/step - loss: 0.1420 - accuracy: 0.9440 - val_loss: 0.1605 - val_accuracy: 0.9369\n",
      "Epoch 38/300\n",
      "7/7 [==============================] - 0s 8ms/step - loss: 0.1418 - accuracy: 0.9408 - val_loss: 0.1574 - val_accuracy: 0.9375\n",
      "Epoch 39/300\n",
      "7/7 [==============================] - 0s 7ms/step - loss: 0.1480 - accuracy: 0.9390 - val_loss: 0.1677 - val_accuracy: 0.9312\n",
      "Epoch 40/300\n",
      "7/7 [==============================] - 0s 7ms/step - loss: 0.1384 - accuracy: 0.9452 - val_loss: 0.1648 - val_accuracy: 0.9444\n",
      "Epoch 41/300\n",
      "7/7 [==============================] - 0s 7ms/step - loss: 0.1440 - accuracy: 0.9489 - val_loss: 0.1453 - val_accuracy: 0.9419\n",
      "Epoch 42/300\n",
      "7/7 [==============================] - 0s 7ms/step - loss: 0.1396 - accuracy: 0.9462 - val_loss: 0.1452 - val_accuracy: 0.9425\n",
      "Epoch 43/300\n",
      "7/7 [==============================] - 0s 7ms/step - loss: 0.1284 - accuracy: 0.9524 - val_loss: 0.1415 - val_accuracy: 0.9463\n",
      "Epoch 44/300\n",
      "7/7 [==============================] - 0s 8ms/step - loss: 0.1316 - accuracy: 0.9510 - val_loss: 0.1402 - val_accuracy: 0.9438\n",
      "Epoch 45/300\n",
      "7/7 [==============================] - 0s 9ms/step - loss: 0.1226 - accuracy: 0.9529 - val_loss: 0.1346 - val_accuracy: 0.9513\n",
      "Epoch 46/300\n",
      "7/7 [==============================] - 0s 8ms/step - loss: 0.1283 - accuracy: 0.9534 - val_loss: 0.1401 - val_accuracy: 0.9469\n",
      "Epoch 47/300\n",
      "7/7 [==============================] - 0s 8ms/step - loss: 0.1201 - accuracy: 0.9571 - val_loss: 0.1483 - val_accuracy: 0.9388\n",
      "Epoch 48/300\n",
      "7/7 [==============================] - 0s 8ms/step - loss: 0.1231 - accuracy: 0.9524 - val_loss: 0.1363 - val_accuracy: 0.9488\n",
      "Epoch 49/300\n",
      "7/7 [==============================] - 0s 7ms/step - loss: 0.1199 - accuracy: 0.9589 - val_loss: 0.1287 - val_accuracy: 0.9538\n",
      "Epoch 50/300\n",
      "7/7 [==============================] - 0s 8ms/step - loss: 0.1313 - accuracy: 0.9504 - val_loss: 0.1278 - val_accuracy: 0.9469\n",
      "Epoch 51/300\n",
      "7/7 [==============================] - 0s 8ms/step - loss: 0.1115 - accuracy: 0.9594 - val_loss: 0.1150 - val_accuracy: 0.9581\n",
      "Epoch 52/300\n",
      "7/7 [==============================] - 0s 7ms/step - loss: 0.1070 - accuracy: 0.9648 - val_loss: 0.1323 - val_accuracy: 0.9544\n",
      "Epoch 53/300\n",
      "7/7 [==============================] - 0s 8ms/step - loss: 0.1193 - accuracy: 0.9588 - val_loss: 0.1183 - val_accuracy: 0.9588\n",
      "Epoch 54/300\n",
      "7/7 [==============================] - 0s 7ms/step - loss: 0.1050 - accuracy: 0.9643 - val_loss: 0.1126 - val_accuracy: 0.9550\n",
      "Epoch 55/300\n",
      "7/7 [==============================] - 0s 7ms/step - loss: 0.1148 - accuracy: 0.9586 - val_loss: 0.1200 - val_accuracy: 0.9600\n",
      "Epoch 56/300\n",
      "7/7 [==============================] - 0s 8ms/step - loss: 0.1021 - accuracy: 0.9651 - val_loss: 0.1287 - val_accuracy: 0.9413\n",
      "Epoch 57/300\n",
      "7/7 [==============================] - 0s 7ms/step - loss: 0.1095 - accuracy: 0.9582 - val_loss: 0.0987 - val_accuracy: 0.9650\n",
      "Epoch 58/300\n",
      "7/7 [==============================] - 0s 8ms/step - loss: 0.0964 - accuracy: 0.9684 - val_loss: 0.1157 - val_accuracy: 0.9506\n",
      "Epoch 59/300\n",
      "7/7 [==============================] - 0s 7ms/step - loss: 0.1231 - accuracy: 0.9508 - val_loss: 0.0998 - val_accuracy: 0.9663\n",
      "Epoch 60/300\n",
      "7/7 [==============================] - 0s 8ms/step - loss: 0.0884 - accuracy: 0.9715 - val_loss: 0.1364 - val_accuracy: 0.9356\n",
      "Epoch 61/300\n",
      "7/7 [==============================] - 0s 8ms/step - loss: 0.1096 - accuracy: 0.9567 - val_loss: 0.0937 - val_accuracy: 0.9675\n",
      "Epoch 62/300\n",
      "7/7 [==============================] - 0s 8ms/step - loss: 0.0944 - accuracy: 0.9692 - val_loss: 0.1226 - val_accuracy: 0.9525\n",
      "Epoch 63/300\n",
      "7/7 [==============================] - 0s 8ms/step - loss: 0.1087 - accuracy: 0.9608 - val_loss: 0.1130 - val_accuracy: 0.9556\n",
      "Epoch 64/300\n",
      "7/7 [==============================] - 0s 7ms/step - loss: 0.1040 - accuracy: 0.9590 - val_loss: 0.1019 - val_accuracy: 0.9638\n",
      "Epoch 65/300\n",
      "7/7 [==============================] - 0s 8ms/step - loss: 0.0898 - accuracy: 0.9694 - val_loss: 0.1608 - val_accuracy: 0.9344\n",
      "Epoch 66/300\n",
      "7/7 [==============================] - 0s 8ms/step - loss: 0.1303 - accuracy: 0.9496 - val_loss: 0.0923 - val_accuracy: 0.9669\n",
      "Epoch 67/300\n",
      "7/7 [==============================] - 0s 8ms/step - loss: 0.0805 - accuracy: 0.9755 - val_loss: 0.0963 - val_accuracy: 0.9669\n",
      "Epoch 68/300\n",
      "7/7 [==============================] - 0s 8ms/step - loss: 0.0929 - accuracy: 0.9689 - val_loss: 0.1358 - val_accuracy: 0.9525\n",
      "Epoch 69/300\n",
      "7/7 [==============================] - 0s 8ms/step - loss: 0.0923 - accuracy: 0.9677 - val_loss: 0.1002 - val_accuracy: 0.9631\n",
      "Epoch 70/300\n",
      "7/7 [==============================] - 0s 8ms/step - loss: 0.0874 - accuracy: 0.9706 - val_loss: 0.1397 - val_accuracy: 0.9506\n",
      "Epoch 71/300\n",
      "7/7 [==============================] - 0s 7ms/step - loss: 0.0926 - accuracy: 0.9670 - val_loss: 0.0815 - val_accuracy: 0.9737\n",
      "Epoch 72/300\n",
      "7/7 [==============================] - 0s 8ms/step - loss: 0.0835 - accuracy: 0.9716 - val_loss: 0.1277 - val_accuracy: 0.9469\n",
      "Epoch 73/300\n",
      "7/7 [==============================] - 0s 8ms/step - loss: 0.0981 - accuracy: 0.9652 - val_loss: 0.0935 - val_accuracy: 0.9675\n",
      "Epoch 74/300\n",
      "7/7 [==============================] - 0s 8ms/step - loss: 0.0801 - accuracy: 0.9728 - val_loss: 0.0947 - val_accuracy: 0.9644\n",
      "Epoch 75/300\n",
      "7/7 [==============================] - 0s 8ms/step - loss: 0.0808 - accuracy: 0.9737 - val_loss: 0.0839 - val_accuracy: 0.9712\n",
      "Epoch 76/300\n",
      "7/7 [==============================] - 0s 7ms/step - loss: 0.0704 - accuracy: 0.9782 - val_loss: 0.1148 - val_accuracy: 0.9600\n",
      "Epoch 77/300\n",
      "7/7 [==============================] - 0s 7ms/step - loss: 0.0827 - accuracy: 0.9705 - val_loss: 0.1709 - val_accuracy: 0.9225\n",
      "Epoch 78/300\n",
      "7/7 [==============================] - 0s 7ms/step - loss: 0.1114 - accuracy: 0.9566 - val_loss: 0.0782 - val_accuracy: 0.9719\n",
      "Epoch 79/300\n",
      "7/7 [==============================] - 0s 9ms/step - loss: 0.0728 - accuracy: 0.9774 - val_loss: 0.0931 - val_accuracy: 0.9669\n",
      "Epoch 80/300\n",
      "7/7 [==============================] - 0s 8ms/step - loss: 0.0899 - accuracy: 0.9667 - val_loss: 0.0814 - val_accuracy: 0.9737\n",
      "Epoch 81/300\n",
      "7/7 [==============================] - 0s 8ms/step - loss: 0.0787 - accuracy: 0.9729 - val_loss: 0.1211 - val_accuracy: 0.9550\n",
      "Epoch 82/300\n",
      "7/7 [==============================] - 0s 7ms/step - loss: 0.0868 - accuracy: 0.9684 - val_loss: 0.1008 - val_accuracy: 0.9613\n",
      "Epoch 83/300\n",
      "7/7 [==============================] - 0s 8ms/step - loss: 0.1074 - accuracy: 0.9583 - val_loss: 0.0795 - val_accuracy: 0.9712\n",
      "Epoch 84/300\n",
      "7/7 [==============================] - 0s 9ms/step - loss: 0.0661 - accuracy: 0.9760 - val_loss: 0.0823 - val_accuracy: 0.9700\n",
      "Epoch 85/300\n",
      "7/7 [==============================] - 0s 8ms/step - loss: 0.0722 - accuracy: 0.9763 - val_loss: 0.0822 - val_accuracy: 0.9706\n",
      "Epoch 86/300\n",
      "7/7 [==============================] - 0s 10ms/step - loss: 0.0707 - accuracy: 0.9757 - val_loss: 0.1668 - val_accuracy: 0.9187\n",
      "Epoch 87/300\n",
      "7/7 [==============================] - 0s 10ms/step - loss: 0.1232 - accuracy: 0.9495 - val_loss: 0.0715 - val_accuracy: 0.9756\n",
      "Epoch 88/300\n",
      "7/7 [==============================] - 0s 9ms/step - loss: 0.0631 - accuracy: 0.9794 - val_loss: 0.0721 - val_accuracy: 0.9731\n",
      "Epoch 89/300\n",
      "7/7 [==============================] - 0s 8ms/step - loss: 0.0640 - accuracy: 0.9800 - val_loss: 0.0814 - val_accuracy: 0.9694\n",
      "Epoch 90/300\n",
      "7/7 [==============================] - 0s 8ms/step - loss: 0.0727 - accuracy: 0.9716 - val_loss: 0.0804 - val_accuracy: 0.9675\n",
      "Epoch 91/300\n",
      "7/7 [==============================] - 0s 8ms/step - loss: 0.0719 - accuracy: 0.9754 - val_loss: 0.0855 - val_accuracy: 0.9725\n",
      "Epoch 92/300\n",
      "7/7 [==============================] - 0s 7ms/step - loss: 0.0735 - accuracy: 0.9754 - val_loss: 0.0873 - val_accuracy: 0.9656\n",
      "Epoch 93/300\n",
      "7/7 [==============================] - 0s 8ms/step - loss: 0.1038 - accuracy: 0.9618 - val_loss: 0.0715 - val_accuracy: 0.9737\n",
      "Epoch 94/300\n",
      "7/7 [==============================] - 0s 9ms/step - loss: 0.0700 - accuracy: 0.9772 - val_loss: 0.0946 - val_accuracy: 0.9631\n",
      "Epoch 95/300\n",
      "7/7 [==============================] - 0s 9ms/step - loss: 0.0744 - accuracy: 0.9734 - val_loss: 0.0671 - val_accuracy: 0.9787\n",
      "Epoch 96/300\n",
      "7/7 [==============================] - 0s 8ms/step - loss: 0.0676 - accuracy: 0.9784 - val_loss: 0.0941 - val_accuracy: 0.9688\n",
      "Epoch 97/300\n",
      "7/7 [==============================] - 0s 8ms/step - loss: 0.0738 - accuracy: 0.9745 - val_loss: 0.0658 - val_accuracy: 0.9787\n",
      "Epoch 98/300\n",
      "7/7 [==============================] - 0s 8ms/step - loss: 0.0584 - accuracy: 0.9826 - val_loss: 0.0763 - val_accuracy: 0.9744\n",
      "Epoch 99/300\n",
      "7/7 [==============================] - 0s 8ms/step - loss: 0.0890 - accuracy: 0.9673 - val_loss: 0.0665 - val_accuracy: 0.9775\n",
      "Epoch 100/300\n",
      "7/7 [==============================] - 0s 8ms/step - loss: 0.0687 - accuracy: 0.9767 - val_loss: 0.0763 - val_accuracy: 0.9737\n",
      "Epoch 101/300\n",
      "7/7 [==============================] - 0s 9ms/step - loss: 0.0686 - accuracy: 0.9749 - val_loss: 0.0619 - val_accuracy: 0.9781\n",
      "Epoch 102/300\n",
      "7/7 [==============================] - 0s 9ms/step - loss: 0.0601 - accuracy: 0.9808 - val_loss: 0.0646 - val_accuracy: 0.9806\n",
      "Epoch 103/300\n",
      "7/7 [==============================] - 0s 8ms/step - loss: 0.0722 - accuracy: 0.9763 - val_loss: 0.1121 - val_accuracy: 0.9588\n",
      "Epoch 104/300\n",
      "7/7 [==============================] - 0s 8ms/step - loss: 0.1004 - accuracy: 0.9687 - val_loss: 0.0705 - val_accuracy: 0.9794\n",
      "Epoch 105/300\n",
      "7/7 [==============================] - 0s 8ms/step - loss: 0.0621 - accuracy: 0.9824 - val_loss: 0.0602 - val_accuracy: 0.9819\n",
      "Epoch 106/300\n",
      "7/7 [==============================] - 0s 8ms/step - loss: 0.0615 - accuracy: 0.9790 - val_loss: 0.0873 - val_accuracy: 0.9706\n",
      "Epoch 107/300\n",
      "7/7 [==============================] - 0s 7ms/step - loss: 0.0759 - accuracy: 0.9708 - val_loss: 0.0808 - val_accuracy: 0.9719\n",
      "Epoch 108/300\n",
      "7/7 [==============================] - 0s 8ms/step - loss: 0.0702 - accuracy: 0.9754 - val_loss: 0.0652 - val_accuracy: 0.9756\n",
      "Epoch 109/300\n",
      "7/7 [==============================] - 0s 8ms/step - loss: 0.0570 - accuracy: 0.9826 - val_loss: 0.0691 - val_accuracy: 0.9744\n",
      "Epoch 110/300\n",
      "7/7 [==============================] - 0s 8ms/step - loss: 0.0556 - accuracy: 0.9808 - val_loss: 0.0966 - val_accuracy: 0.9694\n",
      "Epoch 111/300\n",
      "7/7 [==============================] - 0s 8ms/step - loss: 0.0679 - accuracy: 0.9772 - val_loss: 0.0859 - val_accuracy: 0.9656\n",
      "Epoch 112/300\n",
      "7/7 [==============================] - 0s 9ms/step - loss: 0.0660 - accuracy: 0.9768 - val_loss: 0.0582 - val_accuracy: 0.9831\n",
      "Epoch 113/300\n",
      "7/7 [==============================] - 0s 8ms/step - loss: 0.0597 - accuracy: 0.9796 - val_loss: 0.0801 - val_accuracy: 0.9688\n",
      "Epoch 114/300\n",
      "7/7 [==============================] - 0s 8ms/step - loss: 0.0606 - accuracy: 0.9802 - val_loss: 0.0583 - val_accuracy: 0.9812\n",
      "Epoch 115/300\n",
      "7/7 [==============================] - 0s 8ms/step - loss: 0.0532 - accuracy: 0.9831 - val_loss: 0.1390 - val_accuracy: 0.9494\n",
      "Epoch 116/300\n",
      "7/7 [==============================] - 0s 7ms/step - loss: 0.0876 - accuracy: 0.9671 - val_loss: 0.0573 - val_accuracy: 0.9831\n",
      "Epoch 117/300\n",
      "7/7 [==============================] - 0s 8ms/step - loss: 0.0583 - accuracy: 0.9828 - val_loss: 0.1311 - val_accuracy: 0.9544\n",
      "Epoch 118/300\n",
      "7/7 [==============================] - 0s 8ms/step - loss: 0.0769 - accuracy: 0.9725 - val_loss: 0.0600 - val_accuracy: 0.9819\n",
      "Epoch 119/300\n",
      "7/7 [==============================] - 0s 9ms/step - loss: 0.0588 - accuracy: 0.9819 - val_loss: 0.0800 - val_accuracy: 0.9737\n",
      "Epoch 120/300\n",
      "7/7 [==============================] - 0s 8ms/step - loss: 0.0575 - accuracy: 0.9804 - val_loss: 0.0713 - val_accuracy: 0.9725\n",
      "Epoch 121/300\n",
      "7/7 [==============================] - 0s 8ms/step - loss: 0.0590 - accuracy: 0.9783 - val_loss: 0.0971 - val_accuracy: 0.9588\n",
      "Epoch 122/300\n",
      "7/7 [==============================] - 0s 10ms/step - loss: 0.0804 - accuracy: 0.9733 - val_loss: 0.0929 - val_accuracy: 0.9638\n",
      "Epoch 123/300\n",
      "7/7 [==============================] - 0s 8ms/step - loss: 0.0653 - accuracy: 0.9770 - val_loss: 0.0962 - val_accuracy: 0.9638\n",
      "Epoch 124/300\n",
      "7/7 [==============================] - 0s 7ms/step - loss: 0.0611 - accuracy: 0.9776 - val_loss: 0.0558 - val_accuracy: 0.9837\n",
      "Epoch 125/300\n",
      "7/7 [==============================] - 0s 8ms/step - loss: 0.0537 - accuracy: 0.9843 - val_loss: 0.1014 - val_accuracy: 0.9644\n",
      "Epoch 126/300\n",
      "7/7 [==============================] - 0s 8ms/step - loss: 0.0736 - accuracy: 0.9731 - val_loss: 0.0570 - val_accuracy: 0.9806\n",
      "Epoch 127/300\n",
      "7/7 [==============================] - 0s 7ms/step - loss: 0.0512 - accuracy: 0.9840 - val_loss: 0.1827 - val_accuracy: 0.9400\n",
      "Epoch 128/300\n",
      "7/7 [==============================] - 0s 8ms/step - loss: 0.1106 - accuracy: 0.9596 - val_loss: 0.0610 - val_accuracy: 0.9806\n",
      "Epoch 129/300\n",
      "7/7 [==============================] - 0s 8ms/step - loss: 0.0509 - accuracy: 0.9855 - val_loss: 0.0564 - val_accuracy: 0.9837\n",
      "Epoch 130/300\n",
      "7/7 [==============================] - 0s 8ms/step - loss: 0.0497 - accuracy: 0.9849 - val_loss: 0.0567 - val_accuracy: 0.9844\n",
      "Epoch 131/300\n",
      "7/7 [==============================] - 0s 8ms/step - loss: 0.0478 - accuracy: 0.9858 - val_loss: 0.1861 - val_accuracy: 0.9250\n",
      "Epoch 132/300\n",
      "7/7 [==============================] - 0s 8ms/step - loss: 0.1217 - accuracy: 0.9583 - val_loss: 0.0623 - val_accuracy: 0.9769\n",
      "Epoch 133/300\n",
      "7/7 [==============================] - 0s 9ms/step - loss: 0.0507 - accuracy: 0.9831 - val_loss: 0.0560 - val_accuracy: 0.9812\n",
      "Epoch 134/300\n",
      "7/7 [==============================] - 0s 8ms/step - loss: 0.0494 - accuracy: 0.9845 - val_loss: 0.0513 - val_accuracy: 0.9850\n",
      "Epoch 135/300\n",
      "7/7 [==============================] - 0s 8ms/step - loss: 0.0471 - accuracy: 0.9857 - val_loss: 0.0956 - val_accuracy: 0.9644\n",
      "Epoch 136/300\n",
      "7/7 [==============================] - 0s 9ms/step - loss: 0.0682 - accuracy: 0.9760 - val_loss: 0.0839 - val_accuracy: 0.9694\n",
      "Epoch 137/300\n",
      "7/7 [==============================] - 0s 9ms/step - loss: 0.0763 - accuracy: 0.9719 - val_loss: 0.0523 - val_accuracy: 0.9850\n",
      "Epoch 138/300\n",
      "7/7 [==============================] - 0s 9ms/step - loss: 0.0451 - accuracy: 0.9860 - val_loss: 0.0709 - val_accuracy: 0.9756\n",
      "Epoch 139/300\n",
      "7/7 [==============================] - 0s 8ms/step - loss: 0.0715 - accuracy: 0.9730 - val_loss: 0.0640 - val_accuracy: 0.9744\n",
      "Epoch 140/300\n",
      "7/7 [==============================] - 0s 8ms/step - loss: 0.0456 - accuracy: 0.9837 - val_loss: 0.2257 - val_accuracy: 0.9262\n",
      "Epoch 141/300\n",
      "7/7 [==============================] - 0s 8ms/step - loss: 0.1255 - accuracy: 0.9608 - val_loss: 0.0511 - val_accuracy: 0.9887\n",
      "Epoch 142/300\n",
      "7/7 [==============================] - 0s 8ms/step - loss: 0.0472 - accuracy: 0.9864 - val_loss: 0.0511 - val_accuracy: 0.9812\n",
      "Epoch 143/300\n",
      "7/7 [==============================] - 0s 8ms/step - loss: 0.0476 - accuracy: 0.9854 - val_loss: 0.0569 - val_accuracy: 0.9825\n",
      "Epoch 144/300\n",
      "7/7 [==============================] - 0s 9ms/step - loss: 0.0478 - accuracy: 0.9845 - val_loss: 0.0711 - val_accuracy: 0.9750\n",
      "Epoch 145/300\n",
      "7/7 [==============================] - 0s 8ms/step - loss: 0.0551 - accuracy: 0.9814 - val_loss: 0.1099 - val_accuracy: 0.9644\n",
      "Epoch 146/300\n",
      "7/7 [==============================] - 0s 8ms/step - loss: 0.0688 - accuracy: 0.9779 - val_loss: 0.0492 - val_accuracy: 0.9844\n",
      "Epoch 147/300\n",
      "7/7 [==============================] - 0s 8ms/step - loss: 0.0481 - accuracy: 0.9848 - val_loss: 0.0521 - val_accuracy: 0.9850\n",
      "Epoch 148/300\n",
      "7/7 [==============================] - 0s 8ms/step - loss: 0.0535 - accuracy: 0.9817 - val_loss: 0.0468 - val_accuracy: 0.9875\n",
      "Epoch 149/300\n",
      "7/7 [==============================] - 0s 8ms/step - loss: 0.0638 - accuracy: 0.9767 - val_loss: 0.0509 - val_accuracy: 0.9856\n",
      "Epoch 150/300\n",
      "7/7 [==============================] - 0s 9ms/step - loss: 0.0407 - accuracy: 0.9879 - val_loss: 0.0543 - val_accuracy: 0.9787\n",
      "Epoch 151/300\n",
      "7/7 [==============================] - 0s 8ms/step - loss: 0.0591 - accuracy: 0.9782 - val_loss: 0.0659 - val_accuracy: 0.9775\n",
      "Epoch 152/300\n",
      "7/7 [==============================] - 0s 9ms/step - loss: 0.0544 - accuracy: 0.9811 - val_loss: 0.0614 - val_accuracy: 0.9831\n",
      "Epoch 153/300\n",
      "7/7 [==============================] - 0s 9ms/step - loss: 0.0579 - accuracy: 0.9806 - val_loss: 0.0536 - val_accuracy: 0.9856\n",
      "Epoch 154/300\n",
      "7/7 [==============================] - 0s 8ms/step - loss: 0.0479 - accuracy: 0.9857 - val_loss: 0.0846 - val_accuracy: 0.9700\n",
      "Epoch 155/300\n",
      "7/7 [==============================] - 0s 8ms/step - loss: 0.0930 - accuracy: 0.9656 - val_loss: 0.0469 - val_accuracy: 0.9875\n",
      "Epoch 156/300\n",
      "7/7 [==============================] - 0s 8ms/step - loss: 0.0406 - accuracy: 0.9870 - val_loss: 0.0705 - val_accuracy: 0.9731\n",
      "Epoch 157/300\n",
      "7/7 [==============================] - 0s 8ms/step - loss: 0.0524 - accuracy: 0.9821 - val_loss: 0.0456 - val_accuracy: 0.9881\n",
      "Epoch 158/300\n",
      "7/7 [==============================] - 0s 8ms/step - loss: 0.0414 - accuracy: 0.9886 - val_loss: 0.1769 - val_accuracy: 0.9444\n",
      "Epoch 159/300\n",
      "7/7 [==============================] - 0s 8ms/step - loss: 0.1060 - accuracy: 0.9694 - val_loss: 0.0512 - val_accuracy: 0.9887\n",
      "Epoch 160/300\n",
      "7/7 [==============================] - 0s 8ms/step - loss: 0.0451 - accuracy: 0.9838 - val_loss: 0.0862 - val_accuracy: 0.9663\n",
      "Epoch 161/300\n",
      "7/7 [==============================] - 0s 8ms/step - loss: 0.0607 - accuracy: 0.9773 - val_loss: 0.1315 - val_accuracy: 0.9456\n",
      "Epoch 162/300\n",
      "7/7 [==============================] - 0s 9ms/step - loss: 0.0990 - accuracy: 0.9628 - val_loss: 0.0502 - val_accuracy: 0.9831\n",
      "Epoch 163/300\n",
      "7/7 [==============================] - 0s 8ms/step - loss: 0.0405 - accuracy: 0.9870 - val_loss: 0.0449 - val_accuracy: 0.9894\n",
      "Epoch 164/300\n",
      "7/7 [==============================] - 0s 8ms/step - loss: 0.0484 - accuracy: 0.9835 - val_loss: 0.0697 - val_accuracy: 0.9737\n",
      "Epoch 165/300\n",
      "7/7 [==============================] - 0s 8ms/step - loss: 0.0516 - accuracy: 0.9832 - val_loss: 0.0521 - val_accuracy: 0.9862\n",
      "Epoch 166/300\n",
      "7/7 [==============================] - 0s 8ms/step - loss: 0.0470 - accuracy: 0.9843 - val_loss: 0.0757 - val_accuracy: 0.9706\n",
      "Epoch 167/300\n",
      "7/7 [==============================] - 0s 8ms/step - loss: 0.0550 - accuracy: 0.9803 - val_loss: 0.0442 - val_accuracy: 0.9894\n",
      "Epoch 168/300\n",
      "7/7 [==============================] - 0s 8ms/step - loss: 0.0348 - accuracy: 0.9892 - val_loss: 0.0975 - val_accuracy: 0.9694\n",
      "Epoch 169/300\n",
      "7/7 [==============================] - 0s 8ms/step - loss: 0.0619 - accuracy: 0.9791 - val_loss: 0.0432 - val_accuracy: 0.9881\n",
      "Epoch 170/300\n",
      "7/7 [==============================] - 0s 9ms/step - loss: 0.0601 - accuracy: 0.9804 - val_loss: 0.0525 - val_accuracy: 0.9800\n",
      "Epoch 171/300\n",
      "7/7 [==============================] - 0s 8ms/step - loss: 0.0477 - accuracy: 0.9830 - val_loss: 0.0446 - val_accuracy: 0.9856\n",
      "Epoch 172/300\n",
      "7/7 [==============================] - 0s 8ms/step - loss: 0.0363 - accuracy: 0.9896 - val_loss: 0.1121 - val_accuracy: 0.9613\n",
      "Epoch 173/300\n",
      "7/7 [==============================] - 0s 8ms/step - loss: 0.0675 - accuracy: 0.9774 - val_loss: 0.0409 - val_accuracy: 0.9869\n",
      "Epoch 174/300\n",
      "7/7 [==============================] - 0s 8ms/step - loss: 0.0327 - accuracy: 0.9897 - val_loss: 0.1563 - val_accuracy: 0.9413\n",
      "Epoch 175/300\n",
      "7/7 [==============================] - 0s 8ms/step - loss: 0.0987 - accuracy: 0.9607 - val_loss: 0.0454 - val_accuracy: 0.9862\n",
      "Epoch 176/300\n",
      "7/7 [==============================] - 0s 8ms/step - loss: 0.0436 - accuracy: 0.9851 - val_loss: 0.0457 - val_accuracy: 0.9850\n",
      "Epoch 177/300\n",
      "7/7 [==============================] - 0s 9ms/step - loss: 0.0381 - accuracy: 0.9879 - val_loss: 0.0493 - val_accuracy: 0.9862\n",
      "Epoch 178/300\n",
      "7/7 [==============================] - 0s 8ms/step - loss: 0.0663 - accuracy: 0.9764 - val_loss: 0.0505 - val_accuracy: 0.9856\n",
      "Epoch 179/300\n",
      "7/7 [==============================] - 0s 8ms/step - loss: 0.0430 - accuracy: 0.9871 - val_loss: 0.0570 - val_accuracy: 0.9850\n",
      "Epoch 180/300\n",
      "7/7 [==============================] - 0s 8ms/step - loss: 0.0468 - accuracy: 0.9857 - val_loss: 0.1165 - val_accuracy: 0.9650\n",
      "Epoch 181/300\n",
      "7/7 [==============================] - 0s 8ms/step - loss: 0.0737 - accuracy: 0.9765 - val_loss: 0.0397 - val_accuracy: 0.9875\n",
      "Epoch 182/300\n",
      "7/7 [==============================] - 0s 8ms/step - loss: 0.0360 - accuracy: 0.9884 - val_loss: 0.0844 - val_accuracy: 0.9744\n",
      "Epoch 183/300\n",
      "7/7 [==============================] - 0s 8ms/step - loss: 0.0518 - accuracy: 0.9842 - val_loss: 0.1226 - val_accuracy: 0.9525\n",
      "Epoch 184/300\n",
      "7/7 [==============================] - 0s 9ms/step - loss: 0.0653 - accuracy: 0.9747 - val_loss: 0.0402 - val_accuracy: 0.9869\n",
      "Epoch 185/300\n",
      "7/7 [==============================] - 0s 8ms/step - loss: 0.0412 - accuracy: 0.9867 - val_loss: 0.0449 - val_accuracy: 0.9831\n",
      "Epoch 186/300\n",
      "7/7 [==============================] - 0s 8ms/step - loss: 0.0368 - accuracy: 0.9870 - val_loss: 0.0368 - val_accuracy: 0.9900\n",
      "Epoch 187/300\n",
      "7/7 [==============================] - 0s 10ms/step - loss: 0.0516 - accuracy: 0.9828 - val_loss: 0.0547 - val_accuracy: 0.9819\n",
      "Epoch 188/300\n",
      "7/7 [==============================] - 0s 8ms/step - loss: 0.0429 - accuracy: 0.9837 - val_loss: 0.0378 - val_accuracy: 0.9894\n",
      "Epoch 189/300\n",
      "7/7 [==============================] - 0s 7ms/step - loss: 0.0336 - accuracy: 0.9883 - val_loss: 0.0714 - val_accuracy: 0.9706\n",
      "Epoch 190/300\n",
      "7/7 [==============================] - 0s 8ms/step - loss: 0.0530 - accuracy: 0.9824 - val_loss: 0.0353 - val_accuracy: 0.9906\n",
      "Epoch 191/300\n",
      "7/7 [==============================] - 0s 8ms/step - loss: 0.0280 - accuracy: 0.9924 - val_loss: 0.0445 - val_accuracy: 0.9881\n",
      "Epoch 192/300\n",
      "7/7 [==============================] - 0s 9ms/step - loss: 0.0600 - accuracy: 0.9808 - val_loss: 0.0480 - val_accuracy: 0.9844\n",
      "Epoch 193/300\n",
      "7/7 [==============================] - 0s 8ms/step - loss: 0.0407 - accuracy: 0.9874 - val_loss: 0.0354 - val_accuracy: 0.9894\n",
      "Epoch 194/300\n",
      "7/7 [==============================] - 0s 8ms/step - loss: 0.0339 - accuracy: 0.9894 - val_loss: 0.0842 - val_accuracy: 0.9700\n",
      "Epoch 195/300\n",
      "7/7 [==============================] - 0s 8ms/step - loss: 0.0561 - accuracy: 0.9805 - val_loss: 0.0433 - val_accuracy: 0.9856\n",
      "Epoch 196/300\n",
      "7/7 [==============================] - 0s 8ms/step - loss: 0.0376 - accuracy: 0.9874 - val_loss: 0.0514 - val_accuracy: 0.9825\n",
      "Epoch 197/300\n",
      "7/7 [==============================] - 0s 8ms/step - loss: 0.0385 - accuracy: 0.9873 - val_loss: 0.2126 - val_accuracy: 0.9225\n",
      "Epoch 198/300\n",
      "7/7 [==============================] - 0s 8ms/step - loss: 0.1069 - accuracy: 0.9634 - val_loss: 0.0439 - val_accuracy: 0.9856\n",
      "Epoch 199/300\n",
      "7/7 [==============================] - 0s 8ms/step - loss: 0.0416 - accuracy: 0.9866 - val_loss: 0.0356 - val_accuracy: 0.9919\n",
      "Epoch 200/300\n",
      "7/7 [==============================] - 0s 8ms/step - loss: 0.0372 - accuracy: 0.9882 - val_loss: 0.1422 - val_accuracy: 0.9631\n",
      "Restoring model weights from the end of the best epoch.\n",
      "Epoch 00200: early stopping\n"
     ]
    }
   ],
   "source": [
    "# Network 구조 형성\n",
    "import tensorflow as tf\n",
    "from tensorflow.keras import models\n",
    "from tensorflow.keras import layers\n",
    "\n",
    "# tf.set_random_seed(2021) <- 이건 tensorflow 1 version\n",
    "tf.random.set_seed(2021)\n",
    "\n",
    "\n",
    "\n",
    "# Step 1 : 모델 구축#\n",
    "model = models.Sequential() # ANN 형성\n",
    "\n",
    "model.add(layers.Dense(16, activation = 'relu', input_shape=(train_features.shape[1],))) # Hidden layer\n",
    "\n",
    "model.add(layers.Dense(8, activation = 'relu')) # Hidden layer\n",
    "\n",
    "model.add(layers.Dense(4, activation = 'relu')) # Hidden layer\n",
    "\n",
    "model.add(layers.Dense(2, activation = 'sigmoid') # Output layer 생성\n",
    "\n",
    "\n",
    "\n",
    "# Step 2 : Loss Function & Optimizer 설정#\n",
    "# adam = tf.keras.optimizers.Adam(learning_rate=0.1)\n",
    "\n",
    "# Optimizer 종류 => https://keras.io/api/optimizers/\n",
    "# SGD, RMSprop, Adam, Adadelta, Adagrad, Adamax, Nadam, Ftrl\n",
    "## Adam을 가장 자주 씀\n",
    "\n",
    "\n",
    "# Step 3 : 모델 Compile#\n",
    "from tensorflow.keras import optimizers\n",
    "model.compile(optimizer=optimizers.RMSprop(lr=0.01),\n",
    "               loss='categorical_crossentropy',\n",
    "               metrics=['accuracy'])\n",
    "\n",
    "\n",
    "# 콜백 함수 #\n",
    "es = tf.keras.callbacks.EarlyStopping(monitor='val_loss', patience=10, verbose=1, restore_best_weights=True) # Early stopping\n",
    "lr = tf.keras.callbacks.ReduceLROnPlateau(monitor='val_loss', factor=0.1, min_lr=0.001) # learning rate 관련\n",
    "\n",
    "\n",
    "# 4 #\n",
    "# model.fit(train_data, train_targets, epochs=80, batch_size=16)\n",
    "cls_history = model.fit(train_features, train_labels_one_hot, epochs=300, batch_size=1024, \n",
    "                        validation_split=0.2, callbacks=[es, lr]) #,callbacks=[es,lr]\n",
    "\n",
    "\n",
    "\n",
    "\n",
    "\n",
    "from keras.models import load_model\n",
    "\n",
    "path = '/content/drive/My Drive/데이터마이닝/HW/Week9/model/'\n",
    "save_file = 'h3_16_8_4_2_RMSprop.h5'\n",
    "\n",
    "model.save(path+save_file)"
   ]
  },
  {
   "cell_type": "code",
   "execution_count": 128,
   "metadata": {
    "colab": {
     "base_uri": "https://localhost:8080/"
    },
    "id": "QyGLBtesiPoJ",
    "outputId": "970e53bf-b8a7-43db-a118-2f05bbcdb97a"
   },
   "outputs": [
    {
     "name": "stdout",
     "output_type": "stream",
     "text": [
      "Model: \"sequential_3\"\n",
      "_________________________________________________________________\n",
      "Layer (type)                 Output Shape              Param #   \n",
      "=================================================================\n",
      "dense_12 (Dense)             (None, 16)                96        \n",
      "_________________________________________________________________\n",
      "dense_13 (Dense)             (None, 8)                 136       \n",
      "_________________________________________________________________\n",
      "dense_14 (Dense)             (None, 4)                 36        \n",
      "_________________________________________________________________\n",
      "dense_15 (Dense)             (None, 2)                 10        \n",
      "=================================================================\n",
      "Total params: 278\n",
      "Trainable params: 278\n",
      "Non-trainable params: 0\n",
      "_________________________________________________________________\n"
     ]
    }
   ],
   "source": [
    "model.summary()"
   ]
  },
  {
   "cell_type": "markdown",
   "metadata": {
    "id": "n5eDVP3xvPyl"
   },
   "source": [
    "# 모델 구조 시각화\n"
   ]
  },
  {
   "cell_type": "code",
   "execution_count": 129,
   "metadata": {
    "colab": {
     "base_uri": "https://localhost:8080/",
     "height": 533
    },
    "id": "hJLx8JVAiQkk",
    "outputId": "35e93b11-8027-4dcc-f0fa-56383072d9f8"
   },
   "outputs": [
    {
     "data": {
      "image/png": "[encoded data removed]",
      "text/plain": [
       "<IPython.core.display.Image object>"
      ]
     },
     "execution_count": 129,
     "metadata": {
      "tags": []
     },
     "output_type": "execute_result"
    }
   ],
   "source": [
    "from tensorflow.keras.utils import plot_model\n",
    "\n",
    "plot_model(model, to_file='network_classification_model_shapes.png', show_shapes=True)"
   ]
  },
  {
   "cell_type": "markdown",
   "metadata": {
    "id": "AbG2ScmkvWSv"
   },
   "source": [
    "# 학습된 모델 weight 추출"
   ]
  },
  {
   "cell_type": "code",
   "execution_count": 130,
   "metadata": {
    "colab": {
     "base_uri": "https://localhost:8080/",
     "height": 197
    },
    "id": "52lyL-bHiU-Q",
    "outputId": "59db8ae0-d507-454f-bcd5-a03d3c4e8453"
   },
   "outputs": [
    {
     "data": {
      "text/html": [
       "<div>\n",
       "<style scoped>\n",
       "    .dataframe tbody tr th:only-of-type {\n",
       "        vertical-align: middle;\n",
       "    }\n",
       "\n",
       "    .dataframe tbody tr th {\n",
       "        vertical-align: top;\n",
       "    }\n",
       "\n",
       "    .dataframe thead th {\n",
       "        text-align: right;\n",
       "    }\n",
       "</style>\n",
       "<table border=\"1\" class=\"dataframe\">\n",
       "  <thead>\n",
       "    <tr style=\"text-align: right;\">\n",
       "      <th></th>\n",
       "      <th>0</th>\n",
       "      <th>1</th>\n",
       "      <th>2</th>\n",
       "      <th>3</th>\n",
       "      <th>4</th>\n",
       "      <th>5</th>\n",
       "      <th>6</th>\n",
       "      <th>7</th>\n",
       "      <th>8</th>\n",
       "      <th>9</th>\n",
       "      <th>10</th>\n",
       "      <th>11</th>\n",
       "      <th>12</th>\n",
       "      <th>13</th>\n",
       "      <th>14</th>\n",
       "      <th>15</th>\n",
       "    </tr>\n",
       "  </thead>\n",
       "  <tbody>\n",
       "    <tr>\n",
       "      <th>0</th>\n",
       "      <td>0.707591</td>\n",
       "      <td>-0.649858</td>\n",
       "      <td>-1.342600</td>\n",
       "      <td>0.561896</td>\n",
       "      <td>-0.357449</td>\n",
       "      <td>-0.753169</td>\n",
       "      <td>1.121712</td>\n",
       "      <td>1.470213</td>\n",
       "      <td>0.913070</td>\n",
       "      <td>-1.489188</td>\n",
       "      <td>0.790740</td>\n",
       "      <td>-1.350017</td>\n",
       "      <td>-0.162967</td>\n",
       "      <td>-1.787350</td>\n",
       "      <td>1.036064</td>\n",
       "      <td>-1.384844</td>\n",
       "    </tr>\n",
       "    <tr>\n",
       "      <th>1</th>\n",
       "      <td>1.197320</td>\n",
       "      <td>1.620945</td>\n",
       "      <td>1.001223</td>\n",
       "      <td>-0.200550</td>\n",
       "      <td>-0.038853</td>\n",
       "      <td>1.399361</td>\n",
       "      <td>-0.137638</td>\n",
       "      <td>-1.823303</td>\n",
       "      <td>0.219455</td>\n",
       "      <td>1.061029</td>\n",
       "      <td>0.238262</td>\n",
       "      <td>0.945576</td>\n",
       "      <td>0.653099</td>\n",
       "      <td>0.903815</td>\n",
       "      <td>0.382358</td>\n",
       "      <td>0.430071</td>\n",
       "    </tr>\n",
       "    <tr>\n",
       "      <th>2</th>\n",
       "      <td>-0.021735</td>\n",
       "      <td>0.007454</td>\n",
       "      <td>0.013166</td>\n",
       "      <td>-0.352890</td>\n",
       "      <td>-0.102643</td>\n",
       "      <td>0.053566</td>\n",
       "      <td>-0.283340</td>\n",
       "      <td>0.007557</td>\n",
       "      <td>-0.078540</td>\n",
       "      <td>0.011136</td>\n",
       "      <td>0.135375</td>\n",
       "      <td>0.047942</td>\n",
       "      <td>0.084124</td>\n",
       "      <td>0.017857</td>\n",
       "      <td>-0.043714</td>\n",
       "      <td>-0.021528</td>\n",
       "    </tr>\n",
       "    <tr>\n",
       "      <th>3</th>\n",
       "      <td>-0.029671</td>\n",
       "      <td>0.010252</td>\n",
       "      <td>0.043774</td>\n",
       "      <td>-0.472310</td>\n",
       "      <td>0.267017</td>\n",
       "      <td>0.045926</td>\n",
       "      <td>-0.138627</td>\n",
       "      <td>0.051247</td>\n",
       "      <td>-0.428659</td>\n",
       "      <td>0.022746</td>\n",
       "      <td>0.250576</td>\n",
       "      <td>0.058019</td>\n",
       "      <td>-0.392275</td>\n",
       "      <td>0.052866</td>\n",
       "      <td>-0.057799</td>\n",
       "      <td>-0.000326</td>\n",
       "    </tr>\n",
       "    <tr>\n",
       "      <th>4</th>\n",
       "      <td>0.003415</td>\n",
       "      <td>0.071399</td>\n",
       "      <td>-0.012636</td>\n",
       "      <td>0.321151</td>\n",
       "      <td>-0.060988</td>\n",
       "      <td>-0.214036</td>\n",
       "      <td>0.279910</td>\n",
       "      <td>-0.037344</td>\n",
       "      <td>0.173112</td>\n",
       "      <td>-0.001905</td>\n",
       "      <td>-0.206271</td>\n",
       "      <td>-0.152534</td>\n",
       "      <td>0.187937</td>\n",
       "      <td>-0.158663</td>\n",
       "      <td>0.551321</td>\n",
       "      <td>0.174018</td>\n",
       "    </tr>\n",
       "  </tbody>\n",
       "</table>\n",
       "</div>"
      ],
      "text/plain": [
       "         0         1         2   ...        13        14        15\n",
       "0  0.707591 -0.649858 -1.342600  ... -1.787350  1.036064 -1.384844\n",
       "1  1.197320  1.620945  1.001223  ...  0.903815  0.382358  0.430071\n",
       "2 -0.021735  0.007454  0.013166  ...  0.017857 -0.043714 -0.021528\n",
       "3 -0.029671  0.010252  0.043774  ...  0.052866 -0.057799 -0.000326\n",
       "4  0.003415  0.071399 -0.012636  ... -0.158663  0.551321  0.174018\n",
       "\n",
       "[5 rows x 16 columns]"
      ]
     },
     "execution_count": 130,
     "metadata": {
      "tags": []
     },
     "output_type": "execute_result"
    }
   ],
   "source": [
    "pd.DataFrame(model.get_weights()[0])\n",
    "# []안에 숫자를 바꿔가면서 차례로 weight와 bias를 볼 수 있음\n",
    "## 0: input layer -> hidden layer1 의 weight\n",
    "## 1: input layer -> hidden layer1 의 bias\n",
    "## 2: hidden layer1 -> hidden layer2 의 weight\n",
    "## 3: hidden layer1 -> hidden layer2 의 bias\n",
    "## 4: hidden layer2 -> output layer 의 weight\n",
    "## 5: hidden layer2 -> output layer 의 bias\n"
   ]
  },
  {
   "cell_type": "code",
   "execution_count": 131,
   "metadata": {
    "colab": {
     "base_uri": "https://localhost:8080/"
    },
    "id": "b3EtjfKriZRh",
    "outputId": "a6e96171-7d0a-4e46-fd85-a69e5a505f78"
   },
   "outputs": [
    {
     "data": {
      "text/plain": [
       "dict_keys(['loss', 'accuracy', 'val_loss', 'val_accuracy', 'lr'])"
      ]
     },
     "execution_count": 131,
     "metadata": {
      "tags": []
     },
     "output_type": "execute_result"
    }
   ],
   "source": [
    "cls_history_dict = cls_history.history\n",
    "cls_history_dict.keys()"
   ]
  },
  {
   "cell_type": "code",
   "execution_count": 132,
   "metadata": {
    "colab": {
     "base_uri": "https://localhost:8080/",
     "height": 295
    },
    "id": "yO2TqJe5ieIf",
    "outputId": "e5cf92e8-2ffc-48e1-9b5e-b0b4fe5776bf"
   },
   "outputs": [
    {
     "data": {
      "image/png": "[encoded data removed]",
      "text/plain": [
       "<Figure size 432x288 with 1 Axes>"
      ]
     },
     "metadata": {
      "needs_background": "light",
      "tags": []
     },
     "output_type": "display_data"
    }
   ],
   "source": [
    "import matplotlib.pyplot as plt\n",
    "\n",
    "cls_history_dict = cls_history.history\n",
    "loss = cls_history_dict['loss']\n",
    "val_loss = cls_history_dict['val_loss']\n",
    "\n",
    "epochs = range(1, len(loss) + 1)\n",
    "\n",
    "plt.plot(epochs, loss, 'b', label='Training loss')\n",
    "plt.plot(epochs, val_loss, label='Validation loss', color='red') # ‘b’는 실선으로, 'bo'는 점으로 나옴\n",
    "plt.title('Training and validation loss')\n",
    "plt.xlabel('Epochs')\n",
    "plt.ylabel('Loss')\n",
    "plt.legend()\n",
    "\n",
    "plt.show()"
   ]
  },
  {
   "cell_type": "code",
   "execution_count": 133,
   "metadata": {
    "colab": {
     "base_uri": "https://localhost:8080/",
     "height": 295
    },
    "id": "CvT6C3iFig3p",
    "outputId": "b7aa9631-a133-4aeb-8ae2-0f3ccf4718c0"
   },
   "outputs": [
    {
     "data": {
      "image/png": "[encoded data removed]",
      "text/plain": [
       "<Figure size 432x288 with 1 Axes>"
      ]
     },
     "metadata": {
      "needs_background": "light",
      "tags": []
     },
     "output_type": "display_data"
    }
   ],
   "source": [
    "plt.clf()\n",
    "acc = cls_history_dict['accuracy']\n",
    "val_acc = cls_history_dict['val_accuracy']\n",
    "\n",
    "plt.plot(epochs, acc, 'b', label='Training acc')\n",
    "plt.plot(epochs, val_acc, label='Validation acc', color='red')\n",
    "plt.title('Training and validation accuracy')\n",
    "plt.xlabel('Epochs')\n",
    "plt.ylabel('Accuracy')\n",
    "plt.legend()\n",
    "\n",
    "plt.show()"
   ]
  },
  {
   "cell_type": "code",
   "execution_count": 134,
   "metadata": {
    "colab": {
     "base_uri": "https://localhost:8080/"
    },
    "id": "viDUKDW7ijb7",
    "outputId": "fb464735-2434-467e-f6ad-c896d0d15535"
   },
   "outputs": [
    {
     "name": "stdout",
     "output_type": "stream",
     "text": [
      "63/63 [==============================] - 0s 2ms/step - loss: 0.0446 - accuracy: 0.9875\n",
      "test loss: 0.04455030709505081\n",
      "test_accuracy: 0.987500011920929\n"
     ]
    }
   ],
   "source": [
    "test_loss, test_acc = model.evaluate(test_features, test_labels_one_hot)\n",
    "print('test loss:', test_loss)\n",
    "print('test_accuracy:', test_acc)"
   ]
  },
  {
   "cell_type": "markdown",
   "metadata": {
    "id": "_9eZCrGZKKKb"
   },
   "source": [
    "# 3. 모델 Save 및 Load, 성능 확인"
   ]
  },
  {
   "cell_type": "code",
   "execution_count": 184,
   "metadata": {
    "colab": {
     "base_uri": "https://localhost:8080/"
    },
    "id": "ULWss4OJxWuB",
    "outputId": "8e68ed02-6604-419e-ab43-1510335a3cb1"
   },
   "outputs": [
    {
     "name": "stdout",
     "output_type": "stream",
     "text": [
      "63/63 [==============================] - 0s 2ms/step - loss: 0.0570 - accuracy: 0.9785\n",
      "test loss: 0.056997403502464294\n",
      "test_accuracy: 0.9785000085830688\n"
     ]
    }
   ],
   "source": [
    "from keras.models import load_model\n",
    "\n",
    "path = '/content/drive/My Drive/데이터마이닝/HW/Week9/model/'\n",
    "save_file = 'h2_4_4.h5'\n",
    "\n",
    "#model.save(path+save_file)\n",
    "\n",
    "model = load_model(path+save_file)\n",
    "\n",
    "\n",
    "test_loss, test_acc = model.evaluate(test_features, test_labels_one_hot)\n",
    "print('test loss:', test_loss)\n",
    "print('test_accuracy:', test_acc)\n"
   ]
  },
  {
   "cell_type": "code",
   "execution_count": 185,
   "metadata": {
    "colab": {
     "base_uri": "https://localhost:8080/",
     "height": 197
    },
    "id": "NNsw0a8yKC-_",
    "outputId": "a7dee6ee-0859-48e8-cb87-3cf93478a029"
   },
   "outputs": [
    {
     "data": {
      "text/html": [
       "<div>\n",
       "<style scoped>\n",
       "    .dataframe tbody tr th:only-of-type {\n",
       "        vertical-align: middle;\n",
       "    }\n",
       "\n",
       "    .dataframe tbody tr th {\n",
       "        vertical-align: top;\n",
       "    }\n",
       "\n",
       "    .dataframe thead th {\n",
       "        text-align: right;\n",
       "    }\n",
       "</style>\n",
       "<table border=\"1\" class=\"dataframe\">\n",
       "  <thead>\n",
       "    <tr style=\"text-align: right;\">\n",
       "      <th></th>\n",
       "      <th>0</th>\n",
       "      <th>1</th>\n",
       "      <th>2</th>\n",
       "      <th>3</th>\n",
       "    </tr>\n",
       "  </thead>\n",
       "  <tbody>\n",
       "    <tr>\n",
       "      <th>0</th>\n",
       "      <td>-2.311687</td>\n",
       "      <td>1.026105</td>\n",
       "      <td>-1.992417</td>\n",
       "      <td>0.738000</td>\n",
       "    </tr>\n",
       "    <tr>\n",
       "      <th>1</th>\n",
       "      <td>1.360328</td>\n",
       "      <td>-2.114043</td>\n",
       "      <td>1.599887</td>\n",
       "      <td>0.670607</td>\n",
       "    </tr>\n",
       "    <tr>\n",
       "      <th>2</th>\n",
       "      <td>-0.014536</td>\n",
       "      <td>0.003111</td>\n",
       "      <td>0.003726</td>\n",
       "      <td>-0.161186</td>\n",
       "    </tr>\n",
       "    <tr>\n",
       "      <th>3</th>\n",
       "      <td>-0.002758</td>\n",
       "      <td>0.006744</td>\n",
       "      <td>0.002749</td>\n",
       "      <td>-0.440520</td>\n",
       "    </tr>\n",
       "    <tr>\n",
       "      <th>4</th>\n",
       "      <td>0.003648</td>\n",
       "      <td>-0.009521</td>\n",
       "      <td>-0.000626</td>\n",
       "      <td>0.378742</td>\n",
       "    </tr>\n",
       "  </tbody>\n",
       "</table>\n",
       "</div>"
      ],
      "text/plain": [
       "          0         1         2         3\n",
       "0 -2.311687  1.026105 -1.992417  0.738000\n",
       "1  1.360328 -2.114043  1.599887  0.670607\n",
       "2 -0.014536  0.003111  0.003726 -0.161186\n",
       "3 -0.002758  0.006744  0.002749 -0.440520\n",
       "4  0.003648 -0.009521 -0.000626  0.378742"
      ]
     },
     "execution_count": 185,
     "metadata": {
      "tags": []
     },
     "output_type": "execute_result"
    }
   ],
   "source": [
    "pd.DataFrame(model.get_weights()[0])"
   ]
  },
  {
   "cell_type": "code",
   "execution_count": 186,
   "metadata": {
    "id": "P716i7JXgxgh"
   },
   "outputs": [],
   "source": [
    "y_pred = model.predict(test_features)"
   ]
  },
  {
   "cell_type": "code",
   "execution_count": 187,
   "metadata": {
    "colab": {
     "base_uri": "https://localhost:8080/"
    },
    "id": "-hHDmZkXKTTz",
    "outputId": "e4e051a0-4685-487c-f484-5be827241168"
   },
   "outputs": [
    {
     "name": "stdout",
     "output_type": "stream",
     "text": [
      "test R squared: 0.936\n"
     ]
    }
   ],
   "source": [
    "from sklearn.metrics import r2_score\n",
    "print('test R squared: %.3f' % r2_score(test_labels_one_hot, y_pred))"
   ]
  }
 ],
 "metadata": {
  "accelerator": "GPU",
  "colab": {
   "collapsed_sections": [],
   "name": "hw9_최종.ipynb",
   "provenance": []
  },
  "kernelspec": {
   "display_name": "Python 3",
   "language": "python",
   "name": "python3"
  },
  "language_info": {
   "codemirror_mode": {
    "name": "ipython",
    "version": 3
   },
   "file_extension": ".py",
   "mimetype": "text/x-python",
   "name": "python",
   "nbconvert_exporter": "python",
   "pygments_lexer": "ipython3",
   "version": "3.8.5"
  }
 },
 "nbformat": 4,
 "nbformat_minor": 1
}
