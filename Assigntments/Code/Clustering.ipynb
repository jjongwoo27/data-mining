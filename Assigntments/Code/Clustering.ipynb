{
 "cells": [
  {
   "cell_type": "markdown",
   "metadata": {},
   "source": [
    "# Clustering"
   ]
  },
  {
   "cell_type": "code",
   "execution_count": null,
   "metadata": {
    "id": "ke5FiTvq-rJK"
   },
   "outputs": [],
   "source": [
    "import pandas as pd\n",
    "import numpy as np\n",
    "import requests\n",
    "from sklearn.preprocessing import StandardScaler"
   ]
  },
  {
   "cell_type": "code",
   "execution_count": null,
   "metadata": {
    "id": "WIltDkOa-rJO"
   },
   "outputs": [],
   "source": [
    "# https://public.opendatasoft.com/api/records/1.0/search/?dataset=airbnb-listings&q=where+country_code+%3D+'US'+and+city+%3D+%22New+York%22&rows=10\n",
    "r = requests.get(\"https://public.opendatasoft.com/api/records/1.0/search/?dataset=airbnb-listings&q=where+country_code+%3D+'US'&rows=10000\")#+and+city+%3D+%22New+York%22\n",
    "records = r.json()['records']"
   ]
  },
  {
   "cell_type": "code",
   "execution_count": null,
   "metadata": {
    "id": "XGFnnI__-rJQ"
   },
   "outputs": [],
   "source": [
    "df_records = []\n",
    "for r in records:\n",
    "  df_records.append(r['fields'])"
   ]
  },
  {
   "cell_type": "code",
   "execution_count": null,
   "metadata": {
    "colab": {
     "base_uri": "https://localhost:8080/",
     "height": 391
    },
    "id": "v4_xzofm-rJR",
    "outputId": "a51e5ec3-ee24-402f-bdad-aab7e5c1a1fb"
   },
   "outputs": [
    {
     "data": {
      "text/html": [
       "<div>\n",
       "<style scoped>\n",
       "    .dataframe tbody tr th:only-of-type {\n",
       "        vertical-align: middle;\n",
       "    }\n",
       "\n",
       "    .dataframe tbody tr th {\n",
       "        vertical-align: top;\n",
       "    }\n",
       "\n",
       "    .dataframe thead th {\n",
       "        text-align: right;\n",
       "    }\n",
       "</style>\n",
       "<table border=\"1\" class=\"dataframe\">\n",
       "  <thead>\n",
       "    <tr style=\"text-align: right;\">\n",
       "      <th></th>\n",
       "      <th>reviews_per_month</th>\n",
       "      <th>price</th>\n",
       "      <th>availability_365</th>\n",
       "    </tr>\n",
       "  </thead>\n",
       "  <tbody>\n",
       "    <tr>\n",
       "      <th>2</th>\n",
       "      <td>0.81</td>\n",
       "      <td>77.0</td>\n",
       "      <td>365</td>\n",
       "    </tr>\n",
       "    <tr>\n",
       "      <th>3</th>\n",
       "      <td>2.77</td>\n",
       "      <td>130.0</td>\n",
       "      <td>343</td>\n",
       "    </tr>\n",
       "    <tr>\n",
       "      <th>4</th>\n",
       "      <td>5.98</td>\n",
       "      <td>40.0</td>\n",
       "      <td>316</td>\n",
       "    </tr>\n",
       "    <tr>\n",
       "      <th>5</th>\n",
       "      <td>1.71</td>\n",
       "      <td>295.0</td>\n",
       "      <td>353</td>\n",
       "    </tr>\n",
       "    <tr>\n",
       "      <th>6</th>\n",
       "      <td>0.14</td>\n",
       "      <td>80.0</td>\n",
       "      <td>0</td>\n",
       "    </tr>\n",
       "    <tr>\n",
       "      <th>...</th>\n",
       "      <td>...</td>\n",
       "      <td>...</td>\n",
       "      <td>...</td>\n",
       "    </tr>\n",
       "    <tr>\n",
       "      <th>9994</th>\n",
       "      <td>0.06</td>\n",
       "      <td>63.0</td>\n",
       "      <td>0</td>\n",
       "    </tr>\n",
       "    <tr>\n",
       "      <th>9995</th>\n",
       "      <td>0.25</td>\n",
       "      <td>160.0</td>\n",
       "      <td>28</td>\n",
       "    </tr>\n",
       "    <tr>\n",
       "      <th>9996</th>\n",
       "      <td>0.23</td>\n",
       "      <td>550.0</td>\n",
       "      <td>221</td>\n",
       "    </tr>\n",
       "    <tr>\n",
       "      <th>9998</th>\n",
       "      <td>2.43</td>\n",
       "      <td>80.0</td>\n",
       "      <td>64</td>\n",
       "    </tr>\n",
       "    <tr>\n",
       "      <th>9999</th>\n",
       "      <td>2.63</td>\n",
       "      <td>43.0</td>\n",
       "      <td>150</td>\n",
       "    </tr>\n",
       "  </tbody>\n",
       "</table>\n",
       "<p>8304 rows × 3 columns</p>\n",
       "</div>"
      ],
      "text/plain": [
       "      reviews_per_month  price  availability_365\n",
       "2                  0.81   77.0               365\n",
       "3                  2.77  130.0               343\n",
       "4                  5.98   40.0               316\n",
       "5                  1.71  295.0               353\n",
       "6                  0.14   80.0                 0\n",
       "...                 ...    ...               ...\n",
       "9994               0.06   63.0                 0\n",
       "9995               0.25  160.0                28\n",
       "9996               0.23  550.0               221\n",
       "9998               2.43   80.0                64\n",
       "9999               2.63   43.0               150\n",
       "\n",
       "[8304 rows x 3 columns]"
      ]
     },
     "execution_count": 4,
     "metadata": {
      "tags": []
     },
     "output_type": "execute_result"
    }
   ],
   "source": [
    "df = pd.DataFrame(df_records)\n",
    "df = df.sort_index(axis=1)\n",
    "data=df[['reviews_per_month','price','availability_365']] # 변수 추출 \n",
    "data=data.dropna(axis=0) # 결측치 제거\n",
    "\n",
    "data"
   ]
  },
  {
   "cell_type": "code",
   "execution_count": null,
   "metadata": {
    "colab": {
     "base_uri": "https://localhost:8080/",
     "height": 277
    },
    "id": "uNjm2MJW-rJU",
    "outputId": "dcd6cabf-7fe8-449c-e9bc-96f6c0f09e3e"
   },
   "outputs": [
    {
     "data": {
      "text/html": [
       "<div>\n",
       "<style scoped>\n",
       "    .dataframe tbody tr th:only-of-type {\n",
       "        vertical-align: middle;\n",
       "    }\n",
       "\n",
       "    .dataframe tbody tr th {\n",
       "        vertical-align: top;\n",
       "    }\n",
       "\n",
       "    .dataframe thead th {\n",
       "        text-align: right;\n",
       "    }\n",
       "</style>\n",
       "<table border=\"1\" class=\"dataframe\">\n",
       "  <thead>\n",
       "    <tr style=\"text-align: right;\">\n",
       "      <th></th>\n",
       "      <th>reviews_per_month</th>\n",
       "      <th>price</th>\n",
       "      <th>availability_365</th>\n",
       "    </tr>\n",
       "  </thead>\n",
       "  <tbody>\n",
       "    <tr>\n",
       "      <th>count</th>\n",
       "      <td>8304.000000</td>\n",
       "      <td>8304.000000</td>\n",
       "      <td>8304.000000</td>\n",
       "    </tr>\n",
       "    <tr>\n",
       "      <th>mean</th>\n",
       "      <td>1.907710</td>\n",
       "      <td>141.273964</td>\n",
       "      <td>178.859947</td>\n",
       "    </tr>\n",
       "    <tr>\n",
       "      <th>std</th>\n",
       "      <td>1.874212</td>\n",
       "      <td>115.900994</td>\n",
       "      <td>135.102358</td>\n",
       "    </tr>\n",
       "    <tr>\n",
       "      <th>min</th>\n",
       "      <td>0.010000</td>\n",
       "      <td>10.000000</td>\n",
       "      <td>0.000000</td>\n",
       "    </tr>\n",
       "    <tr>\n",
       "      <th>25%</th>\n",
       "      <td>0.480000</td>\n",
       "      <td>72.000000</td>\n",
       "      <td>45.750000</td>\n",
       "    </tr>\n",
       "    <tr>\n",
       "      <th>50%</th>\n",
       "      <td>1.270000</td>\n",
       "      <td>105.000000</td>\n",
       "      <td>165.500000</td>\n",
       "    </tr>\n",
       "    <tr>\n",
       "      <th>75%</th>\n",
       "      <td>2.770000</td>\n",
       "      <td>170.000000</td>\n",
       "      <td>320.000000</td>\n",
       "    </tr>\n",
       "    <tr>\n",
       "      <th>max</th>\n",
       "      <td>12.630000</td>\n",
       "      <td>999.000000</td>\n",
       "      <td>365.000000</td>\n",
       "    </tr>\n",
       "  </tbody>\n",
       "</table>\n",
       "</div>"
      ],
      "text/plain": [
       "       reviews_per_month        price  availability_365\n",
       "count        8304.000000  8304.000000       8304.000000\n",
       "mean            1.907710   141.273964        178.859947\n",
       "std             1.874212   115.900994        135.102358\n",
       "min             0.010000    10.000000          0.000000\n",
       "25%             0.480000    72.000000         45.750000\n",
       "50%             1.270000   105.000000        165.500000\n",
       "75%             2.770000   170.000000        320.000000\n",
       "max            12.630000   999.000000        365.000000"
      ]
     },
     "execution_count": 5,
     "metadata": {
      "tags": []
     },
     "output_type": "execute_result"
    }
   ],
   "source": [
    "data.describe()"
   ]
  },
  {
   "cell_type": "code",
   "execution_count": null,
   "metadata": {
    "colab": {
     "base_uri": "https://localhost:8080/"
    },
    "id": "dKvcHURm-rJV",
    "outputId": "41eb84a5-de4c-4992-a453-a5cb3df86d6f"
   },
   "outputs": [
    {
     "name": "stdout",
     "output_type": "stream",
     "text": [
      "<class 'pandas.core.frame.DataFrame'>\n",
      "Int64Index: 8304 entries, 2 to 9999\n",
      "Data columns (total 3 columns):\n",
      " #   Column             Non-Null Count  Dtype  \n",
      "---  ------             --------------  -----  \n",
      " 0   reviews_per_month  8304 non-null   float64\n",
      " 1   price              8304 non-null   float64\n",
      " 2   availability_365   8304 non-null   int64  \n",
      "dtypes: float64(2), int64(1)\n",
      "memory usage: 259.5 KB\n"
     ]
    }
   ],
   "source": [
    "data.info()"
   ]
  },
  {
   "cell_type": "code",
   "execution_count": null,
   "metadata": {
    "id": "knhYVzHV-rJV"
   },
   "outputs": [],
   "source": [
    "# 이상치 제거 함수 (1Q - 1.5*IQR, 3Q + 1.5*IQR 을 넘어가는 값을 가진 행을 제거)\n",
    "\n",
    "def get_outlier(df=None, column=None, weight=1.5):\n",
    "  quantile_25 = np.percentile(df[column].values, 25)\n",
    "  quantile_75 = np.percentile(df[column].values, 75)\n",
    "\n",
    "  IQR = quantile_75 - quantile_25\n",
    "  IQR_weight = IQR*weight\n",
    "  \n",
    "  lowest = quantile_25 - IQR_weight\n",
    "  highest = quantile_75 + IQR_weight\n",
    "  \n",
    "  outlier_idx = df[column][ (df[column] < lowest) | (df[column] > highest) ].index\n",
    "  return outlier_idx"
   ]
  },
  {
   "cell_type": "code",
   "execution_count": null,
   "metadata": {
    "id": "MQnltyB6-rJW"
   },
   "outputs": [],
   "source": [
    "outlier_idx = get_outlier(df=data, column='reviews_per_month', weight=1.5)\n",
    "data.drop(outlier_idx, axis=0, inplace=True)"
   ]
  },
  {
   "cell_type": "code",
   "execution_count": null,
   "metadata": {
    "id": "sJWRK-gw-rJX"
   },
   "outputs": [],
   "source": [
    "outlier_idx = get_outlier(df=data, column='price', weight=1.5)\n",
    "data.drop(outlier_idx, axis=0, inplace=True)"
   ]
  },
  {
   "cell_type": "code",
   "execution_count": null,
   "metadata": {
    "id": "J2J1AB8f-rJY"
   },
   "outputs": [],
   "source": [
    "outlier_idx = get_outlier(df=data, column='availability_365', weight=1.5)\n",
    "data.drop(outlier_idx, axis=0, inplace=True)"
   ]
  },
  {
   "cell_type": "code",
   "execution_count": null,
   "metadata": {
    "colab": {
     "base_uri": "https://localhost:8080/",
     "height": 191
    },
    "id": "wzHZc45S-rJY",
    "outputId": "c9edfd34-bb84-4f6e-d036-c6e8865a1f82"
   },
   "outputs": [
    {
     "data": {
      "text/html": [
       "<div>\n",
       "<style scoped>\n",
       "    .dataframe tbody tr th:only-of-type {\n",
       "        vertical-align: middle;\n",
       "    }\n",
       "\n",
       "    .dataframe tbody tr th {\n",
       "        vertical-align: top;\n",
       "    }\n",
       "\n",
       "    .dataframe thead th {\n",
       "        text-align: right;\n",
       "    }\n",
       "</style>\n",
       "<table border=\"1\" class=\"dataframe\">\n",
       "  <thead>\n",
       "    <tr style=\"text-align: right;\">\n",
       "      <th></th>\n",
       "      <th>reviews_per_month</th>\n",
       "      <th>price</th>\n",
       "      <th>availability_365</th>\n",
       "    </tr>\n",
       "  </thead>\n",
       "  <tbody>\n",
       "    <tr>\n",
       "      <th>2</th>\n",
       "      <td>-0.601631</td>\n",
       "      <td>-0.640230</td>\n",
       "      <td>1.393394</td>\n",
       "    </tr>\n",
       "    <tr>\n",
       "      <th>3</th>\n",
       "      <td>0.687599</td>\n",
       "      <td>0.165411</td>\n",
       "      <td>1.231363</td>\n",
       "    </tr>\n",
       "    <tr>\n",
       "      <th>4</th>\n",
       "      <td>2.799042</td>\n",
       "      <td>-1.202658</td>\n",
       "      <td>1.032507</td>\n",
       "    </tr>\n",
       "    <tr>\n",
       "      <th>5</th>\n",
       "      <td>-0.009637</td>\n",
       "      <td>2.673538</td>\n",
       "      <td>1.305014</td>\n",
       "    </tr>\n",
       "    <tr>\n",
       "      <th>6</th>\n",
       "      <td>-1.042337</td>\n",
       "      <td>-0.594628</td>\n",
       "      <td>-1.294843</td>\n",
       "    </tr>\n",
       "  </tbody>\n",
       "</table>\n",
       "</div>"
      ],
      "text/plain": [
       "   reviews_per_month     price  availability_365\n",
       "2          -0.601631 -0.640230          1.393394\n",
       "3           0.687599  0.165411          1.231363\n",
       "4           2.799042 -1.202658          1.032507\n",
       "5          -0.009637  2.673538          1.305014\n",
       "6          -1.042337 -0.594628         -1.294843"
      ]
     },
     "execution_count": 11,
     "metadata": {
      "tags": []
     },
     "output_type": "execute_result"
    }
   ],
   "source": [
    "# scaling (z-standardization)\n",
    "data = pd.DataFrame(StandardScaler().fit_transform(data), columns=data.columns, index = data.index)\n",
    "data.head()"
   ]
  },
  {
   "cell_type": "code",
   "execution_count": null,
   "metadata": {
    "colab": {
     "base_uri": "https://localhost:8080/",
     "height": 277
    },
    "id": "4t87lFp3-rJa",
    "outputId": "8980dbc2-ad0a-4a9c-9aa8-a11faa0d7738"
   },
   "outputs": [
    {
     "data": {
      "text/html": [
       "<div>\n",
       "<style scoped>\n",
       "    .dataframe tbody tr th:only-of-type {\n",
       "        vertical-align: middle;\n",
       "    }\n",
       "\n",
       "    .dataframe tbody tr th {\n",
       "        vertical-align: top;\n",
       "    }\n",
       "\n",
       "    .dataframe thead th {\n",
       "        text-align: right;\n",
       "    }\n",
       "</style>\n",
       "<table border=\"1\" class=\"dataframe\">\n",
       "  <thead>\n",
       "    <tr style=\"text-align: right;\">\n",
       "      <th></th>\n",
       "      <th>reviews_per_month</th>\n",
       "      <th>price</th>\n",
       "      <th>availability_365</th>\n",
       "    </tr>\n",
       "  </thead>\n",
       "  <tbody>\n",
       "    <tr>\n",
       "      <th>count</th>\n",
       "      <td>7.492000e+03</td>\n",
       "      <td>7.492000e+03</td>\n",
       "      <td>7.492000e+03</td>\n",
       "    </tr>\n",
       "    <tr>\n",
       "      <th>mean</th>\n",
       "      <td>1.908659e-16</td>\n",
       "      <td>3.277914e-17</td>\n",
       "      <td>1.415119e-16</td>\n",
       "    </tr>\n",
       "    <tr>\n",
       "      <th>std</th>\n",
       "      <td>1.000067e+00</td>\n",
       "      <td>1.000067e+00</td>\n",
       "      <td>1.000067e+00</td>\n",
       "    </tr>\n",
       "    <tr>\n",
       "      <th>min</th>\n",
       "      <td>-1.127847e+00</td>\n",
       "      <td>-1.658682e+00</td>\n",
       "      <td>-1.294843e+00</td>\n",
       "    </tr>\n",
       "    <tr>\n",
       "      <th>25%</th>\n",
       "      <td>-8.186951e-01</td>\n",
       "      <td>-7.466354e-01</td>\n",
       "      <td>-9.947178e-01</td>\n",
       "    </tr>\n",
       "    <tr>\n",
       "      <th>50%</th>\n",
       "      <td>-3.286561e-01</td>\n",
       "      <td>-2.906123e-01</td>\n",
       "      <td>-1.164377e-01</td>\n",
       "    </tr>\n",
       "    <tr>\n",
       "      <th>75%</th>\n",
       "      <td>5.840004e-01</td>\n",
       "      <td>4.694262e-01</td>\n",
       "      <td>1.061967e+00</td>\n",
       "    </tr>\n",
       "    <tr>\n",
       "      <th>max</th>\n",
       "      <td>2.943752e+00</td>\n",
       "      <td>3.144762e+00</td>\n",
       "      <td>1.393394e+00</td>\n",
       "    </tr>\n",
       "  </tbody>\n",
       "</table>\n",
       "</div>"
      ],
      "text/plain": [
       "       reviews_per_month         price  availability_365\n",
       "count       7.492000e+03  7.492000e+03      7.492000e+03\n",
       "mean        1.908659e-16  3.277914e-17      1.415119e-16\n",
       "std         1.000067e+00  1.000067e+00      1.000067e+00\n",
       "min        -1.127847e+00 -1.658682e+00     -1.294843e+00\n",
       "25%        -8.186951e-01 -7.466354e-01     -9.947178e-01\n",
       "50%        -3.286561e-01 -2.906123e-01     -1.164377e-01\n",
       "75%         5.840004e-01  4.694262e-01      1.061967e+00\n",
       "max         2.943752e+00  3.144762e+00      1.393394e+00"
      ]
     },
     "execution_count": 12,
     "metadata": {
      "tags": []
     },
     "output_type": "execute_result"
    }
   ],
   "source": [
    "data.describe() #기초통계량"
   ]
  },
  {
   "cell_type": "code",
   "execution_count": null,
   "metadata": {
    "id": "Tk5tuMG8-rJb"
   },
   "outputs": [],
   "source": [
    "data_elbow=data"
   ]
  },
  {
   "cell_type": "code",
   "execution_count": null,
   "metadata": {
    "colab": {
     "base_uri": "https://localhost:8080/",
     "height": 388
    },
    "id": "H0hzDDWF-rJc",
    "outputId": "4eb11293-9779-4eb7-a736-002d3185c84b"
   },
   "outputs": [
    {
     "data": {
      "image/png": "[encoded data removed]",
      "text/plain": [
       "<Figure size 720x432 with 1 Axes>"
      ]
     },
     "metadata": {
      "needs_background": "light",
      "tags": []
     },
     "output_type": "display_data"
    }
   ],
   "source": [
    "from sklearn.cluster import KMeans\n",
    "import matplotlib.pyplot as plt\n",
    "\n",
    "# graph를 통해 k값 선정\n",
    "# distortion = 군집내 오차제곱합(SSE; Sum of Suqared Errors)\n",
    "distortions = []\n",
    "for i in range(1,20):\n",
    "    km = KMeans(\n",
    "    n_clusters= i, init='random',\n",
    "    n_init=10, max_iter=300,\n",
    "    tol=1e-04, random_state=0\n",
    "    )\n",
    "    km.fit(data_elbow)\n",
    "    distortions.append(km.inertia_)\n",
    "plt.figure(figsize=(10,6))\n",
    "plt.plot(range(1,20), distortions, marker='o')\n",
    "plt.xlabel('Number of Clusters')\n",
    "plt.ylabel('Distortion')\n",
    "plt.show()"
   ]
  },
  {
   "cell_type": "code",
   "execution_count": null,
   "metadata": {
    "colab": {
     "base_uri": "https://localhost:8080/"
    },
    "id": "VvYta5W5-rJd",
    "outputId": "c5bf47bb-52b7-4bce-b926-854193c494a2"
   },
   "outputs": [
    {
     "data": {
      "text/plain": [
       "KMeans(algorithm='auto', copy_x=True, init='k-means++', max_iter=300,\n",
       "       n_clusters=4, n_init=10, n_jobs=None, precompute_distances='auto',\n",
       "       random_state=20210330, tol=0.0001, verbose=0)"
      ]
     },
     "execution_count": 15,
     "metadata": {
      "tags": []
     },
     "output_type": "execute_result"
    }
   ],
   "source": [
    "from sklearn.cluster import KMeans\n",
    "model = KMeans(n_clusters=4, random_state=20210330, algorithm='auto')\n",
    "\n",
    "model.fit(data)"
   ]
  },
  {
   "cell_type": "code",
   "execution_count": null,
   "metadata": {
    "colab": {
     "base_uri": "https://localhost:8080/"
    },
    "id": "nhVEFsS1-rJe",
    "outputId": "a97af35a-db12-4abb-fb3e-6afcddd35795"
   },
   "outputs": [
    {
     "data": {
      "text/plain": [
       "array([1, 1, 0, ..., 3, 3, 0], dtype=int32)"
      ]
     },
     "execution_count": 16,
     "metadata": {
      "tags": []
     },
     "output_type": "execute_result"
    }
   ],
   "source": [
    "# 각 군집(cluster) 표시\n",
    "pred = model.predict(data)\n",
    "pred"
   ]
  },
  {
   "cell_type": "code",
   "execution_count": null,
   "metadata": {
    "colab": {
     "base_uri": "https://localhost:8080/",
     "height": 419
    },
    "id": "xrG1tyd1-rJf",
    "outputId": "e296b3c2-fa82-46a2-b649-1f4276de1c5f"
   },
   "outputs": [
    {
     "data": {
      "text/html": [
       "<div>\n",
       "<style scoped>\n",
       "    .dataframe tbody tr th:only-of-type {\n",
       "        vertical-align: middle;\n",
       "    }\n",
       "\n",
       "    .dataframe tbody tr th {\n",
       "        vertical-align: top;\n",
       "    }\n",
       "\n",
       "    .dataframe thead th {\n",
       "        text-align: right;\n",
       "    }\n",
       "</style>\n",
       "<table border=\"1\" class=\"dataframe\">\n",
       "  <thead>\n",
       "    <tr style=\"text-align: right;\">\n",
       "      <th></th>\n",
       "      <th>reviews_per_month</th>\n",
       "      <th>price</th>\n",
       "      <th>availability_365</th>\n",
       "      <th>k_means_cluster</th>\n",
       "    </tr>\n",
       "  </thead>\n",
       "  <tbody>\n",
       "    <tr>\n",
       "      <th>2</th>\n",
       "      <td>-0.601631</td>\n",
       "      <td>-0.640230</td>\n",
       "      <td>1.393394</td>\n",
       "      <td>1</td>\n",
       "    </tr>\n",
       "    <tr>\n",
       "      <th>3</th>\n",
       "      <td>0.687599</td>\n",
       "      <td>0.165411</td>\n",
       "      <td>1.231363</td>\n",
       "      <td>1</td>\n",
       "    </tr>\n",
       "    <tr>\n",
       "      <th>4</th>\n",
       "      <td>2.799042</td>\n",
       "      <td>-1.202658</td>\n",
       "      <td>1.032507</td>\n",
       "      <td>0</td>\n",
       "    </tr>\n",
       "    <tr>\n",
       "      <th>5</th>\n",
       "      <td>-0.009637</td>\n",
       "      <td>2.673538</td>\n",
       "      <td>1.305014</td>\n",
       "      <td>2</td>\n",
       "    </tr>\n",
       "    <tr>\n",
       "      <th>6</th>\n",
       "      <td>-1.042337</td>\n",
       "      <td>-0.594628</td>\n",
       "      <td>-1.294843</td>\n",
       "      <td>3</td>\n",
       "    </tr>\n",
       "    <tr>\n",
       "      <th>...</th>\n",
       "      <td>...</td>\n",
       "      <td>...</td>\n",
       "      <td>...</td>\n",
       "      <td>...</td>\n",
       "    </tr>\n",
       "    <tr>\n",
       "      <th>9993</th>\n",
       "      <td>2.581978</td>\n",
       "      <td>0.241415</td>\n",
       "      <td>0.649526</td>\n",
       "      <td>0</td>\n",
       "    </tr>\n",
       "    <tr>\n",
       "      <th>9994</th>\n",
       "      <td>-1.094959</td>\n",
       "      <td>-0.853041</td>\n",
       "      <td>-1.294843</td>\n",
       "      <td>3</td>\n",
       "    </tr>\n",
       "    <tr>\n",
       "      <th>9995</th>\n",
       "      <td>-0.969982</td>\n",
       "      <td>0.621434</td>\n",
       "      <td>-1.088622</td>\n",
       "      <td>3</td>\n",
       "    </tr>\n",
       "    <tr>\n",
       "      <th>9998</th>\n",
       "      <td>0.463957</td>\n",
       "      <td>-0.594628</td>\n",
       "      <td>-0.823481</td>\n",
       "      <td>3</td>\n",
       "    </tr>\n",
       "    <tr>\n",
       "      <th>9999</th>\n",
       "      <td>0.595511</td>\n",
       "      <td>-1.157056</td>\n",
       "      <td>-0.190088</td>\n",
       "      <td>0</td>\n",
       "    </tr>\n",
       "  </tbody>\n",
       "</table>\n",
       "<p>7492 rows × 4 columns</p>\n",
       "</div>"
      ],
      "text/plain": [
       "      reviews_per_month     price  availability_365  k_means_cluster\n",
       "2             -0.601631 -0.640230          1.393394                1\n",
       "3              0.687599  0.165411          1.231363                1\n",
       "4              2.799042 -1.202658          1.032507                0\n",
       "5             -0.009637  2.673538          1.305014                2\n",
       "6             -1.042337 -0.594628         -1.294843                3\n",
       "...                 ...       ...               ...              ...\n",
       "9993           2.581978  0.241415          0.649526                0\n",
       "9994          -1.094959 -0.853041         -1.294843                3\n",
       "9995          -0.969982  0.621434         -1.088622                3\n",
       "9998           0.463957 -0.594628         -0.823481                3\n",
       "9999           0.595511 -1.157056         -0.190088                0\n",
       "\n",
       "[7492 rows x 4 columns]"
      ]
     },
     "execution_count": 17,
     "metadata": {
      "tags": []
     },
     "output_type": "execute_result"
    }
   ],
   "source": [
    "# 원형 데이터에 군집 예측치 추가\n",
    "data['k_means_cluster'] = pred\n",
    "data"
   ]
  },
  {
   "cell_type": "code",
   "execution_count": null,
   "metadata": {
    "colab": {
     "base_uri": "https://localhost:8080/"
    },
    "id": "VXJK4w2H-rJg",
    "outputId": "76cff1a9-806c-45e4-9346-d6c505d0227c"
   },
   "outputs": [
    {
     "data": {
      "text/plain": [
       "array([[ 1.61865263, -0.25388216,  0.08048571],\n",
       "       [-0.33890993, -0.3959539 ,  1.07097826],\n",
       "       [-0.31460558,  1.71705777,  0.04142238],\n",
       "       [-0.49601039, -0.37326753, -0.9023486 ]])"
      ]
     },
     "execution_count": 18,
     "metadata": {
      "tags": []
     },
     "output_type": "execute_result"
    }
   ],
   "source": [
    "# 군집별 centroid\n",
    "centers = model.cluster_centers_\n",
    "centers"
   ]
  },
  {
   "cell_type": "code",
   "execution_count": null,
   "metadata": {
    "colab": {
     "base_uri": "https://localhost:8080/",
     "height": 173
    },
    "id": "VESzRGlx-rJh",
    "outputId": "a0816b0b-36d3-4c82-85e8-a567a13c665f"
   },
   "outputs": [
    {
     "data": {
      "text/html": [
       "<div>\n",
       "<style scoped>\n",
       "    .dataframe tbody tr th:only-of-type {\n",
       "        vertical-align: middle;\n",
       "    }\n",
       "\n",
       "    .dataframe tbody tr th {\n",
       "        vertical-align: top;\n",
       "    }\n",
       "\n",
       "    .dataframe thead th {\n",
       "        text-align: right;\n",
       "    }\n",
       "</style>\n",
       "<table border=\"1\" class=\"dataframe\">\n",
       "  <thead>\n",
       "    <tr style=\"text-align: right;\">\n",
       "      <th></th>\n",
       "      <th>0</th>\n",
       "      <th>1</th>\n",
       "      <th>2</th>\n",
       "    </tr>\n",
       "  </thead>\n",
       "  <tbody>\n",
       "    <tr>\n",
       "      <th>0</th>\n",
       "      <td>1.618653</td>\n",
       "      <td>-0.253882</td>\n",
       "      <td>0.080486</td>\n",
       "    </tr>\n",
       "    <tr>\n",
       "      <th>1</th>\n",
       "      <td>-0.338910</td>\n",
       "      <td>-0.395954</td>\n",
       "      <td>1.070978</td>\n",
       "    </tr>\n",
       "    <tr>\n",
       "      <th>2</th>\n",
       "      <td>-0.314606</td>\n",
       "      <td>1.717058</td>\n",
       "      <td>0.041422</td>\n",
       "    </tr>\n",
       "    <tr>\n",
       "      <th>3</th>\n",
       "      <td>-0.496010</td>\n",
       "      <td>-0.373268</td>\n",
       "      <td>-0.902349</td>\n",
       "    </tr>\n",
       "  </tbody>\n",
       "</table>\n",
       "</div>"
      ],
      "text/plain": [
       "          0         1         2\n",
       "0  1.618653 -0.253882  0.080486\n",
       "1 -0.338910 -0.395954  1.070978\n",
       "2 -0.314606  1.717058  0.041422\n",
       "3 -0.496010 -0.373268 -0.902349"
      ]
     },
     "execution_count": 19,
     "metadata": {
      "tags": []
     },
     "output_type": "execute_result"
    }
   ],
   "source": [
    "pd.DataFrame(centers)"
   ]
  },
  {
   "cell_type": "code",
   "execution_count": null,
   "metadata": {
    "colab": {
     "base_uri": "https://localhost:8080/",
     "height": 204
    },
    "id": "BLYXvYMo-rJi",
    "outputId": "1cf8df11-cba1-424d-dc48-89f758725937"
   },
   "outputs": [
    {
     "data": {
      "text/html": [
       "<div>\n",
       "<style scoped>\n",
       "    .dataframe tbody tr th:only-of-type {\n",
       "        vertical-align: middle;\n",
       "    }\n",
       "\n",
       "    .dataframe tbody tr th {\n",
       "        vertical-align: top;\n",
       "    }\n",
       "\n",
       "    .dataframe thead th {\n",
       "        text-align: right;\n",
       "    }\n",
       "</style>\n",
       "<table border=\"1\" class=\"dataframe\">\n",
       "  <thead>\n",
       "    <tr style=\"text-align: right;\">\n",
       "      <th></th>\n",
       "      <th>reviews_per_month</th>\n",
       "      <th>price</th>\n",
       "      <th>availability_365</th>\n",
       "    </tr>\n",
       "    <tr>\n",
       "      <th>k_means_cluster</th>\n",
       "      <th></th>\n",
       "      <th></th>\n",
       "      <th></th>\n",
       "    </tr>\n",
       "  </thead>\n",
       "  <tbody>\n",
       "    <tr>\n",
       "      <th>0</th>\n",
       "      <td>1.617099</td>\n",
       "      <td>-0.254717</td>\n",
       "      <td>0.082182</td>\n",
       "    </tr>\n",
       "    <tr>\n",
       "      <th>1</th>\n",
       "      <td>-0.340624</td>\n",
       "      <td>-0.395556</td>\n",
       "      <td>1.071187</td>\n",
       "    </tr>\n",
       "    <tr>\n",
       "      <th>2</th>\n",
       "      <td>-0.314606</td>\n",
       "      <td>1.717058</td>\n",
       "      <td>0.041422</td>\n",
       "    </tr>\n",
       "    <tr>\n",
       "      <th>3</th>\n",
       "      <td>-0.496010</td>\n",
       "      <td>-0.373268</td>\n",
       "      <td>-0.902349</td>\n",
       "    </tr>\n",
       "  </tbody>\n",
       "</table>\n",
       "</div>"
      ],
      "text/plain": [
       "                 reviews_per_month     price  availability_365\n",
       "k_means_cluster                                               \n",
       "0                         1.617099 -0.254717          0.082182\n",
       "1                        -0.340624 -0.395556          1.071187\n",
       "2                        -0.314606  1.717058          0.041422\n",
       "3                        -0.496010 -0.373268         -0.902349"
      ]
     },
     "execution_count": 20,
     "metadata": {
      "tags": []
     },
     "output_type": "execute_result"
    }
   ],
   "source": [
    "# 군집별 통계(평균)\n",
    "cluster_k = data.groupby('k_means_cluster')\n",
    "cluster_k.mean()"
   ]
  },
  {
   "cell_type": "code",
   "execution_count": null,
   "metadata": {
    "colab": {
     "base_uri": "https://localhost:8080/",
     "height": 204
    },
    "id": "hm0OXZ0C-rJj",
    "outputId": "ec2d57f4-5331-4027-eef2-cb2c99d4e958"
   },
   "outputs": [
    {
     "data": {
      "text/html": [
       "<div>\n",
       "<style scoped>\n",
       "    .dataframe tbody tr th:only-of-type {\n",
       "        vertical-align: middle;\n",
       "    }\n",
       "\n",
       "    .dataframe tbody tr th {\n",
       "        vertical-align: top;\n",
       "    }\n",
       "\n",
       "    .dataframe thead th {\n",
       "        text-align: right;\n",
       "    }\n",
       "</style>\n",
       "<table border=\"1\" class=\"dataframe\">\n",
       "  <thead>\n",
       "    <tr style=\"text-align: right;\">\n",
       "      <th></th>\n",
       "      <th>reviews_per_month</th>\n",
       "      <th>price</th>\n",
       "      <th>availability_365</th>\n",
       "    </tr>\n",
       "    <tr>\n",
       "      <th>k_means_cluster</th>\n",
       "      <th></th>\n",
       "      <th></th>\n",
       "      <th></th>\n",
       "    </tr>\n",
       "  </thead>\n",
       "  <tbody>\n",
       "    <tr>\n",
       "      <th>0</th>\n",
       "      <td>0.624927</td>\n",
       "      <td>0.697953</td>\n",
       "      <td>0.854411</td>\n",
       "    </tr>\n",
       "    <tr>\n",
       "      <th>1</th>\n",
       "      <td>0.549438</td>\n",
       "      <td>0.586461</td>\n",
       "      <td>0.331751</td>\n",
       "    </tr>\n",
       "    <tr>\n",
       "      <th>2</th>\n",
       "      <td>0.712273</td>\n",
       "      <td>0.649605</td>\n",
       "      <td>0.954553</td>\n",
       "    </tr>\n",
       "    <tr>\n",
       "      <th>3</th>\n",
       "      <td>0.515420</td>\n",
       "      <td>0.603478</td>\n",
       "      <td>0.419602</td>\n",
       "    </tr>\n",
       "  </tbody>\n",
       "</table>\n",
       "</div>"
      ],
      "text/plain": [
       "                 reviews_per_month     price  availability_365\n",
       "k_means_cluster                                               \n",
       "0                         0.624927  0.697953          0.854411\n",
       "1                         0.549438  0.586461          0.331751\n",
       "2                         0.712273  0.649605          0.954553\n",
       "3                         0.515420  0.603478          0.419602"
      ]
     },
     "execution_count": 21,
     "metadata": {
      "tags": []
     },
     "output_type": "execute_result"
    }
   ],
   "source": [
    "# 군집별 통계(표준편차)\n",
    "cluster_k.std()"
   ]
  },
  {
   "cell_type": "code",
   "execution_count": null,
   "metadata": {
    "colab": {
     "base_uri": "https://localhost:8080/",
     "height": 444
    },
    "id": "mC2x0pFZ-rJk",
    "outputId": "01401170-fb96-47e6-c05d-1f77dee5cd4c"
   },
   "outputs": [
    {
     "name": "stderr",
     "output_type": "stream",
     "text": [
      "/usr/local/lib/python3.7/dist-packages/seaborn/distributions.py:2557: FutureWarning: `distplot` is a deprecated function and will be removed in a future version. Please adapt your code to use either `displot` (a figure-level function with similar flexibility) or `histplot` (an axes-level function for histograms).\n",
      "  warnings.warn(msg, FutureWarning)\n",
      "/usr/local/lib/python3.7/dist-packages/seaborn/distributions.py:2557: FutureWarning: `distplot` is a deprecated function and will be removed in a future version. Please adapt your code to use either `displot` (a figure-level function with similar flexibility) or `histplot` (an axes-level function for histograms).\n",
      "  warnings.warn(msg, FutureWarning)\n",
      "/usr/local/lib/python3.7/dist-packages/seaborn/distributions.py:2557: FutureWarning: `distplot` is a deprecated function and will be removed in a future version. Please adapt your code to use either `displot` (a figure-level function with similar flexibility) or `histplot` (an axes-level function for histograms).\n",
      "  warnings.warn(msg, FutureWarning)\n",
      "/usr/local/lib/python3.7/dist-packages/seaborn/distributions.py:2557: FutureWarning: `distplot` is a deprecated function and will be removed in a future version. Please adapt your code to use either `displot` (a figure-level function with similar flexibility) or `histplot` (an axes-level function for histograms).\n",
      "  warnings.warn(msg, FutureWarning)\n"
     ]
    },
    {
     "data": {
      "image/png": "[encoded data removed]",
      "text/plain": [
       "<Figure size 432x288 with 1 Axes>"
      ]
     },
     "metadata": {
      "needs_background": "light",
      "tags": []
     },
     "output_type": "display_data"
    }
   ],
   "source": [
    "# 시각화: reviews_per_month\n",
    "import seaborn as sns\n",
    "\n",
    "sns.distplot(data[data.k_means_cluster == 0][\"availability_365\"], \n",
    "             color=\"blue\", label=0)\n",
    "\n",
    "sns.distplot(data[data.k_means_cluster == 1][\"availability_365\"], \n",
    "             color=\"red\", label=1)\n",
    "\n",
    "sns.distplot(data[data.k_means_cluster == 2][\"availability_365\"], \n",
    "             color=\"green\", label=2)\n",
    "\n",
    "sns.distplot(data[data.k_means_cluster == 3][\"availability_365\"], \n",
    "             color=\"yellow\", label=3)\n",
    "\n",
    "\n",
    "plt.legend(title=\"cluster\")\n",
    "plt.show()"
   ]
  },
  {
   "cell_type": "code",
   "execution_count": null,
   "metadata": {
    "id": "tYrXajZF-rJl",
    "outputId": "8715b968-5d7d-4a1e-dba4-ba119271d68a"
   },
   "outputs": [
    {
     "data": {
      "image/png": "[encoded data removed]",
      "text/plain": [
       "<Figure size 432x288 with 4 Axes>"
      ]
     },
     "metadata": {
      "needs_background": "light",
      "tags": []
     },
     "output_type": "display_data"
    }
   ],
   "source": [
    "# 시각화2: 모든 항목\n",
    "import matplotlib.pyplot as plt\n",
    "data.boxplot(by='k_means_cluster')\n",
    "plt.tight_layout(pad=3, h_pad=3)\n",
    "plt.show()"
   ]
  },
  {
   "cell_type": "code",
   "execution_count": null,
   "metadata": {
    "id": "ny6yRnQT-rJm",
    "outputId": "7f2f9a76-9b82-46e1-9043-13f76c38091c"
   },
   "outputs": [
    {
     "data": {
      "text/plain": [
       "<matplotlib.collections.PathCollection at 0x1aa0178f760>"
      ]
     },
     "execution_count": 24,
     "metadata": {
      "tags": []
     },
     "output_type": "execute_result"
    },
    {
     "data": {
      "image/png": "[encoded data removed]",
      "text/plain": [
       "<Figure size 432x288 with 1 Axes>"
      ]
     },
     "metadata": {
      "needs_background": "light",
      "tags": []
     },
     "output_type": "display_data"
    }
   ],
   "source": [
    "# 군집결과 시각화: price-availability_365\n",
    "plt.scatter(x=data['price'], y=data['reviews_per_month'], c=data['k_means_cluster'])"
   ]
  },
  {
   "cell_type": "code",
   "execution_count": null,
   "metadata": {
    "id": "6dHEAFbd-rJn",
    "outputId": "2ae89646-c949-4aec-ab5a-532387179469"
   },
   "outputs": [
    {
     "data": {
      "image/png": "[encoded data removed]",
      "text/plain": [
       "<Figure size 432x288 with 1 Axes>"
      ]
     },
     "metadata": {
      "needs_background": "light",
      "tags": []
     },
     "output_type": "display_data"
    }
   ],
   "source": [
    "# 군집별 중앙값 시각화: price-availability_365\n",
    "plt.scatter(x=centers[:,0], y=centers[:,1], marker='D', c='r') \n",
    "plt.show()"
   ]
  },
  {
   "cell_type": "code",
   "execution_count": null,
   "metadata": {
    "id": "x-nhpzJE-rJn"
   },
   "outputs": [],
   "source": [
    "# 군집결과와 중앙값 함께 시각화: price-availability_365\n",
    "plt.scatter(x=data['price'], y=data['reviews_per_month'], c=data['k_means_cluster']) \n",
    "plt.scatter(x=centers[:,0], y=centers[:,1], marker='D', c='r')\n",
    "plt.show()"
   ]
  },
  {
   "cell_type": "code",
   "execution_count": null,
   "metadata": {
    "id": "f85ZaTCe-rJo",
    "outputId": "b0e76b38-b3c4-4b7c-f1ba-dc8257a130f4"
   },
   "outputs": [
    {
     "name": "stdout",
     "output_type": "stream",
     "text": [
      "데이터셋 Silhouette Analysis Score:0.484\n"
     ]
    }
   ],
   "source": [
    "from sklearn.metrics import silhouette_samples, silhouette_score\n",
    "k_score_samples = silhouette_samples(data, data['k_means_cluster'])\n",
    "\n",
    "data['k_silhouette_coeff'] = k_score_samples\n",
    "k_average_score = silhouette_score(data, data['k_means_cluster'])\n",
    "print('데이터셋 Silhouette Analysis Score:{0:.3f}'.format(k_average_score))"
   ]
  },
  {
   "cell_type": "code",
   "execution_count": null,
   "metadata": {
    "id": "LvYFmiS_-rJp",
    "outputId": "a6000da2-fb7a-4a41-9594-2f11ce968d5a"
   },
   "outputs": [
    {
     "data": {
      "text/plain": [
       "k_means_cluster\n",
       "0    0.371135\n",
       "1    0.549684\n",
       "2    0.329089\n",
       "3    0.575579\n",
       "Name: k_silhouette_coeff, dtype: float64"
      ]
     },
     "execution_count": 28,
     "metadata": {
      "tags": []
     },
     "output_type": "execute_result"
    }
   ],
   "source": [
    "# 군집별 평균 silhouette_score 값\n",
    "data.groupby('k_means_cluster')['k_silhouette_coeff'].mean()"
   ]
  },
  {
   "cell_type": "markdown",
   "metadata": {
    "id": "7Aj3gpIU-rJq"
   },
   "source": [
    "#### "
   ]
  }
 ],
 "metadata": {
  "colab": {
   "name": "HW4_kmeans_final.ipynb",
   "provenance": []
  },
  "kernelspec": {
   "display_name": "Python 3",
   "language": "python",
   "name": "python3"
  },
  "language_info": {
   "codemirror_mode": {
    "name": "ipython",
    "version": 3
   },
   "file_extension": ".py",
   "mimetype": "text/x-python",
   "name": "python",
   "nbconvert_exporter": "python",
   "pygments_lexer": "ipython3",
   "version": "3.8.5"
  }
 },
 "nbformat": 4,
 "nbformat_minor": 1
}
