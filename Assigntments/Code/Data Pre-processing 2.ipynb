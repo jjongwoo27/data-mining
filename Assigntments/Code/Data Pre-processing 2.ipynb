{
 "cells": [
  {
   "cell_type": "markdown",
   "metadata": {},
   "source": [
    "# Data Pre-processing"
   ]
  },
  {
   "cell_type": "markdown",
   "metadata": {
    "id": "d6Mh7HKn0gMC"
   },
   "source": [
    "# **RQ2. 따릉이 대여권 유형(일일권, 정기권 등)에 영향을 미치는 요소에는 무엇이 있을까?**"
   ]
  },
  {
   "cell_type": "code",
   "execution_count": 6,
   "metadata": {
    "executionInfo": {
     "elapsed": 739,
     "status": "ok",
     "timestamp": 1616091591577,
     "user": {
      "displayName": "­강수빈(학부/공과대학 컴퓨터과학)",
      "photoUrl": "",
      "userId": "07352247864639375532"
     },
     "user_tz": -540
    },
    "id": "GDZN2tg_1_iZ"
   },
   "outputs": [],
   "source": [
    "import numpy as np\n",
    "import pandas as pd\n",
    "import scipy.stats"
   ]
  },
  {
   "cell_type": "code",
   "execution_count": 8,
   "metadata": {
    "colab": {
     "base_uri": "https://localhost:8080/"
    },
    "executionInfo": {
     "elapsed": 830,
     "status": "ok",
     "timestamp": 1616091611963,
     "user": {
      "displayName": "­강수빈(학부/공과대학 컴퓨터과학)",
      "photoUrl": "",
      "userId": "07352247864639375532"
     },
     "user_tz": -540
    },
    "id": "9q8zIMjw3X14",
    "outputId": "d7aa29fc-d511-4495-889c-beb14d9b1cf4"
   },
   "outputs": [
    {
     "name": "stdout",
     "output_type": "stream",
     "text": [
      "Drive already mounted at /content/gdrive/; to attempt to forcibly remount, call drive.mount(\"/content/gdrive/\", force_remount=True).\n"
     ]
    }
   ],
   "source": [
    "import os, sys \n",
    "from google.colab import drive \n",
    "drive.mount('/content/gdrive/')"
   ]
  },
  {
   "cell_type": "code",
   "execution_count": 9,
   "metadata": {
    "colab": {
     "base_uri": "https://localhost:8080/"
    },
    "executionInfo": {
     "elapsed": 934,
     "status": "ok",
     "timestamp": 1616091612453,
     "user": {
      "displayName": "­강수빈(학부/공과대학 컴퓨터과학)",
      "photoUrl": "",
      "userId": "07352247864639375532"
     },
     "user_tz": -540
    },
    "id": "Y-zEHNl23cbL",
    "outputId": "77ab6512-3b69-4526-da47-7d5e7b109baa"
   },
   "outputs": [
    {
     "name": "stdout",
     "output_type": "stream",
     "text": [
      "/content/gdrive/My Drive/Data Mining/실습/실습2\n"
     ]
    }
   ],
   "source": [
    "cd '/content/gdrive/My Drive/Data Mining/실습/실습2'\n"
   ]
  },
  {
   "cell_type": "code",
   "execution_count": 10,
   "metadata": {
    "colab": {
     "base_uri": "https://localhost:8080/"
    },
    "executionInfo": {
     "elapsed": 2465,
     "status": "ok",
     "timestamp": 1616091614351,
     "user": {
      "displayName": "­강수빈(학부/공과대학 컴퓨터과학)",
      "photoUrl": "",
      "userId": "07352247864639375532"
     },
     "user_tz": -540
    },
    "id": "pu5uIfoM-ggT",
    "outputId": "61344b54-330f-426b-d387-ea2a10cf359d"
   },
   "outputs": [
    {
     "name": "stdout",
     "output_type": "stream",
     "text": [
      "total 48660\n",
      "-rw------- 1 root root 48868357 Mar 16 02:56 '공공자전거 이용정보(일별)_2021.01.csv'\n",
      "-rw------- 1 root root   630937 Mar 16 03:51  2021.03.16._DM실습2.html\n",
      "-rw------- 1 root root   205948 Mar 18 17:01 '공공자전거 대여소 정보(21.01.31 기준).csv'\n",
      "-rw------- 1 root root    14950 Mar 16 10:46 '실습2(2021-03-16).ipynb'\n",
      "-rw------- 1 root root      353 Mar 16 03:51  cars.csv\n",
      "-rw------- 1 root root     2768 Mar 16 03:51  dm_ex2.csv\n",
      "-rw------- 1 root root    72589 Mar 18 18:17  HW1_강수빈.ipynb\n",
      "-rw------- 1 root root    28706 Mar 18 18:19  HW1_total.ipynb\n",
      "-rw------- 1 root root       50 Mar 16 03:53  work_ex.txt\n"
     ]
    }
   ],
   "source": [
    "ls -l"
   ]
  },
  {
   "cell_type": "markdown",
   "metadata": {
    "id": "7TstYGUzGh0N"
   },
   "source": [
    "#**Read Data**"
   ]
  },
  {
   "cell_type": "code",
   "execution_count": 11,
   "metadata": {
    "colab": {
     "base_uri": "https://localhost:8080/",
     "height": 391
    },
    "executionInfo": {
     "elapsed": 3338,
     "status": "ok",
     "timestamp": 1616091616512,
     "user": {
      "displayName": "­강수빈(학부/공과대학 컴퓨터과학)",
      "photoUrl": "",
      "userId": "07352247864639375532"
     },
     "user_tz": -540
    },
    "id": "v4iwOVCV1_ik",
    "outputId": "fd1c9b4f-06aa-42bb-a481-3ed282cce65b"
   },
   "outputs": [
    {
     "data": {
      "text/html": [
       "<div>\n",
       "<style scoped>\n",
       "    .dataframe tbody tr th:only-of-type {\n",
       "        vertical-align: middle;\n",
       "    }\n",
       "\n",
       "    .dataframe tbody tr th {\n",
       "        vertical-align: top;\n",
       "    }\n",
       "\n",
       "    .dataframe thead th {\n",
       "        text-align: right;\n",
       "    }\n",
       "</style>\n",
       "<table border=\"1\" class=\"dataframe\">\n",
       "  <thead>\n",
       "    <tr style=\"text-align: right;\">\n",
       "      <th></th>\n",
       "      <th>index</th>\n",
       "      <th>대여일자</th>\n",
       "      <th>대여소번호</th>\n",
       "      <th>대여소</th>\n",
       "      <th>대여구분코드</th>\n",
       "      <th>성별</th>\n",
       "      <th>연령대코드</th>\n",
       "      <th>이용건수</th>\n",
       "      <th>운동량</th>\n",
       "      <th>탄소량</th>\n",
       "      <th>이동거리(M)</th>\n",
       "      <th>이용시간(분)</th>\n",
       "    </tr>\n",
       "  </thead>\n",
       "  <tbody>\n",
       "    <tr>\n",
       "      <th>0</th>\n",
       "      <td>0</td>\n",
       "      <td>2021-01-01</td>\n",
       "      <td>101</td>\n",
       "      <td>101. (구)합정동 주민센터</td>\n",
       "      <td>일일(회원)</td>\n",
       "      <td>\\N</td>\n",
       "      <td>AGE_002</td>\n",
       "      <td>1</td>\n",
       "      <td>0.00</td>\n",
       "      <td>0.00</td>\n",
       "      <td>0.00</td>\n",
       "      <td>46</td>\n",
       "    </tr>\n",
       "    <tr>\n",
       "      <th>1</th>\n",
       "      <td>1</td>\n",
       "      <td>2021-01-01</td>\n",
       "      <td>101</td>\n",
       "      <td>101. (구)합정동 주민센터</td>\n",
       "      <td>일일(회원)</td>\n",
       "      <td>M</td>\n",
       "      <td>AGE_002</td>\n",
       "      <td>1</td>\n",
       "      <td>0.00</td>\n",
       "      <td>0.00</td>\n",
       "      <td>0.00</td>\n",
       "      <td>48</td>\n",
       "    </tr>\n",
       "    <tr>\n",
       "      <th>2</th>\n",
       "      <td>2</td>\n",
       "      <td>2021-01-01</td>\n",
       "      <td>101</td>\n",
       "      <td>101. (구)합정동 주민센터</td>\n",
       "      <td>정기</td>\n",
       "      <td>\\N</td>\n",
       "      <td>AGE_002</td>\n",
       "      <td>1</td>\n",
       "      <td>0.00</td>\n",
       "      <td>0.00</td>\n",
       "      <td>0.00</td>\n",
       "      <td>31</td>\n",
       "    </tr>\n",
       "    <tr>\n",
       "      <th>3</th>\n",
       "      <td>3</td>\n",
       "      <td>2021-01-01</td>\n",
       "      <td>101</td>\n",
       "      <td>101. (구)합정동 주민센터</td>\n",
       "      <td>정기</td>\n",
       "      <td>\\N</td>\n",
       "      <td>AGE_005</td>\n",
       "      <td>1</td>\n",
       "      <td>0.00</td>\n",
       "      <td>0.00</td>\n",
       "      <td>0.00</td>\n",
       "      <td>30</td>\n",
       "    </tr>\n",
       "    <tr>\n",
       "      <th>4</th>\n",
       "      <td>4</td>\n",
       "      <td>2021-01-01</td>\n",
       "      <td>101</td>\n",
       "      <td>101. (구)합정동 주민센터</td>\n",
       "      <td>정기</td>\n",
       "      <td>F</td>\n",
       "      <td>AGE_003</td>\n",
       "      <td>1</td>\n",
       "      <td>0.00</td>\n",
       "      <td>0.00</td>\n",
       "      <td>0.00</td>\n",
       "      <td>78</td>\n",
       "    </tr>\n",
       "    <tr>\n",
       "      <th>...</th>\n",
       "      <td>...</td>\n",
       "      <td>...</td>\n",
       "      <td>...</td>\n",
       "      <td>...</td>\n",
       "      <td>...</td>\n",
       "      <td>...</td>\n",
       "      <td>...</td>\n",
       "      <td>...</td>\n",
       "      <td>...</td>\n",
       "      <td>...</td>\n",
       "      <td>...</td>\n",
       "      <td>...</td>\n",
       "    </tr>\n",
       "    <tr>\n",
       "      <th>474626</th>\n",
       "      <td>474626</td>\n",
       "      <td>2021-01-31</td>\n",
       "      <td>3587</td>\n",
       "      <td>3587.우성식품 앞</td>\n",
       "      <td>정기</td>\n",
       "      <td>F</td>\n",
       "      <td>AGE_003</td>\n",
       "      <td>2</td>\n",
       "      <td>42.03</td>\n",
       "      <td>0.40</td>\n",
       "      <td>1746.75</td>\n",
       "      <td>77</td>\n",
       "    </tr>\n",
       "    <tr>\n",
       "      <th>474627</th>\n",
       "      <td>474627</td>\n",
       "      <td>2021-01-31</td>\n",
       "      <td>3587</td>\n",
       "      <td>3587.우성식품 앞</td>\n",
       "      <td>정기</td>\n",
       "      <td>M</td>\n",
       "      <td>AGE_005</td>\n",
       "      <td>1</td>\n",
       "      <td>129.34</td>\n",
       "      <td>1.11</td>\n",
       "      <td>4803.09</td>\n",
       "      <td>41</td>\n",
       "    </tr>\n",
       "    <tr>\n",
       "      <th>474628</th>\n",
       "      <td>474628</td>\n",
       "      <td>2021-01-31</td>\n",
       "      <td>3588</td>\n",
       "      <td>3588.세종대학교(영실관)</td>\n",
       "      <td>정기</td>\n",
       "      <td>M</td>\n",
       "      <td>AGE_002</td>\n",
       "      <td>2</td>\n",
       "      <td>33.56</td>\n",
       "      <td>0.28</td>\n",
       "      <td>1210.58</td>\n",
       "      <td>11</td>\n",
       "    </tr>\n",
       "    <tr>\n",
       "      <th>474629</th>\n",
       "      <td>474629</td>\n",
       "      <td>2021-01-31</td>\n",
       "      <td>3588</td>\n",
       "      <td>3588.세종대학교(영실관)</td>\n",
       "      <td>정기</td>\n",
       "      <td>M</td>\n",
       "      <td>AGE_003</td>\n",
       "      <td>2</td>\n",
       "      <td>25.68</td>\n",
       "      <td>0.25</td>\n",
       "      <td>1080.61</td>\n",
       "      <td>11</td>\n",
       "    </tr>\n",
       "    <tr>\n",
       "      <th>474630</th>\n",
       "      <td>474630</td>\n",
       "      <td>2021-01-31</td>\n",
       "      <td>9999</td>\n",
       "      <td>시스템관리팀</td>\n",
       "      <td>단체</td>\n",
       "      <td>\\N</td>\n",
       "      <td>AGE_004</td>\n",
       "      <td>2</td>\n",
       "      <td>201.48</td>\n",
       "      <td>1.48</td>\n",
       "      <td>6360.00</td>\n",
       "      <td>83</td>\n",
       "    </tr>\n",
       "  </tbody>\n",
       "</table>\n",
       "<p>474631 rows × 12 columns</p>\n",
       "</div>"
      ],
      "text/plain": [
       "         index        대여일자  대여소번호  ...   탄소량  이동거리(M) 이용시간(분)\n",
       "0            0  2021-01-01    101  ...  0.00     0.00      46\n",
       "1            1  2021-01-01    101  ...  0.00     0.00      48\n",
       "2            2  2021-01-01    101  ...  0.00     0.00      31\n",
       "3            3  2021-01-01    101  ...  0.00     0.00      30\n",
       "4            4  2021-01-01    101  ...  0.00     0.00      78\n",
       "...        ...         ...    ...  ...   ...      ...     ...\n",
       "474626  474626  2021-01-31   3587  ...  0.40  1746.75      77\n",
       "474627  474627  2021-01-31   3587  ...  1.11  4803.09      41\n",
       "474628  474628  2021-01-31   3588  ...  0.28  1210.58      11\n",
       "474629  474629  2021-01-31   3588  ...  0.25  1080.61      11\n",
       "474630  474630  2021-01-31   9999  ...  1.48  6360.00      83\n",
       "\n",
       "[474631 rows x 12 columns]"
      ]
     },
     "execution_count": 11,
     "metadata": {
      "tags": []
     },
     "output_type": "execute_result"
    }
   ],
   "source": [
    "#2021년 1월 공공자전거 일별 이용정보\n",
    "df_day=pd.read_csv(r'공공자전거 이용정보(일별)_2021.01.csv', encoding='cp949')\n",
    "df_day=df_day.reset_index(inplace=False)\n",
    "df_day"
   ]
  },
  {
   "cell_type": "code",
   "execution_count": 12,
   "metadata": {
    "colab": {
     "base_uri": "https://localhost:8080/",
     "height": 391
    },
    "executionInfo": {
     "elapsed": 3336,
     "status": "ok",
     "timestamp": 1616091616914,
     "user": {
      "displayName": "­강수빈(학부/공과대학 컴퓨터과학)",
      "photoUrl": "",
      "userId": "07352247864639375532"
     },
     "user_tz": -540
    },
    "id": "0PuCnNwwLluj",
    "outputId": "3f4a52c5-fcbf-4860-aab0-88274b24fc66"
   },
   "outputs": [
    {
     "data": {
      "text/html": [
       "<div>\n",
       "<style scoped>\n",
       "    .dataframe tbody tr th:only-of-type {\n",
       "        vertical-align: middle;\n",
       "    }\n",
       "\n",
       "    .dataframe tbody tr th {\n",
       "        vertical-align: top;\n",
       "    }\n",
       "\n",
       "    .dataframe thead th {\n",
       "        text-align: right;\n",
       "    }\n",
       "</style>\n",
       "<table border=\"1\" class=\"dataframe\">\n",
       "  <thead>\n",
       "    <tr style=\"text-align: right;\">\n",
       "      <th></th>\n",
       "      <th>대여소번호</th>\n",
       "      <th>대여소명</th>\n",
       "      <th>자치구</th>\n",
       "      <th>상세주소</th>\n",
       "      <th>위도</th>\n",
       "      <th>경도</th>\n",
       "      <th>설치시기</th>\n",
       "      <th>거치대수(LCD)</th>\n",
       "      <th>거치대수(QR)</th>\n",
       "      <th>운영방식</th>\n",
       "    </tr>\n",
       "  </thead>\n",
       "  <tbody>\n",
       "    <tr>\n",
       "      <th>0</th>\n",
       "      <td>301</td>\n",
       "      <td>경복궁역 7번출구 앞</td>\n",
       "      <td>종로구</td>\n",
       "      <td>서울특별시 종로구 사직로 지하130</td>\n",
       "      <td>37.575794</td>\n",
       "      <td>126.971451</td>\n",
       "      <td>2015-10-07</td>\n",
       "      <td>16.0</td>\n",
       "      <td>NaN</td>\n",
       "      <td>LCD</td>\n",
       "    </tr>\n",
       "    <tr>\n",
       "      <th>1</th>\n",
       "      <td>302</td>\n",
       "      <td>경복궁역 4번출구 뒤</td>\n",
       "      <td>종로구</td>\n",
       "      <td>서울특별시 종로구 사직로 지하130</td>\n",
       "      <td>37.575947</td>\n",
       "      <td>126.974060</td>\n",
       "      <td>2015-10-07</td>\n",
       "      <td>12.0</td>\n",
       "      <td>NaN</td>\n",
       "      <td>LCD</td>\n",
       "    </tr>\n",
       "    <tr>\n",
       "      <th>2</th>\n",
       "      <td>303</td>\n",
       "      <td>광화문역 1번출구 앞</td>\n",
       "      <td>종로구</td>\n",
       "      <td>서울특별시 종로구 세종대로 지하189</td>\n",
       "      <td>37.571770</td>\n",
       "      <td>126.974663</td>\n",
       "      <td>2015-10-07</td>\n",
       "      <td>8.0</td>\n",
       "      <td>NaN</td>\n",
       "      <td>LCD</td>\n",
       "    </tr>\n",
       "    <tr>\n",
       "      <th>3</th>\n",
       "      <td>304</td>\n",
       "      <td>광화문역 2번출구 앞</td>\n",
       "      <td>종로구</td>\n",
       "      <td>서울특별시 종로구 세종대로 지하172</td>\n",
       "      <td>37.572113</td>\n",
       "      <td>126.977577</td>\n",
       "      <td>2021-01-26</td>\n",
       "      <td>NaN</td>\n",
       "      <td>7.0</td>\n",
       "      <td>QR</td>\n",
       "    </tr>\n",
       "    <tr>\n",
       "      <th>4</th>\n",
       "      <td>305</td>\n",
       "      <td>종로구청 옆</td>\n",
       "      <td>종로구</td>\n",
       "      <td>서울특별시 종로구 삼봉로 43</td>\n",
       "      <td>37.572582</td>\n",
       "      <td>126.978355</td>\n",
       "      <td>2015-10-07</td>\n",
       "      <td>16.0</td>\n",
       "      <td>NaN</td>\n",
       "      <td>LCD</td>\n",
       "    </tr>\n",
       "    <tr>\n",
       "      <th>...</th>\n",
       "      <td>...</td>\n",
       "      <td>...</td>\n",
       "      <td>...</td>\n",
       "      <td>...</td>\n",
       "      <td>...</td>\n",
       "      <td>...</td>\n",
       "      <td>...</td>\n",
       "      <td>...</td>\n",
       "      <td>...</td>\n",
       "      <td>...</td>\n",
       "    </tr>\n",
       "    <tr>\n",
       "      <th>2149</th>\n",
       "      <td>1085</td>\n",
       "      <td>래미안 솔베뉴(고덕로)</td>\n",
       "      <td>강동구</td>\n",
       "      <td>양재대로1650</td>\n",
       "      <td>37.554569</td>\n",
       "      <td>127.145874</td>\n",
       "      <td>2020-01-13</td>\n",
       "      <td>NaN</td>\n",
       "      <td>20.0</td>\n",
       "      <td>QR</td>\n",
       "    </tr>\n",
       "    <tr>\n",
       "      <th>2150</th>\n",
       "      <td>1086</td>\n",
       "      <td>래미안 솔베뉴(구천면로)</td>\n",
       "      <td>강동구</td>\n",
       "      <td>양재대로1650</td>\n",
       "      <td>37.550598</td>\n",
       "      <td>127.145454</td>\n",
       "      <td>2020-01-10</td>\n",
       "      <td>NaN</td>\n",
       "      <td>10.0</td>\n",
       "      <td>QR</td>\n",
       "    </tr>\n",
       "    <tr>\n",
       "      <th>2151</th>\n",
       "      <td>1088</td>\n",
       "      <td>풍납사거리(강동)</td>\n",
       "      <td>강동구</td>\n",
       "      <td>성내동451-3</td>\n",
       "      <td>37.528122</td>\n",
       "      <td>127.119522</td>\n",
       "      <td>2020-01-14</td>\n",
       "      <td>NaN</td>\n",
       "      <td>12.0</td>\n",
       "      <td>QR</td>\n",
       "    </tr>\n",
       "    <tr>\n",
       "      <th>2152</th>\n",
       "      <td>1089</td>\n",
       "      <td>고덕 래미안힐스테이트(201동)</td>\n",
       "      <td>강동구</td>\n",
       "      <td>고덕동 675</td>\n",
       "      <td>37.560600</td>\n",
       "      <td>127.146698</td>\n",
       "      <td>2020-01-13</td>\n",
       "      <td>NaN</td>\n",
       "      <td>10.0</td>\n",
       "      <td>QR</td>\n",
       "    </tr>\n",
       "    <tr>\n",
       "      <th>2153</th>\n",
       "      <td>1090</td>\n",
       "      <td>상일동역 2번출구 앞</td>\n",
       "      <td>강동구</td>\n",
       "      <td>고덕로 333</td>\n",
       "      <td>37.556789</td>\n",
       "      <td>127.166145</td>\n",
       "      <td>2020-01-13</td>\n",
       "      <td>NaN</td>\n",
       "      <td>10.0</td>\n",
       "      <td>QR</td>\n",
       "    </tr>\n",
       "  </tbody>\n",
       "</table>\n",
       "<p>2154 rows × 10 columns</p>\n",
       "</div>"
      ],
      "text/plain": [
       "      대여소번호               대여소명  자치구  ... 거치대수(LCD)  거치대수(QR)  운영방식\n",
       "0       301        경복궁역 7번출구 앞  종로구  ...      16.0       NaN   LCD\n",
       "1       302        경복궁역 4번출구 뒤  종로구  ...      12.0       NaN   LCD\n",
       "2       303        광화문역 1번출구 앞  종로구  ...       8.0       NaN   LCD\n",
       "3       304        광화문역 2번출구 앞  종로구  ...       NaN       7.0    QR\n",
       "4       305             종로구청 옆  종로구  ...      16.0       NaN   LCD\n",
       "...     ...                ...  ...  ...       ...       ...   ...\n",
       "2149   1085       래미안 솔베뉴(고덕로)  강동구  ...       NaN      20.0    QR\n",
       "2150   1086      래미안 솔베뉴(구천면로)  강동구  ...       NaN      10.0    QR\n",
       "2151   1088          풍납사거리(강동)  강동구  ...       NaN      12.0    QR\n",
       "2152   1089  고덕 래미안힐스테이트(201동)  강동구  ...       NaN      10.0    QR\n",
       "2153   1090        상일동역 2번출구 앞  강동구  ...       NaN      10.0    QR\n",
       "\n",
       "[2154 rows x 10 columns]"
      ]
     },
     "execution_count": 12,
     "metadata": {
      "tags": []
     },
     "output_type": "execute_result"
    }
   ],
   "source": [
    "#2021년 1월 기준 공공자전거 대여소 정보 \n",
    "df_loc = pd.read_csv('공공자전거 대여소 정보(21.01.31 기준).csv', encoding='cp949')\n",
    "# df_sdm_idx = df_loc[df_loc['소재지(위치)'] != '서대문구'].index\n",
    "# df_sdm = df_loc.drop(df_sdm_idx)\n",
    "# df_sdm['대여소\\n번호'] = df_sdm['대여소\\n번호'].astype(int)\n",
    "\n",
    "# sdm_loc_list = df_sdm['대여소\\n번호']\n",
    "# sdm_loc_list\n",
    "df_loc"
   ]
  },
  {
   "cell_type": "code",
   "execution_count": 13,
   "metadata": {
    "colab": {
     "base_uri": "https://localhost:8080/",
     "height": 927
    },
    "executionInfo": {
     "elapsed": 3374,
     "status": "ok",
     "timestamp": 1616091617572,
     "user": {
      "displayName": "­강수빈(학부/공과대학 컴퓨터과학)",
      "photoUrl": "",
      "userId": "07352247864639375532"
     },
     "user_tz": -540
    },
    "id": "o4vAMJer1b2L",
    "outputId": "8962f8e7-41ee-478d-da09-c9f0c2dc4c43"
   },
   "outputs": [
    {
     "data": {
      "text/html": [
       "<div>\n",
       "<style scoped>\n",
       "    .dataframe tbody tr th:only-of-type {\n",
       "        vertical-align: middle;\n",
       "    }\n",
       "\n",
       "    .dataframe tbody tr th {\n",
       "        vertical-align: top;\n",
       "    }\n",
       "\n",
       "    .dataframe thead th {\n",
       "        text-align: right;\n",
       "    }\n",
       "</style>\n",
       "<table border=\"1\" class=\"dataframe\">\n",
       "  <thead>\n",
       "    <tr style=\"text-align: right;\">\n",
       "      <th></th>\n",
       "      <th>index</th>\n",
       "      <th>대여일자</th>\n",
       "      <th>대여소번호</th>\n",
       "      <th>대여소</th>\n",
       "      <th>대여구분코드</th>\n",
       "      <th>성별</th>\n",
       "      <th>연령대코드</th>\n",
       "      <th>이용건수</th>\n",
       "      <th>운동량</th>\n",
       "      <th>탄소량</th>\n",
       "      <th>이동거리(M)</th>\n",
       "      <th>이용시간(분)</th>\n",
       "      <th>대여소명</th>\n",
       "      <th>자치구</th>\n",
       "      <th>상세주소</th>\n",
       "      <th>위도</th>\n",
       "      <th>경도</th>\n",
       "      <th>설치시기</th>\n",
       "      <th>거치대수(LCD)</th>\n",
       "      <th>거치대수(QR)</th>\n",
       "      <th>운영방식</th>\n",
       "    </tr>\n",
       "  </thead>\n",
       "  <tbody>\n",
       "    <tr>\n",
       "      <th>5</th>\n",
       "      <td>5</td>\n",
       "      <td>2021-01-01</td>\n",
       "      <td>101</td>\n",
       "      <td>101. (구)합정동 주민센터</td>\n",
       "      <td>정기</td>\n",
       "      <td>M</td>\n",
       "      <td>AGE_003</td>\n",
       "      <td>1</td>\n",
       "      <td>36.23</td>\n",
       "      <td>0.29</td>\n",
       "      <td>1270.63</td>\n",
       "      <td>123</td>\n",
       "      <td>(구)합정동 주민센터</td>\n",
       "      <td>마포구</td>\n",
       "      <td>서울특별시 마포구 동교로8길 58</td>\n",
       "      <td>37.549561</td>\n",
       "      <td>126.905754</td>\n",
       "      <td>2015-09-06</td>\n",
       "      <td>5.0</td>\n",
       "      <td>NaN</td>\n",
       "      <td>LCD</td>\n",
       "    </tr>\n",
       "    <tr>\n",
       "      <th>7</th>\n",
       "      <td>14775</td>\n",
       "      <td>2021-01-02</td>\n",
       "      <td>101</td>\n",
       "      <td>101. (구)합정동 주민센터</td>\n",
       "      <td>일일(회원)</td>\n",
       "      <td>\\N</td>\n",
       "      <td>AGE_003</td>\n",
       "      <td>1</td>\n",
       "      <td>32.58</td>\n",
       "      <td>0.38</td>\n",
       "      <td>1645.60</td>\n",
       "      <td>13</td>\n",
       "      <td>(구)합정동 주민센터</td>\n",
       "      <td>마포구</td>\n",
       "      <td>서울특별시 마포구 동교로8길 58</td>\n",
       "      <td>37.549561</td>\n",
       "      <td>126.905754</td>\n",
       "      <td>2015-09-06</td>\n",
       "      <td>5.0</td>\n",
       "      <td>NaN</td>\n",
       "      <td>LCD</td>\n",
       "    </tr>\n",
       "    <tr>\n",
       "      <th>8</th>\n",
       "      <td>14776</td>\n",
       "      <td>2021-01-02</td>\n",
       "      <td>101</td>\n",
       "      <td>101. (구)합정동 주민센터</td>\n",
       "      <td>정기</td>\n",
       "      <td>\\N</td>\n",
       "      <td>AGE_002</td>\n",
       "      <td>3</td>\n",
       "      <td>38.36</td>\n",
       "      <td>0.39</td>\n",
       "      <td>1699.35</td>\n",
       "      <td>72</td>\n",
       "      <td>(구)합정동 주민센터</td>\n",
       "      <td>마포구</td>\n",
       "      <td>서울특별시 마포구 동교로8길 58</td>\n",
       "      <td>37.549561</td>\n",
       "      <td>126.905754</td>\n",
       "      <td>2015-09-06</td>\n",
       "      <td>5.0</td>\n",
       "      <td>NaN</td>\n",
       "      <td>LCD</td>\n",
       "    </tr>\n",
       "    <tr>\n",
       "      <th>10</th>\n",
       "      <td>14778</td>\n",
       "      <td>2021-01-02</td>\n",
       "      <td>101</td>\n",
       "      <td>101. (구)합정동 주민센터</td>\n",
       "      <td>정기</td>\n",
       "      <td>\\N</td>\n",
       "      <td>AGE_005</td>\n",
       "      <td>3</td>\n",
       "      <td>16.40</td>\n",
       "      <td>0.15</td>\n",
       "      <td>637.23</td>\n",
       "      <td>114</td>\n",
       "      <td>(구)합정동 주민센터</td>\n",
       "      <td>마포구</td>\n",
       "      <td>서울특별시 마포구 동교로8길 58</td>\n",
       "      <td>37.549561</td>\n",
       "      <td>126.905754</td>\n",
       "      <td>2015-09-06</td>\n",
       "      <td>5.0</td>\n",
       "      <td>NaN</td>\n",
       "      <td>LCD</td>\n",
       "    </tr>\n",
       "    <tr>\n",
       "      <th>11</th>\n",
       "      <td>14779</td>\n",
       "      <td>2021-01-02</td>\n",
       "      <td>101</td>\n",
       "      <td>101. (구)합정동 주민센터</td>\n",
       "      <td>정기</td>\n",
       "      <td>F</td>\n",
       "      <td>AGE_003</td>\n",
       "      <td>1</td>\n",
       "      <td>23.46</td>\n",
       "      <td>0.21</td>\n",
       "      <td>911.44</td>\n",
       "      <td>11</td>\n",
       "      <td>(구)합정동 주민센터</td>\n",
       "      <td>마포구</td>\n",
       "      <td>서울특별시 마포구 동교로8길 58</td>\n",
       "      <td>37.549561</td>\n",
       "      <td>126.905754</td>\n",
       "      <td>2015-09-06</td>\n",
       "      <td>5.0</td>\n",
       "      <td>NaN</td>\n",
       "      <td>LCD</td>\n",
       "    </tr>\n",
       "    <tr>\n",
       "      <th>...</th>\n",
       "      <td>...</td>\n",
       "      <td>...</td>\n",
       "      <td>...</td>\n",
       "      <td>...</td>\n",
       "      <td>...</td>\n",
       "      <td>...</td>\n",
       "      <td>...</td>\n",
       "      <td>...</td>\n",
       "      <td>...</td>\n",
       "      <td>...</td>\n",
       "      <td>...</td>\n",
       "      <td>...</td>\n",
       "      <td>...</td>\n",
       "      <td>...</td>\n",
       "      <td>...</td>\n",
       "      <td>...</td>\n",
       "      <td>...</td>\n",
       "      <td>...</td>\n",
       "      <td>...</td>\n",
       "      <td>...</td>\n",
       "      <td>...</td>\n",
       "    </tr>\n",
       "    <tr>\n",
       "      <th>475073</th>\n",
       "      <td>466253</td>\n",
       "      <td>2021-01-31</td>\n",
       "      <td>1627</td>\n",
       "      <td>1627. 수락산역 4번출구</td>\n",
       "      <td>일일(회원)</td>\n",
       "      <td>M</td>\n",
       "      <td>AGE_002</td>\n",
       "      <td>1</td>\n",
       "      <td>154.46</td>\n",
       "      <td>1.13</td>\n",
       "      <td>4875.63</td>\n",
       "      <td>31</td>\n",
       "      <td>수락산역 4번출구</td>\n",
       "      <td>노원구</td>\n",
       "      <td>서울특별시 노원구 동일로 지하 1662</td>\n",
       "      <td>37.676941</td>\n",
       "      <td>127.055099</td>\n",
       "      <td>2020-12-31</td>\n",
       "      <td>NaN</td>\n",
       "      <td>12.0</td>\n",
       "      <td>QR</td>\n",
       "    </tr>\n",
       "    <tr>\n",
       "      <th>475075</th>\n",
       "      <td>466255</td>\n",
       "      <td>2021-01-31</td>\n",
       "      <td>1627</td>\n",
       "      <td>1627. 수락산역 4번출구</td>\n",
       "      <td>정기</td>\n",
       "      <td>F</td>\n",
       "      <td>AGE_002</td>\n",
       "      <td>1</td>\n",
       "      <td>72.19</td>\n",
       "      <td>0.70</td>\n",
       "      <td>3038.28</td>\n",
       "      <td>32</td>\n",
       "      <td>수락산역 4번출구</td>\n",
       "      <td>노원구</td>\n",
       "      <td>서울특별시 노원구 동일로 지하 1662</td>\n",
       "      <td>37.676941</td>\n",
       "      <td>127.055099</td>\n",
       "      <td>2020-12-31</td>\n",
       "      <td>NaN</td>\n",
       "      <td>12.0</td>\n",
       "      <td>QR</td>\n",
       "    </tr>\n",
       "    <tr>\n",
       "      <th>475076</th>\n",
       "      <td>466256</td>\n",
       "      <td>2021-01-31</td>\n",
       "      <td>1627</td>\n",
       "      <td>1627. 수락산역 4번출구</td>\n",
       "      <td>정기</td>\n",
       "      <td>F</td>\n",
       "      <td>AGE_004</td>\n",
       "      <td>1</td>\n",
       "      <td>100.47</td>\n",
       "      <td>1.01</td>\n",
       "      <td>4374.36</td>\n",
       "      <td>23</td>\n",
       "      <td>수락산역 4번출구</td>\n",
       "      <td>노원구</td>\n",
       "      <td>서울특별시 노원구 동일로 지하 1662</td>\n",
       "      <td>37.676941</td>\n",
       "      <td>127.055099</td>\n",
       "      <td>2020-12-31</td>\n",
       "      <td>NaN</td>\n",
       "      <td>12.0</td>\n",
       "      <td>QR</td>\n",
       "    </tr>\n",
       "    <tr>\n",
       "      <th>475077</th>\n",
       "      <td>466257</td>\n",
       "      <td>2021-01-31</td>\n",
       "      <td>1627</td>\n",
       "      <td>1627. 수락산역 4번출구</td>\n",
       "      <td>정기</td>\n",
       "      <td>F</td>\n",
       "      <td>AGE_005</td>\n",
       "      <td>1</td>\n",
       "      <td>74.00</td>\n",
       "      <td>0.62</td>\n",
       "      <td>2669.48</td>\n",
       "      <td>36</td>\n",
       "      <td>수락산역 4번출구</td>\n",
       "      <td>노원구</td>\n",
       "      <td>서울특별시 노원구 동일로 지하 1662</td>\n",
       "      <td>37.676941</td>\n",
       "      <td>127.055099</td>\n",
       "      <td>2020-12-31</td>\n",
       "      <td>NaN</td>\n",
       "      <td>12.0</td>\n",
       "      <td>QR</td>\n",
       "    </tr>\n",
       "    <tr>\n",
       "      <th>475078</th>\n",
       "      <td>466258</td>\n",
       "      <td>2021-01-31</td>\n",
       "      <td>1627</td>\n",
       "      <td>1627. 수락산역 4번출구</td>\n",
       "      <td>정기</td>\n",
       "      <td>M</td>\n",
       "      <td>AGE_005</td>\n",
       "      <td>1</td>\n",
       "      <td>94.51</td>\n",
       "      <td>0.64</td>\n",
       "      <td>2743.29</td>\n",
       "      <td>22</td>\n",
       "      <td>수락산역 4번출구</td>\n",
       "      <td>노원구</td>\n",
       "      <td>서울특별시 노원구 동일로 지하 1662</td>\n",
       "      <td>37.676941</td>\n",
       "      <td>127.055099</td>\n",
       "      <td>2020-12-31</td>\n",
       "      <td>NaN</td>\n",
       "      <td>12.0</td>\n",
       "      <td>QR</td>\n",
       "    </tr>\n",
       "  </tbody>\n",
       "</table>\n",
       "<p>435404 rows × 21 columns</p>\n",
       "</div>"
      ],
      "text/plain": [
       "         index        대여일자  대여소번호  ... 거치대수(LCD) 거치대수(QR) 운영방식\n",
       "5            5  2021-01-01    101  ...       5.0      NaN  LCD\n",
       "7        14775  2021-01-02    101  ...       5.0      NaN  LCD\n",
       "8        14776  2021-01-02    101  ...       5.0      NaN  LCD\n",
       "10       14778  2021-01-02    101  ...       5.0      NaN  LCD\n",
       "11       14779  2021-01-02    101  ...       5.0      NaN  LCD\n",
       "...        ...         ...    ...  ...       ...      ...  ...\n",
       "475073  466253  2021-01-31   1627  ...       NaN     12.0   QR\n",
       "475075  466255  2021-01-31   1627  ...       NaN     12.0   QR\n",
       "475076  466256  2021-01-31   1627  ...       NaN     12.0   QR\n",
       "475077  466257  2021-01-31   1627  ...       NaN     12.0   QR\n",
       "475078  466258  2021-01-31   1627  ...       NaN     12.0   QR\n",
       "\n",
       "[435404 rows x 21 columns]"
      ]
     },
     "execution_count": 13,
     "metadata": {
      "tags": []
     },
     "output_type": "execute_result"
    }
   ],
   "source": [
    "#일별 이용정보에 대여소 정보 추가\n",
    "df_day_loc = pd.merge(df_day, df_loc, left_on='대여소번호', right_on='대여소번호', how='inner')\n",
    "del_idx = df_day_loc[(df_day_loc['이용시간(분)']<=0) | (df_day_loc['이동거리(M)']<=0)].index\n",
    "df_day_loc = df_day_loc.drop(del_idx) #이용시간이나 이동거리가 0이하일 경우 정확하지 않은 데이터라 판단하고 삭제\n",
    "df_day_loc"
   ]
  },
  {
   "cell_type": "markdown",
   "metadata": {
    "id": "TMkD8y6KUAOh"
   },
   "source": [
    "#**Preprocessing X and Y & Result**"
   ]
  },
  {
   "cell_type": "markdown",
   "metadata": {
    "id": "5wRGZOOzUHRd"
   },
   "source": [
    "### 1) 이용권과 연령대는 관련이 있을까?"
   ]
  },
  {
   "cell_type": "code",
   "execution_count": 14,
   "metadata": {
    "colab": {
     "base_uri": "https://localhost:8080/",
     "height": 191
    },
    "executionInfo": {
     "elapsed": 768,
     "status": "ok",
     "timestamp": 1616091618463,
     "user": {
      "displayName": "­강수빈(학부/공과대학 컴퓨터과학)",
      "photoUrl": "",
      "userId": "07352247864639375532"
     },
     "user_tz": -540
    },
    "id": "oNy9V1vPVgOk",
    "outputId": "7fce2b8b-2e1f-428f-9cec-24107350e457"
   },
   "outputs": [
    {
     "data": {
      "text/html": [
       "<div>\n",
       "<style scoped>\n",
       "    .dataframe tbody tr th:only-of-type {\n",
       "        vertical-align: middle;\n",
       "    }\n",
       "\n",
       "    .dataframe tbody tr th {\n",
       "        vertical-align: top;\n",
       "    }\n",
       "\n",
       "    .dataframe thead th {\n",
       "        text-align: right;\n",
       "    }\n",
       "</style>\n",
       "<table border=\"1\" class=\"dataframe\">\n",
       "  <thead>\n",
       "    <tr style=\"text-align: right;\">\n",
       "      <th>연령대코드</th>\n",
       "      <th>AGE_001</th>\n",
       "      <th>AGE_002</th>\n",
       "      <th>AGE_003</th>\n",
       "      <th>AGE_004</th>\n",
       "      <th>AGE_005</th>\n",
       "      <th>AGE_006</th>\n",
       "      <th>AGE_007</th>\n",
       "      <th>AGE_008</th>\n",
       "    </tr>\n",
       "    <tr>\n",
       "      <th>대여구분코드</th>\n",
       "      <th></th>\n",
       "      <th></th>\n",
       "      <th></th>\n",
       "      <th></th>\n",
       "      <th></th>\n",
       "      <th></th>\n",
       "      <th></th>\n",
       "      <th></th>\n",
       "    </tr>\n",
       "  </thead>\n",
       "  <tbody>\n",
       "    <tr>\n",
       "      <th>단체</th>\n",
       "      <td>588.0</td>\n",
       "      <td>725.0</td>\n",
       "      <td>305.0</td>\n",
       "      <td>1030.0</td>\n",
       "      <td>175.0</td>\n",
       "      <td>17.0</td>\n",
       "      <td>2.0</td>\n",
       "      <td>42.0</td>\n",
       "    </tr>\n",
       "    <tr>\n",
       "      <th>일일(비회원)</th>\n",
       "      <td>0.0</td>\n",
       "      <td>1.0</td>\n",
       "      <td>4.0</td>\n",
       "      <td>0.0</td>\n",
       "      <td>0.0</td>\n",
       "      <td>0.0</td>\n",
       "      <td>0.0</td>\n",
       "      <td>2200.0</td>\n",
       "    </tr>\n",
       "    <tr>\n",
       "      <th>일일(회원)</th>\n",
       "      <td>9023.0</td>\n",
       "      <td>43222.0</td>\n",
       "      <td>21870.0</td>\n",
       "      <td>11293.0</td>\n",
       "      <td>4327.0</td>\n",
       "      <td>852.0</td>\n",
       "      <td>167.0</td>\n",
       "      <td>1464.0</td>\n",
       "    </tr>\n",
       "    <tr>\n",
       "      <th>정기</th>\n",
       "      <td>11416.0</td>\n",
       "      <td>98799.0</td>\n",
       "      <td>81926.0</td>\n",
       "      <td>66735.0</td>\n",
       "      <td>50795.0</td>\n",
       "      <td>19829.0</td>\n",
       "      <td>3107.0</td>\n",
       "      <td>4951.0</td>\n",
       "    </tr>\n",
       "  </tbody>\n",
       "</table>\n",
       "</div>"
      ],
      "text/plain": [
       "연령대코드    AGE_001  AGE_002  AGE_003  AGE_004  AGE_005  AGE_006  AGE_007  AGE_008\n",
       "대여구분코드                                                                         \n",
       "단체         588.0    725.0    305.0   1030.0    175.0     17.0      2.0     42.0\n",
       "일일(비회원)      0.0      1.0      4.0      0.0      0.0      0.0      0.0   2200.0\n",
       "일일(회원)    9023.0  43222.0  21870.0  11293.0   4327.0    852.0    167.0   1464.0\n",
       "정기       11416.0  98799.0  81926.0  66735.0  50795.0  19829.0   3107.0   4951.0"
      ]
     },
     "execution_count": 14,
     "metadata": {
      "tags": []
     },
     "output_type": "execute_result"
    }
   ],
   "source": [
    "ticket_age=df_day_loc.pivot_table(index='대여구분코드',columns='연령대코드',values='index', aggfunc='count')\n",
    "ticket_age=ticket_age.drop(index=[\"BIL_021\"])\n",
    "ticket_age=ticket_age.fillna(0)\n",
    "ticket_age"
   ]
  },
  {
   "cell_type": "markdown",
   "metadata": {
    "id": "fHX88HeFUqNC"
   },
   "source": [
    "### 2) 이용권과 이동거리는 관련이 있을까?"
   ]
  },
  {
   "cell_type": "markdown",
   "metadata": {
    "id": "cz-I107cdlGd"
   },
   "source": [
    "이동 거리는 continuous한 데이터이기 때문에 1km 단위로 범주화(이산화)시킨다."
   ]
  },
  {
   "cell_type": "code",
   "execution_count": 15,
   "metadata": {
    "colab": {
     "base_uri": "https://localhost:8080/",
     "height": 191
    },
    "executionInfo": {
     "elapsed": 737,
     "status": "ok",
     "timestamp": 1616091619517,
     "user": {
      "displayName": "­강수빈(학부/공과대학 컴퓨터과학)",
      "photoUrl": "",
      "userId": "07352247864639375532"
     },
     "user_tz": -540
    },
    "id": "_zuagdDvV0Ll",
    "outputId": "aaf19784-246c-4e76-801c-408ab9814206"
   },
   "outputs": [
    {
     "data": {
      "text/html": [
       "<div>\n",
       "<style scoped>\n",
       "    .dataframe tbody tr th:only-of-type {\n",
       "        vertical-align: middle;\n",
       "    }\n",
       "\n",
       "    .dataframe tbody tr th {\n",
       "        vertical-align: top;\n",
       "    }\n",
       "\n",
       "    .dataframe thead th {\n",
       "        text-align: right;\n",
       "    }\n",
       "</style>\n",
       "<table border=\"1\" class=\"dataframe\">\n",
       "  <thead>\n",
       "    <tr style=\"text-align: right;\">\n",
       "      <th>Distance_cut</th>\n",
       "      <th>~1km</th>\n",
       "      <th>~2km</th>\n",
       "      <th>~3km</th>\n",
       "      <th>~4km</th>\n",
       "      <th>~5km</th>\n",
       "      <th>~6km</th>\n",
       "      <th>~7km</th>\n",
       "      <th>~8km</th>\n",
       "      <th>~9km</th>\n",
       "      <th>~10km</th>\n",
       "      <th>10km~</th>\n",
       "    </tr>\n",
       "    <tr>\n",
       "      <th>대여구분코드</th>\n",
       "      <th></th>\n",
       "      <th></th>\n",
       "      <th></th>\n",
       "      <th></th>\n",
       "      <th></th>\n",
       "      <th></th>\n",
       "      <th></th>\n",
       "      <th></th>\n",
       "      <th></th>\n",
       "      <th></th>\n",
       "      <th></th>\n",
       "    </tr>\n",
       "  </thead>\n",
       "  <tbody>\n",
       "    <tr>\n",
       "      <th>단체</th>\n",
       "      <td>70.0</td>\n",
       "      <td>187.0</td>\n",
       "      <td>215.0</td>\n",
       "      <td>209.0</td>\n",
       "      <td>210.0</td>\n",
       "      <td>203.0</td>\n",
       "      <td>192.0</td>\n",
       "      <td>154.0</td>\n",
       "      <td>156.0</td>\n",
       "      <td>136.0</td>\n",
       "      <td>1152.0</td>\n",
       "    </tr>\n",
       "    <tr>\n",
       "      <th>일일(비회원)</th>\n",
       "      <td>138.0</td>\n",
       "      <td>263.0</td>\n",
       "      <td>300.0</td>\n",
       "      <td>232.0</td>\n",
       "      <td>184.0</td>\n",
       "      <td>146.0</td>\n",
       "      <td>142.0</td>\n",
       "      <td>117.0</td>\n",
       "      <td>83.0</td>\n",
       "      <td>66.0</td>\n",
       "      <td>534.0</td>\n",
       "    </tr>\n",
       "    <tr>\n",
       "      <th>일일(회원)</th>\n",
       "      <td>9645.0</td>\n",
       "      <td>16901.0</td>\n",
       "      <td>12621.0</td>\n",
       "      <td>9314.0</td>\n",
       "      <td>6994.0</td>\n",
       "      <td>5412.0</td>\n",
       "      <td>4455.0</td>\n",
       "      <td>3668.0</td>\n",
       "      <td>3066.0</td>\n",
       "      <td>2490.0</td>\n",
       "      <td>17652.0</td>\n",
       "    </tr>\n",
       "    <tr>\n",
       "      <th>정기</th>\n",
       "      <td>60173.0</td>\n",
       "      <td>74800.0</td>\n",
       "      <td>49007.0</td>\n",
       "      <td>33358.0</td>\n",
       "      <td>24505.0</td>\n",
       "      <td>17693.0</td>\n",
       "      <td>13446.0</td>\n",
       "      <td>10948.0</td>\n",
       "      <td>8571.0</td>\n",
       "      <td>6909.0</td>\n",
       "      <td>38148.0</td>\n",
       "    </tr>\n",
       "  </tbody>\n",
       "</table>\n",
       "</div>"
      ],
      "text/plain": [
       "Distance_cut     ~1km     ~2km     ~3km  ...    ~9km   ~10km    10km~\n",
       "대여구분코드                                   ...                         \n",
       "단체               70.0    187.0    215.0  ...   156.0   136.0   1152.0\n",
       "일일(비회원)         138.0    263.0    300.0  ...    83.0    66.0    534.0\n",
       "일일(회원)         9645.0  16901.0  12621.0  ...  3066.0  2490.0  17652.0\n",
       "정기            60173.0  74800.0  49007.0  ...  8571.0  6909.0  38148.0\n",
       "\n",
       "[4 rows x 11 columns]"
      ]
     },
     "execution_count": 15,
     "metadata": {
      "tags": []
     },
     "output_type": "execute_result"
    }
   ],
   "source": [
    "df_day_loc['Distance_cut']=pd.cut(df_day_loc[\"이동거리(M)\"], bins=[0,1000,2000,3000,4000,5000,6000,7000,8000,9000,10000,463301.420000], labels=['~1km','~2km','~3km','~4km','~5km','~6km','~7km','~8km','~9km','~10km','10km~'])\n",
    "ticket_dist=df_day_loc.pivot_table(index='대여구분코드',columns='Distance_cut',values='index', aggfunc='count')\n",
    "ticket_dist=ticket_dist.drop(index=[\"BIL_021\"])\n",
    "ticket_dist=ticket_dist.fillna(0)\n",
    "ticket_dist"
   ]
  },
  {
   "cell_type": "markdown",
   "metadata": {
    "id": "xxiXk1NaUwoj"
   },
   "source": [
    "### 3) 이용권과 이동시간은 관련이 있을까?"
   ]
  },
  {
   "cell_type": "markdown",
   "metadata": {
    "id": "utM09Q8Gdno2"
   },
   "source": [
    "이동 시간는 continuous한 데이터이기 때문에 10개의 범주로 나눈다. "
   ]
  },
  {
   "cell_type": "code",
   "execution_count": 16,
   "metadata": {
    "colab": {
     "base_uri": "https://localhost:8080/",
     "height": 191
    },
    "executionInfo": {
     "elapsed": 858,
     "status": "ok",
     "timestamp": 1616091621335,
     "user": {
      "displayName": "­강수빈(학부/공과대학 컴퓨터과학)",
      "photoUrl": "",
      "userId": "07352247864639375532"
     },
     "user_tz": -540
    },
    "id": "9Ge6rMKUWV2x",
    "outputId": "cf6712dc-9df5-4ba1-9ad1-75003056e51e"
   },
   "outputs": [
    {
     "data": {
      "text/html": [
       "<div>\n",
       "<style scoped>\n",
       "    .dataframe tbody tr th:only-of-type {\n",
       "        vertical-align: middle;\n",
       "    }\n",
       "\n",
       "    .dataframe tbody tr th {\n",
       "        vertical-align: top;\n",
       "    }\n",
       "\n",
       "    .dataframe thead th {\n",
       "        text-align: right;\n",
       "    }\n",
       "</style>\n",
       "<table border=\"1\" class=\"dataframe\">\n",
       "  <thead>\n",
       "    <tr style=\"text-align: right;\">\n",
       "      <th>Time_cut</th>\n",
       "      <th>~6분</th>\n",
       "      <th>~9분</th>\n",
       "      <th>~13분</th>\n",
       "      <th>~19분</th>\n",
       "      <th>~26분</th>\n",
       "      <th>~36분</th>\n",
       "      <th>~49분</th>\n",
       "      <th>~68분</th>\n",
       "      <th>~105분</th>\n",
       "      <th>105분~</th>\n",
       "    </tr>\n",
       "    <tr>\n",
       "      <th>대여구분코드</th>\n",
       "      <th></th>\n",
       "      <th></th>\n",
       "      <th></th>\n",
       "      <th></th>\n",
       "      <th></th>\n",
       "      <th></th>\n",
       "      <th></th>\n",
       "      <th></th>\n",
       "      <th></th>\n",
       "      <th></th>\n",
       "    </tr>\n",
       "  </thead>\n",
       "  <tbody>\n",
       "    <tr>\n",
       "      <th>단체</th>\n",
       "      <td>19</td>\n",
       "      <td>19</td>\n",
       "      <td>54</td>\n",
       "      <td>79</td>\n",
       "      <td>123</td>\n",
       "      <td>185</td>\n",
       "      <td>253</td>\n",
       "      <td>405</td>\n",
       "      <td>672</td>\n",
       "      <td>1075</td>\n",
       "    </tr>\n",
       "    <tr>\n",
       "      <th>일일(비회원)</th>\n",
       "      <td>61</td>\n",
       "      <td>57</td>\n",
       "      <td>113</td>\n",
       "      <td>149</td>\n",
       "      <td>184</td>\n",
       "      <td>245</td>\n",
       "      <td>293</td>\n",
       "      <td>350</td>\n",
       "      <td>346</td>\n",
       "      <td>407</td>\n",
       "    </tr>\n",
       "    <tr>\n",
       "      <th>일일(회원)</th>\n",
       "      <td>5960</td>\n",
       "      <td>5868</td>\n",
       "      <td>7552</td>\n",
       "      <td>9134</td>\n",
       "      <td>8391</td>\n",
       "      <td>9606</td>\n",
       "      <td>10529</td>\n",
       "      <td>11320</td>\n",
       "      <td>10733</td>\n",
       "      <td>13125</td>\n",
       "    </tr>\n",
       "    <tr>\n",
       "      <th>정기</th>\n",
       "      <td>45740</td>\n",
       "      <td>30971</td>\n",
       "      <td>34127</td>\n",
       "      <td>38819</td>\n",
       "      <td>33111</td>\n",
       "      <td>33222</td>\n",
       "      <td>31203</td>\n",
       "      <td>30191</td>\n",
       "      <td>31710</td>\n",
       "      <td>28464</td>\n",
       "    </tr>\n",
       "  </tbody>\n",
       "</table>\n",
       "</div>"
      ],
      "text/plain": [
       "Time_cut    ~6분    ~9분   ~13분   ~19분   ~26분   ~36분   ~49분   ~68분  ~105분  105분~\n",
       "대여구분코드                                                                        \n",
       "단체           19     19     54     79    123    185    253    405    672   1075\n",
       "일일(비회원)      61     57    113    149    184    245    293    350    346    407\n",
       "일일(회원)     5960   5868   7552   9134   8391   9606  10529  11320  10733  13125\n",
       "정기        45740  30971  34127  38819  33111  33222  31203  30191  31710  28464"
      ]
     },
     "execution_count": 16,
     "metadata": {
      "tags": []
     },
     "output_type": "execute_result"
    }
   ],
   "source": [
    "df_day_loc['Time_cut'] = pd.qcut(df_day_loc['이용시간(분)'], 10, labels=['~6분', '~9분', '~13분', '~19분', '~26분', '~36분','~49분','~68분','~105분', '105분~'])\n",
    "ticket_time=df_day_loc.pivot_table(index='대여구분코드',columns='Time_cut',values='index', aggfunc='count')\n",
    "ticket_time=ticket_time.drop(index=[\"BIL_021\"])\n",
    "ticket_time=ticket_time.fillna(0)\n",
    "ticket_time"
   ]
  },
  {
   "cell_type": "markdown",
   "metadata": {
    "id": "Z4Ws0UxdVFEq"
   },
   "source": [
    "###4) 이용권과 성별은 관련이 있을까?"
   ]
  },
  {
   "cell_type": "code",
   "execution_count": 17,
   "metadata": {
    "colab": {
     "base_uri": "https://localhost:8080/",
     "height": 191
    },
    "executionInfo": {
     "elapsed": 7952,
     "status": "ok",
     "timestamp": 1616091629685,
     "user": {
      "displayName": "­강수빈(학부/공과대학 컴퓨터과학)",
      "photoUrl": "",
      "userId": "07352247864639375532"
     },
     "user_tz": -540
    },
    "id": "sSn6RmmmX2qd",
    "outputId": "cd7eb928-321d-4b65-a14a-0a8bd681a500"
   },
   "outputs": [
    {
     "data": {
      "text/html": [
       "<div>\n",
       "<style scoped>\n",
       "    .dataframe tbody tr th:only-of-type {\n",
       "        vertical-align: middle;\n",
       "    }\n",
       "\n",
       "    .dataframe tbody tr th {\n",
       "        vertical-align: top;\n",
       "    }\n",
       "\n",
       "    .dataframe thead th {\n",
       "        text-align: right;\n",
       "    }\n",
       "</style>\n",
       "<table border=\"1\" class=\"dataframe\">\n",
       "  <thead>\n",
       "    <tr style=\"text-align: right;\">\n",
       "      <th>성별</th>\n",
       "      <th>F</th>\n",
       "      <th>M</th>\n",
       "    </tr>\n",
       "    <tr>\n",
       "      <th>대여구분코드</th>\n",
       "      <th></th>\n",
       "      <th></th>\n",
       "    </tr>\n",
       "  </thead>\n",
       "  <tbody>\n",
       "    <tr>\n",
       "      <th>단체</th>\n",
       "      <td>678</td>\n",
       "      <td>835</td>\n",
       "    </tr>\n",
       "    <tr>\n",
       "      <th>일일(비회원)</th>\n",
       "      <td>32</td>\n",
       "      <td>19</td>\n",
       "    </tr>\n",
       "    <tr>\n",
       "      <th>일일(회원)</th>\n",
       "      <td>22335</td>\n",
       "      <td>28707</td>\n",
       "    </tr>\n",
       "    <tr>\n",
       "      <th>정기</th>\n",
       "      <td>67957</td>\n",
       "      <td>121254</td>\n",
       "    </tr>\n",
       "  </tbody>\n",
       "</table>\n",
       "</div>"
      ],
      "text/plain": [
       "성별           F       M\n",
       "대여구분코드                \n",
       "단체         678     835\n",
       "일일(비회원)     32      19\n",
       "일일(회원)   22335   28707\n",
       "정기       67957  121254"
      ]
     },
     "execution_count": 17,
     "metadata": {
      "tags": []
     },
     "output_type": "execute_result"
    }
   ],
   "source": [
    "#성별 전처리 - '\\n'값은 삭제하고 성별의 명칭을 통일해준다.\n",
    "del_idx = df_day_loc[df_day_loc['성별'] == \"\\\\N\"].index\n",
    "df_gender = df_day_loc.drop(del_idx) \n",
    "df_gender = df_gender.replace('f','F', regex=True)\n",
    "df_gender = df_gender.replace('m','M', regex=True)\n",
    "ticket_gender=df_gender.pivot_table(index='대여구분코드',columns='성별',values='index', aggfunc='count')\n",
    "ticket_gender=ticket_gender.drop(index=[\"BIL_021\"])\n",
    "ticket_gender=ticket_gender.fillna(0)\n",
    "ticket_gender"
   ]
  },
  {
   "cell_type": "markdown",
   "metadata": {
    "id": "-5l38Wz4VM8t"
   },
   "source": [
    "### 5) 이용권과 대여소의 운영방식은 관련이 있을까?"
   ]
  },
  {
   "cell_type": "code",
   "execution_count": 18,
   "metadata": {
    "colab": {
     "base_uri": "https://localhost:8080/",
     "height": 191
    },
    "executionInfo": {
     "elapsed": 5498,
     "status": "ok",
     "timestamp": 1616091629687,
     "user": {
      "displayName": "­강수빈(학부/공과대학 컴퓨터과학)",
      "photoUrl": "",
      "userId": "07352247864639375532"
     },
     "user_tz": -540
    },
    "id": "7uPr7SBqYzwG",
    "outputId": "fb5c3180-6250-41f3-9518-e89c45788ac6"
   },
   "outputs": [
    {
     "data": {
      "text/html": [
       "<div>\n",
       "<style scoped>\n",
       "    .dataframe tbody tr th:only-of-type {\n",
       "        vertical-align: middle;\n",
       "    }\n",
       "\n",
       "    .dataframe tbody tr th {\n",
       "        vertical-align: top;\n",
       "    }\n",
       "\n",
       "    .dataframe thead th {\n",
       "        text-align: right;\n",
       "    }\n",
       "</style>\n",
       "<table border=\"1\" class=\"dataframe\">\n",
       "  <thead>\n",
       "    <tr style=\"text-align: right;\">\n",
       "      <th>운영방식</th>\n",
       "      <th>LCD</th>\n",
       "      <th>QR</th>\n",
       "    </tr>\n",
       "    <tr>\n",
       "      <th>대여구분코드</th>\n",
       "      <th></th>\n",
       "      <th></th>\n",
       "    </tr>\n",
       "  </thead>\n",
       "  <tbody>\n",
       "    <tr>\n",
       "      <th>단체</th>\n",
       "      <td>2236</td>\n",
       "      <td>648</td>\n",
       "    </tr>\n",
       "    <tr>\n",
       "      <th>일일(비회원)</th>\n",
       "      <td>1704</td>\n",
       "      <td>501</td>\n",
       "    </tr>\n",
       "    <tr>\n",
       "      <th>일일(회원)</th>\n",
       "      <td>69930</td>\n",
       "      <td>22288</td>\n",
       "    </tr>\n",
       "    <tr>\n",
       "      <th>정기</th>\n",
       "      <td>256618</td>\n",
       "      <td>80940</td>\n",
       "    </tr>\n",
       "  </tbody>\n",
       "</table>\n",
       "</div>"
      ],
      "text/plain": [
       "운영방식        LCD     QR\n",
       "대여구분코드                \n",
       "단체         2236    648\n",
       "일일(비회원)    1704    501\n",
       "일일(회원)    69930  22288\n",
       "정기       256618  80940"
      ]
     },
     "execution_count": 18,
     "metadata": {
      "tags": []
     },
     "output_type": "execute_result"
    }
   ],
   "source": [
    "ticket_oper=df_day_loc.pivot_table(index='대여구분코드',columns='운영방식',values='index', aggfunc='count')\n",
    "ticket_oper=ticket_oper.drop(index=[\"BIL_021\"])\n",
    "ticket_oper=ticket_oper.fillna(0)\n",
    "ticket_oper"
   ]
  },
  {
   "cell_type": "markdown",
   "metadata": {
    "id": "wauqSl6hZZyX"
   },
   "source": [
    "# **Result**"
   ]
  },
  {
   "cell_type": "code",
   "execution_count": 19,
   "metadata": {
    "executionInfo": {
     "elapsed": 4477,
     "status": "ok",
     "timestamp": 1616091629688,
     "user": {
      "displayName": "­강수빈(학부/공과대학 컴퓨터과학)",
      "photoUrl": "",
      "userId": "07352247864639375532"
     },
     "user_tz": -540
    },
    "id": "U7YZccrzZnGG"
   },
   "outputs": [],
   "source": [
    "age_chi2, age_pvalue, age_dof, age_expected = scipy.stats.chi2_contingency(ticket_age)\n",
    "dist_chi2, dist_pvalue, dist_dof, dist_expected = scipy.stats.chi2_contingency(ticket_dist)\n",
    "time_chi2, time_pvalue, time_dof, time_expected = scipy.stats.chi2_contingency(ticket_time)\n",
    "gender_chi2, gender_pvalue, gender_dof, gender_expected = scipy.stats.chi2_contingency(ticket_gender)\n",
    "oper_chi2, oper_pvalue, oper_dof, oper_expected = scipy.stats.chi2_contingency(ticket_oper)"
   ]
  },
  {
   "cell_type": "code",
   "execution_count": 20,
   "metadata": {
    "colab": {
     "base_uri": "https://localhost:8080/"
    },
    "executionInfo": {
     "elapsed": 4113,
     "status": "ok",
     "timestamp": 1616091629688,
     "user": {
      "displayName": "­강수빈(학부/공과대학 컴퓨터과학)",
      "photoUrl": "",
      "userId": "07352247864639375532"
     },
     "user_tz": -540
    },
    "id": "PE3AwIIqbjlq",
    "outputId": "350b1da3-a715-4789-d39b-3745dad1e6cd"
   },
   "outputs": [
    {
     "name": "stdout",
     "output_type": "stream",
     "text": [
      "'이용권-연령대'간 카이제곱검정으로부터의 chi2: 136653.531\n",
      "'이용권-이동거리'간 카이제곱검정으로부터의 chi2: 10033.340\n",
      "'이용권-이동시간'간 카이제곱검정으로부터의 chi2: 12718.605\n",
      "'이용권-성별'간 카이제곱검정으로부터의 chi2: 1100.478\n",
      "'이용권-운영방식'간 카이제곱검정으로부터의 chi2: 7.212\n"
     ]
    }
   ],
   "source": [
    "print(\"'이용권-연령대'간 카이제곱검정으로부터의 chi2: %.3f\" % age_chi2)\n",
    "print(\"'이용권-이동거리'간 카이제곱검정으로부터의 chi2: %.3f\" % dist_chi2)\n",
    "print(\"'이용권-이동시간'간 카이제곱검정으로부터의 chi2: %.3f\" % time_chi2)\n",
    "print(\"'이용권-성별'간 카이제곱검정으로부터의 chi2: %.3f\" % gender_chi2)\n",
    "print(\"'이용권-운영방식'간 카이제곱검정으로부터의 chi2: %.3f\" % oper_chi2)"
   ]
  },
  {
   "cell_type": "code",
   "execution_count": 21,
   "metadata": {
    "colab": {
     "base_uri": "https://localhost:8080/"
    },
    "executionInfo": {
     "elapsed": 3553,
     "status": "ok",
     "timestamp": 1616091629689,
     "user": {
      "displayName": "­강수빈(학부/공과대학 컴퓨터과학)",
      "photoUrl": "",
      "userId": "07352247864639375532"
     },
     "user_tz": -540
    },
    "id": "8Of-s7K2a5SV",
    "outputId": "4daae1b4-7ecc-422d-ec92-a0565f70a360"
   },
   "outputs": [
    {
     "name": "stdout",
     "output_type": "stream",
     "text": [
      "'이용권-연령대'간 카이제곱검정으로부터의 pvalue: 0.000\n",
      "'이용권-이동거리'간 카이제곱검정으로부터의 pvalue: 0.000\n",
      "'이용권-이동시간'간 카이제곱검정으로부터의 pvalue: 0.000\n",
      "'이용권-성별'간 카이제곱검정으로부터의 pvalue: 0.000\n",
      "'이용권-운영방식'간 카이제곱검정으로부터의 pvalue: 0.065\n"
     ]
    }
   ],
   "source": [
    "print(\"'이용권-연령대'간 카이제곱검정으로부터의 pvalue: %.3f\" % age_pvalue)\n",
    "print(\"'이용권-이동거리'간 카이제곱검정으로부터의 pvalue: %.3f\" % dist_pvalue)\n",
    "print(\"'이용권-이동시간'간 카이제곱검정으로부터의 pvalue: %.3f\" % time_pvalue)\n",
    "print(\"'이용권-성별'간 카이제곱검정으로부터의 pvalue: %.3f\" % gender_pvalue)\n",
    "print(\"'이용권-운영방식'간 카이제곱검정으로부터의 pvalue: %.3f\" % oper_pvalue)"
   ]
  },
  {
   "cell_type": "code",
   "execution_count": null,
   "metadata": {
    "id": "nsIkPfcdkTox"
   },
   "outputs": [],
   "source": []
  }
 ],
 "metadata": {
  "accelerator": "GPU",
  "colab": {
   "name": "HW1_total.ipynb",
   "provenance": []
  },
  "kernelspec": {
   "display_name": "Python 3",
   "language": "python",
   "name": "python3"
  },
  "language_info": {
   "codemirror_mode": {
    "name": "ipython",
    "version": 3
   },
   "file_extension": ".py",
   "mimetype": "text/x-python",
   "name": "python",
   "nbconvert_exporter": "python",
   "pygments_lexer": "ipython3",
   "version": "3.8.5"
  }
 },
 "nbformat": 4,
 "nbformat_minor": 1
}
